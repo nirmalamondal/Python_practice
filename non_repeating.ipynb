/*First Unique Character in a String

Given a string s, find the first non-repeating character in it and return its index. If it does not exist, return -1.

Example 1:
Input: s = "leetcode"
Output: 0

Example 2:
Input: s = "loveleetcode"
Output: 2

Example 3:
Input: s = "aabb"
Output: -1

Constraints:
a. 1 <= s.length <= 10^5
b. s consists of only lowercase English letters.
*/

#include<bits/stdc++.h>  
using namespace std;

int solution(vector<int> v){
	int n = v.size();
	unordered_map<char,int>M;
	for(int i=0;i<n;i++){
		M[v[i]]++;	
	}
	char ans;
	for(auto it:M)
 {
     if(it.second==1)
     ans =  it.first;
 }
   
    for(int i=0;i<n;i++){
        if(v[i]==ans)
           return i;
    }
	return -1;
	
    }
	        
	    

int main(){
	int t;
    cin>>t;
    while(t--){
	    string s;
	    cin>>s;
	    vector<int>arr;
	    for(int i=0;i<s.length();i++){
		    char x = s[i];
		    arr.push_back(x);
	    }
	    cout<<solution(arr)<<endl;   

	}
    return 0;	
}	 
