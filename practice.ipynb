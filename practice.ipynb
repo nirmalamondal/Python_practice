{
 "cells": [
  {
   "cell_type": "code",
   "execution_count": 1,
   "id": "ff06680a-cf88-4ed9-9027-0016da0194c5",
   "metadata": {},
   "outputs": [],
   "source": [
    "l = [\"nirmala\", \"riya\",\"priya\",\"namita\"]"
   ]
  },
  {
   "cell_type": "code",
   "execution_count": 2,
   "id": "8bf2e4d1-5a4a-4b79-9ac5-abfa11ca2aa1",
   "metadata": {},
   "outputs": [
    {
     "name": "stdout",
     "output_type": "stream",
     "text": [
      "nirmala\n",
      "riya\n",
      "priya\n",
      "namita\n"
     ]
    }
   ],
   "source": [
    "for i in l:\n",
    "    print(i)"
   ]
  },
  {
   "cell_type": "code",
   "execution_count": 3,
   "id": "8eb2ce5d-ef1a-4ac1-a47c-4c243531782a",
   "metadata": {},
   "outputs": [
    {
     "name": "stdout",
     "output_type": "stream",
     "text": [
      "nirmala\n",
      "riya\n",
      "priya\n",
      "namita\n",
      "if for loop is able to complete itself then only else will execute\n"
     ]
    }
   ],
   "source": [
    "for i in l:\n",
    "    print(i)\n",
    "else:\n",
    "    print(\"if for loop is able to complete itself then only else will execute\")"
   ]
  },
  {
   "cell_type": "code",
   "execution_count": 4,
   "id": "f901ba65-1745-473f-bb36-36bc10f5ef11",
   "metadata": {},
   "outputs": [
    {
     "name": "stdout",
     "output_type": "stream",
     "text": [
      "nirmala\n",
      "riya\n"
     ]
    }
   ],
   "source": [
    "for i in l:\n",
    "    if i == \"priya\":\n",
    "        break\n",
    "    print(i)    "
   ]
  },
  {
   "cell_type": "code",
   "execution_count": 5,
   "id": "2bdbf6b1-bf73-4cf1-9370-5b5f814e017d",
   "metadata": {},
   "outputs": [
    {
     "name": "stdout",
     "output_type": "stream",
     "text": [
      "nirmala\n",
      "riya\n"
     ]
    }
   ],
   "source": [
    "for i in l:\n",
    "    if i == \"priya\":\n",
    "        break\n",
    "    print(i)    \n",
    "else:\n",
    "    print(\"if for loop is able to complete itself then only else will execute\")    "
   ]
  },
  {
   "cell_type": "code",
   "execution_count": 6,
   "id": "41d7b1d9-4ed8-4fe0-850f-858794ad8257",
   "metadata": {},
   "outputs": [
    {
     "name": "stdout",
     "output_type": "stream",
     "text": [
      "nirmala\n",
      "riya\n",
      "namita\n",
      "if for loop is able to complete itself then only else will execute\n"
     ]
    }
   ],
   "source": [
    "for i in l:\n",
    "    if i == \"priya\":\n",
    "        continue\n",
    "    print(i)    \n",
    "else:\n",
    "    print(\"if for loop is able to complete itself then only else will execute\")    "
   ]
  },
  {
   "cell_type": "code",
   "execution_count": null,
   "id": "869717ca-0d90-4e40-a127-9872ff9c87be",
   "metadata": {},
   "outputs": [],
   "source": []
  }
 ],
 "metadata": {
  "kernelspec": {
   "display_name": "Python 3 (ipykernel)",
   "language": "python",
   "name": "python3"
  },
  "language_info": {
   "codemirror_mode": {
    "name": "ipython",
    "version": 3
   },
   "file_extension": ".py",
   "mimetype": "text/x-python",
   "name": "python",
   "nbconvert_exporter": "python",
   "pygments_lexer": "ipython3",
   "version": "3.10.8"
  }
 },
 "nbformat": 4,
 "nbformat_minor": 5
}
