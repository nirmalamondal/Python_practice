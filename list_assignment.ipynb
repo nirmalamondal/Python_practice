{
 "cells": [
  {
   "cell_type": "code",
   "execution_count": 4,
   "id": "93bdaca0-bdb5-44c7-b3fa-0cd8943279c5",
   "metadata": {},
   "outputs": [
    {
     "name": "stdout",
     "output_type": "stream",
     "text": [
      "[]\n",
      "[11, 3, 52, 18]\n",
      "18\n",
      "[18, 52, 3, 11]\n",
      "[3, 11, 18, 52]\n",
      "URI\n",
      "['Dog', 'Cat', 'Rabbit', 'Squirrel']\n",
      "1\n"
     ]
    }
   ],
   "source": [
    "#Q1. Create an empty list.\n",
    "\n",
    "l = []\n",
    "print(l)\n",
    "#Q2. Create a list and add an element to the end of this list.\n",
    "l1= [11,3,52]\n",
    "l1.append(18)\n",
    "print(l1)\n",
    "#Q3. For the above created list print the last element.\n",
    "print(l1[-1])\n",
    "#Q4. Reverse the above created list.\n",
    "print(l1[::-1])\n",
    "#Q5. Sort the above created list.\n",
    "l1.sort()\n",
    "print(l1)\n",
    "#Q6. Create a list of your top three favorite movies, then print the second movie title.\n",
    "movies = ['MSD','URI','TENET']\n",
    "print(movies[1])\n",
    "#Q7. Create a list of your favorite animals, then add a new animal to the list and print the updated list.\n",
    "animals = ['Dog','Cat','Rabbit']\n",
    "animals.append('Squirrel')\n",
    "print(animals)\n",
    "#Q8. Create a list of your favorite cities, then use the index() method to find the position of a specific city on the list and print it.\n",
    "cities = ['Bengalore','Kolkata','Mumbai','Hydrabad']\n",
    "print(cities.index('Kolkata'))"
   ]
  },
  {
   "cell_type": "code",
   "execution_count": null,
   "id": "97b21c09-0081-4fbd-8591-1830c6893443",
   "metadata": {},
   "outputs": [],
   "source": []
  }
 ],
 "metadata": {
  "kernelspec": {
   "display_name": "Python 3 (ipykernel)",
   "language": "python",
   "name": "python3"
  },
  "language_info": {
   "codemirror_mode": {
    "name": "ipython",
    "version": 3
   },
   "file_extension": ".py",
   "mimetype": "text/x-python",
   "name": "python",
   "nbconvert_exporter": "python",
   "pygments_lexer": "ipython3",
   "version": "3.10.8"
  }
 },
 "nbformat": 4,
 "nbformat_minor": 5
}
