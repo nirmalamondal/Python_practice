{
 "cells": [
  {
   "cell_type": "code",
   "execution_count": 13,
   "id": "b352d7d0-aa96-451c-9c68-2201c43f0b5d",
   "metadata": {},
   "outputs": [
    {
     "name": "stdout",
     "output_type": "stream",
     "text": [
      "Virat\n",
      "5.2928924560546875e-05\n"
     ]
    }
   ],
   "source": [
    "import time\n",
    "\n",
    "def timer_test(func):\n",
    "    def times():\n",
    "        start = time.time()\n",
    "        func()\n",
    "        end = time.time()\n",
    "        print(end - start)\n",
    "    return times    \n",
    "\n",
    "\n",
    "@timer_test\n",
    "def test2():\n",
    "    print(\"Virat\")\n",
    "    \n",
    "    \n",
    "test2()    \n"
   ]
  },
  {
   "cell_type": "code",
   "execution_count": null,
   "id": "048eeda2-a16c-4fb3-a223-b28ad0618306",
   "metadata": {},
   "outputs": [],
   "source": []
  }
 ],
 "metadata": {
  "kernelspec": {
   "display_name": "Python 3 (ipykernel)",
   "language": "python",
   "name": "python3"
  },
  "language_info": {
   "codemirror_mode": {
    "name": "ipython",
    "version": 3
   },
   "file_extension": ".py",
   "mimetype": "text/x-python",
   "name": "python",
   "nbconvert_exporter": "python",
   "pygments_lexer": "ipython3",
   "version": "3.10.8"
  }
 },
 "nbformat": 4,
 "nbformat_minor": 5
}
