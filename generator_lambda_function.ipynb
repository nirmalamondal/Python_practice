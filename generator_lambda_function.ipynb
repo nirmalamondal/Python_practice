{
 "cells": [
  {
   "cell_type": "code",
   "execution_count": 1,
   "id": "e4cc2fdd-cc21-461e-9c5f-a65fc2a053d9",
   "metadata": {},
   "outputs": [
    {
     "name": "stdout",
     "output_type": "stream",
     "text": [
      "0\n",
      "1\n",
      "1\n",
      "2\n",
      "3\n",
      "5\n",
      "8\n",
      "13\n",
      "21\n",
      "34\n"
     ]
    }
   ],
   "source": [
    "def fib(n):\n",
    "    a,b =0,1\n",
    "    for i in range(n):\n",
    "        yield a\n",
    "        a,b = b,a+b\n",
    "for  i in fib(10) : \n",
    "    print(i)"
   ]
  },
  {
   "cell_type": "code",
   "execution_count": 8,
   "id": "98ee60ee-0600-4348-8ddf-f4d89c0625a1",
   "metadata": {},
   "outputs": [
    {
     "name": "stdout",
     "output_type": "stream",
     "text": [
      "0\n",
      "1\n",
      "1\n",
      "2\n",
      "3\n",
      "5\n",
      "8\n",
      "13\n",
      "21\n",
      "34\n"
     ]
    }
   ],
   "source": [
    "def fib(n):\n",
    "    a,b =0,1\n",
    "    while True:\n",
    "        yield a\n",
    "        a,b = b,a+b\n",
    "fibo = fib(10)        \n",
    "for  i in range(10) : \n",
    "    print(next(fibo))"
   ]
  },
  {
   "cell_type": "code",
   "execution_count": 10,
   "id": "0cc439de-d071-41fd-a879-88077e8c46a9",
   "metadata": {},
   "outputs": [
    {
     "name": "stdout",
     "output_type": "stream",
     "text": [
      "n\n",
      "i\n",
      "r\n",
      "m\n",
      "a\n"
     ]
    }
   ],
   "source": [
    "s = \"nirmala\"\n",
    "s1 = iter(s)\n",
    "print(next(s1))\n",
    "print(next(s1))\n",
    "print(next(s1))\n",
    "print(next(s1))\n",
    "print(next(s1))"
   ]
  },
  {
   "cell_type": "code",
   "execution_count": 11,
   "id": "19b3a724-88bf-4af9-a1a8-196872a8f71b",
   "metadata": {},
   "outputs": [
    {
     "ename": "TypeError",
     "evalue": "'int' object is not iterable",
     "output_type": "error",
     "traceback": [
      "\u001b[0;31m---------------------------------------------------------------------------\u001b[0m",
      "\u001b[0;31mTypeError\u001b[0m                                 Traceback (most recent call last)",
      "Cell \u001b[0;32mIn[11], line 2\u001b[0m\n\u001b[1;32m      1\u001b[0m n \u001b[38;5;241m=\u001b[39m \u001b[38;5;241m234\u001b[39m\n\u001b[0;32m----> 2\u001b[0m \u001b[38;5;28;43miter\u001b[39;49m\u001b[43m(\u001b[49m\u001b[38;5;241;43m234\u001b[39;49m\u001b[43m)\u001b[49m\n",
      "\u001b[0;31mTypeError\u001b[0m: 'int' object is not iterable"
     ]
    }
   ],
   "source": [
    "n = 234\n",
    "iter(234)\n"
   ]
  },
  {
   "cell_type": "code",
   "execution_count": 12,
   "id": "c9ee3ede-a3b0-40b0-aeed-c98dfe4ca021",
   "metadata": {},
   "outputs": [],
   "source": [
    "# every iterable object supports iter like string but interger is not iterable \n",
    "# so it doesnot supports iter() also .Using yield keyword we can create a generator\n",
    "# in case of return the multiple value stores in a list then together it return all those value in whichrequired  memory space is high \n",
    "# But in case of yield it immideatly return the value so need to store. So the largeg memory space  is not required."
   ]
  },
  {
   "cell_type": "code",
   "execution_count": 14,
   "id": "81fe4de9-e0ba-494c-877a-ee9468e8ec4a",
   "metadata": {},
   "outputs": [
    {
     "name": "stdout",
     "output_type": "stream",
     "text": [
      "1\n",
      "2\n",
      "3\n",
      "4\n",
      "5\n"
     ]
    }
   ],
   "source": [
    "def test(n):\n",
    "    count = 1\n",
    "    while count <= n:\n",
    "        yield count\n",
    "        count += 1\n",
    "cn = test(5)\n",
    "for i in range(5):\n",
    "    print(next(cn))\n",
    "    "
   ]
  },
  {
   "cell_type": "code",
   "execution_count": 15,
   "id": "2a7ae1e9-4964-42f9-be08-e5f7c4810c49",
   "metadata": {},
   "outputs": [
    {
     "name": "stdout",
     "output_type": "stream",
     "text": [
      "16\n"
     ]
    }
   ],
   "source": [
    "# LAMBDA  FUNCTION\n",
    "a = lambda n,p : n**p\n",
    "print(a(2,4))"
   ]
  },
  {
   "cell_type": "code",
   "execution_count": 16,
   "id": "83ff674b-e0de-43bb-9e7e-535778b61af1",
   "metadata": {},
   "outputs": [
    {
     "name": "stdout",
     "output_type": "stream",
     "text": [
      "6\n"
     ]
    }
   ],
   "source": [
    "add = lambda n,p : n+p\n",
    "print(add(2,4))"
   ]
  },
  {
   "cell_type": "code",
   "execution_count": 17,
   "id": "68815466-8d17-4060-bc39-2141dae46692",
   "metadata": {},
   "outputs": [
    {
     "name": "stdout",
     "output_type": "stream",
     "text": [
      "78.80000000000001\n"
     ]
    }
   ],
   "source": [
    "c_to_f = lambda c: (9/5*c) + 32\n",
    "print(c_to_f(26))"
   ]
  },
  {
   "cell_type": "code",
   "execution_count": 18,
   "id": "256af46d-3d4e-4426-a1d1-8d6e7a3290b2",
   "metadata": {},
   "outputs": [
    {
     "name": "stdout",
     "output_type": "stream",
     "text": [
      "6\n"
     ]
    }
   ],
   "source": [
    "finding_max = lambda x,y,z: max(x,y,z)\n",
    "print(finding_max(3,6,1))"
   ]
  },
  {
   "cell_type": "code",
   "execution_count": null,
   "id": "c1a3543e-2ec4-4720-bbf9-2a9943a23121",
   "metadata": {},
   "outputs": [],
   "source": []
  }
 ],
 "metadata": {
  "kernelspec": {
   "display_name": "Python 3 (ipykernel)",
   "language": "python",
   "name": "python3"
  },
  "language_info": {
   "codemirror_mode": {
    "name": "ipython",
    "version": 3
   },
   "file_extension": ".py",
   "mimetype": "text/x-python",
   "name": "python",
   "nbconvert_exporter": "python",
   "pygments_lexer": "ipython3",
   "version": "3.10.8"
  }
 },
 "nbformat": 4,
 "nbformat_minor": 5
}
