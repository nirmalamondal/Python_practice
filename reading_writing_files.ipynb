{
 "cells": [
  {
   "cell_type": "code",
   "execution_count": 20,
   "id": "c91a3ea2-a473-4a2f-abd4-1a22feb42a88",
   "metadata": {},
   "outputs": [],
   "source": [
    "data = {'name':\"nirmala\",\n",
    "         'roll': 19,\n",
    "        'phone_no': 557698,\n",
    "        'skills': ['c','cpp','ds','python','ml']\n",
    "          }"
   ]
  },
  {
   "cell_type": "code",
   "execution_count": 21,
   "id": "507c98b6-d6a4-4f39-81a4-6d43bbf6c82e",
   "metadata": {},
   "outputs": [],
   "source": [
    "import json"
   ]
  },
  {
   "cell_type": "code",
   "execution_count": 22,
   "id": "f29d4fcc-c1de-460f-8d45-7bd2c2db94be",
   "metadata": {},
   "outputs": [],
   "source": [
    "with open(\"data.json\",'w') as f:\n",
    "    json.dump(data,f)"
   ]
  },
  {
   "cell_type": "code",
   "execution_count": 23,
   "id": "2a01cbad-80b8-4552-baad-5043fb7455ac",
   "metadata": {},
   "outputs": [],
   "source": [
    "with open(\"data.json\",'r') as f:\n",
    "    data1 = json.load(f)"
   ]
  },
  {
   "cell_type": "code",
   "execution_count": 24,
   "id": "02c0b257-fdce-4287-be4b-f8b53c9634e8",
   "metadata": {},
   "outputs": [
    {
     "data": {
      "text/plain": [
       "{'name': 'nirmala',\n",
       " 'roll': 19,\n",
       " 'phone_no': 557698,\n",
       " 'skills': ['c', 'cpp', 'ds', 'python', 'ml']}"
      ]
     },
     "execution_count": 24,
     "metadata": {},
     "output_type": "execute_result"
    }
   ],
   "source": [
    "data1"
   ]
  },
  {
   "cell_type": "code",
   "execution_count": 25,
   "id": "81a860bd-4045-4a99-a6bf-78696e7612ab",
   "metadata": {},
   "outputs": [
    {
     "data": {
      "text/plain": [
       "557698"
      ]
     },
     "execution_count": 25,
     "metadata": {},
     "output_type": "execute_result"
    }
   ],
   "source": [
    "data1['phone_no']"
   ]
  },
  {
   "cell_type": "code",
   "execution_count": 26,
   "id": "0bcb5e8d-8b64-461c-8095-2f542c910c54",
   "metadata": {},
   "outputs": [],
   "source": [
    "import csv"
   ]
  },
  {
   "cell_type": "code",
   "execution_count": 27,
   "id": "dbce01a7-b31a-4886-87a4-46b3c32a473e",
   "metadata": {},
   "outputs": [],
   "source": [
    "data3 = [['name','city','phone'],\n",
    "         [\"nirmala\",'Dugapur',675876],\n",
    "         [\"riya\",\"Kolkata\",9875],\n",
    "         [\"Nilu\",\"Bengalore\",435456]\n",
    "        ]"
   ]
  },
  {
   "cell_type": "code",
   "execution_count": 28,
   "id": "1fa7af11-6242-49eb-9b99-98c226b0379a",
   "metadata": {},
   "outputs": [],
   "source": [
    "with open(\"data3.csv\",'w') as f:\n",
    "    writer = csv.writer(f)\n",
    "    for i in data3:\n",
    "        writer.writerow(i)\n",
    "        "
   ]
  },
  {
   "cell_type": "code",
   "execution_count": 29,
   "id": "2b849ad5-0c68-4dcf-bd36-f72b7aba2d16",
   "metadata": {},
   "outputs": [
    {
     "name": "stdout",
     "output_type": "stream",
     "text": [
      "['name', 'city', 'phone']\n",
      "['nirmala', 'Dugapur', '675876']\n",
      "['riya', 'Kolkata', '9875']\n",
      "['Nilu', 'Bengalore', '435456']\n"
     ]
    }
   ],
   "source": [
    "with open(\"data3.csv\",'r') as f:\n",
    "    data4 = csv.reader(f)\n",
    "    \n",
    "    for i in data4:\n",
    "        print(i)"
   ]
  },
  {
   "cell_type": "code",
   "execution_count": 30,
   "id": "1f08b472-510a-44f5-9ab0-e55fa798b163",
   "metadata": {},
   "outputs": [],
   "source": [
    "with open(\"test4.bin\",'wb') as f:\n",
    "    f.write(b\"\\x01\\x02\\x03\")"
   ]
  },
  {
   "cell_type": "code",
   "execution_count": 31,
   "id": "ce071ffc-0224-4524-9afc-fcb52f26b15b",
   "metadata": {},
   "outputs": [
    {
     "name": "stdout",
     "output_type": "stream",
     "text": [
      "b'\\x01\\x02\\x03'\n"
     ]
    }
   ],
   "source": [
    "with open(\"test4.bin\",'rb') as f:\n",
    "    print(f.read())"
   ]
  },
  {
   "cell_type": "code",
   "execution_count": null,
   "id": "a3f28ffa-d2a2-4231-9b63-d56c5110160a",
   "metadata": {},
   "outputs": [],
   "source": []
  }
 ],
 "metadata": {
  "kernelspec": {
   "display_name": "Python 3 (ipykernel)",
   "language": "python",
   "name": "python3"
  },
  "language_info": {
   "codemirror_mode": {
    "name": "ipython",
    "version": 3
   },
   "file_extension": ".py",
   "mimetype": "text/x-python",
   "name": "python",
   "nbconvert_exporter": "python",
   "pygments_lexer": "ipython3",
   "version": "3.10.8"
  }
 },
 "nbformat": 4,
 "nbformat_minor": 5
}
