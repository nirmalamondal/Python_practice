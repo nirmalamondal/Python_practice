{
 "cells": [
  {
   "cell_type": "code",
   "execution_count": 2,
   "id": "ff06680a-cf88-4ed9-9027-0016da0194c5",
   "metadata": {},
   "outputs": [],
   "source": [
    "l = [\"nirmala\", \"riya\",\"priya\",\"namita\"]"
   ]
  },
  {
   "cell_type": "code",
   "execution_count": 3,
   "id": "8bf2e4d1-5a4a-4b79-9ac5-abfa11ca2aa1",
   "metadata": {},
   "outputs": [
    {
     "name": "stdout",
     "output_type": "stream",
     "text": [
      "nirmala\n",
      "riya\n",
      "priya\n",
      "namita\n"
     ]
    }
   ],
   "source": [
    "for i in l:\n",
    "    print(i)"
   ]
  },
  {
   "cell_type": "code",
   "execution_count": 4,
   "id": "8eb2ce5d-ef1a-4ac1-a47c-4c243531782a",
   "metadata": {},
   "outputs": [
    {
     "name": "stdout",
     "output_type": "stream",
     "text": [
      "nirmala\n",
      "riya\n",
      "priya\n",
      "namita\n",
      "if for loop is able to complete itself then only else will execute\n"
     ]
    }
   ],
   "source": [
    "for i in l:\n",
    "    print(i)\n",
    "else:\n",
    "    print(\"if for loop is able to complete itself then only else will execute\")"
   ]
  },
  {
   "cell_type": "code",
   "execution_count": 5,
   "id": "f901ba65-1745-473f-bb36-36bc10f5ef11",
   "metadata": {},
   "outputs": [
    {
     "name": "stdout",
     "output_type": "stream",
     "text": [
      "nirmala\n",
      "riya\n"
     ]
    }
   ],
   "source": [
    "for i in l:\n",
    "    if i == \"priya\":\n",
    "        break\n",
    "    print(i)    "
   ]
  },
  {
   "cell_type": "code",
   "execution_count": 6,
   "id": "2bdbf6b1-bf73-4cf1-9370-5b5f814e017d",
   "metadata": {},
   "outputs": [
    {
     "name": "stdout",
     "output_type": "stream",
     "text": [
      "nirmala\n",
      "riya\n"
     ]
    }
   ],
   "source": [
    "for i in l:\n",
    "    if i == \"priya\":\n",
    "        break\n",
    "    print(i)    \n",
    "else:\n",
    "    print(\"if for loop is able to complete itself then only else will execute\")    "
   ]
  },
  {
   "cell_type": "code",
   "execution_count": 7,
   "id": "41d7b1d9-4ed8-4fe0-850f-858794ad8257",
   "metadata": {},
   "outputs": [
    {
     "name": "stdout",
     "output_type": "stream",
     "text": [
      "nirmala\n",
      "riya\n",
      "namita\n",
      "if for loop is able to complete itself then only else will execute\n"
     ]
    }
   ],
   "source": [
    "for i in l:\n",
    "    if i == \"priya\":\n",
    "        continue\n",
    "    print(i)    \n",
    "else:\n",
    "    print(\"if for loop is able to complete itself then only else will execute\")    "
   ]
  },
  {
   "cell_type": "code",
   "execution_count": 8,
   "id": "869717ca-0d90-4e40-a127-9872ff9c87be",
   "metadata": {},
   "outputs": [
    {
     "data": {
      "text/plain": [
       "[0, 1, 2, 3, 4]"
      ]
     },
     "execution_count": 8,
     "metadata": {},
     "output_type": "execute_result"
    }
   ],
   "source": [
    "list(range(0,5))"
   ]
  },
  {
   "cell_type": "code",
   "execution_count": 9,
   "id": "b7a04c74-9487-43d3-9be0-c457af1dfbcb",
   "metadata": {},
   "outputs": [
    {
     "data": {
      "text/plain": [
       "[0, 2, 4, 6, 8, 10, 12, 14, 16, 18]"
      ]
     },
     "execution_count": 9,
     "metadata": {},
     "output_type": "execute_result"
    }
   ],
   "source": [
    "list(range(0,20,2))"
   ]
  },
  {
   "cell_type": "code",
   "execution_count": 10,
   "id": "fb8a0a02-013d-4155-8dc6-3a0585b7d863",
   "metadata": {},
   "outputs": [
    {
     "data": {
      "text/plain": [
       "[-20, -18, -16, -14, -12, -10, -8, -6, -4, -2]"
      ]
     },
     "execution_count": 10,
     "metadata": {},
     "output_type": "execute_result"
    }
   ],
   "source": [
    "list(range(-20,0,2))"
   ]
  },
  {
   "cell_type": "code",
   "execution_count": 11,
   "id": "996b9f5b-15d2-446c-902b-9efd61612451",
   "metadata": {},
   "outputs": [
    {
     "name": "stdout",
     "output_type": "stream",
     "text": [
      "nirmala\n",
      "riya\n",
      "priya\n",
      "namita\n"
     ]
    }
   ],
   "source": [
    "for i in range(len(l)):\n",
    "    print(l[i])"
   ]
  },
  {
   "cell_type": "code",
   "execution_count": 12,
   "id": "c567a67c-97db-49b1-9237-11db88a1d7eb",
   "metadata": {},
   "outputs": [
    {
     "name": "stdout",
     "output_type": "stream",
     "text": [
      "namita\n",
      "priya\n",
      "riya\n",
      "nirmala\n"
     ]
    }
   ],
   "source": [
    "for i in range(len(l)-1,-1,-1):\n",
    "    print(l[i])"
   ]
  },
  {
   "cell_type": "code",
   "execution_count": 13,
   "id": "325f1773-e345-416a-b941-b2dc35befbe2",
   "metadata": {},
   "outputs": [
    {
     "ename": "IndexError",
     "evalue": "list index out of range",
     "output_type": "error",
     "traceback": [
      "\u001b[0;31m---------------------------------------------------------------------------\u001b[0m",
      "\u001b[0;31mIndexError\u001b[0m                                Traceback (most recent call last)",
      "Cell \u001b[0;32mIn[13], line 2\u001b[0m\n\u001b[1;32m      1\u001b[0m \u001b[38;5;28;01mfor\u001b[39;00m i \u001b[38;5;129;01min\u001b[39;00m \u001b[38;5;28mrange\u001b[39m(\u001b[38;5;28mlen\u001b[39m(l),\u001b[38;5;241m-\u001b[39m\u001b[38;5;241m1\u001b[39m,\u001b[38;5;241m-\u001b[39m\u001b[38;5;241m1\u001b[39m):\n\u001b[0;32m----> 2\u001b[0m     \u001b[38;5;28mprint\u001b[39m(\u001b[43ml\u001b[49m\u001b[43m[\u001b[49m\u001b[43mi\u001b[49m\u001b[43m]\u001b[49m)\n",
      "\u001b[0;31mIndexError\u001b[0m: list index out of range"
     ]
    }
   ],
   "source": [
    "for i in range(len(l),-1,-1):\n",
    "    print(l[i])"
   ]
  },
  {
   "cell_type": "code",
   "execution_count": 14,
   "id": "25799398-e8d0-42a1-937d-d47a71ad7545",
   "metadata": {},
   "outputs": [
    {
     "name": "stdout",
     "output_type": "stream",
     "text": [
      "namita\n",
      "priya\n",
      "riya\n"
     ]
    }
   ],
   "source": [
    "for i in range(len(l)-1,0,-1):\n",
    "    print(l[i])"
   ]
  },
  {
   "cell_type": "code",
   "execution_count": 15,
   "id": "ddce6aba-888a-4494-850f-370cb42ee5b8",
   "metadata": {},
   "outputs": [],
   "source": [
    "for i in range(len(l)-1,-1):\n",
    "    print(l[i])"
   ]
  },
  {
   "cell_type": "code",
   "execution_count": 16,
   "id": "39e3e220-2e13-4f88-8569-53860027ed48",
   "metadata": {},
   "outputs": [],
   "source": [
    "l3 = [35,8,6,2,5,56,9,89,4,10,0,78,93,3,3,6,8,1,8,]"
   ]
  },
  {
   "cell_type": "code",
   "execution_count": 17,
   "id": "fa800658-a258-4e53-a9e3-ce110a42522a",
   "metadata": {},
   "outputs": [
    {
     "name": "stdout",
     "output_type": "stream",
     "text": [
      "35\n",
      "6\n",
      "5\n",
      "9\n",
      "4\n",
      "0\n",
      "93\n",
      "3\n",
      "8\n",
      "8\n"
     ]
    }
   ],
   "source": [
    "for i in range(len(l3)):\n",
    "    if i%2 == 0 :\n",
    "        print(l3[i])"
   ]
  },
  {
   "cell_type": "code",
   "execution_count": 18,
   "id": "db007bdd-2585-418c-a189-300e4c64ba2a",
   "metadata": {},
   "outputs": [
    {
     "name": "stdout",
     "output_type": "stream",
     "text": [
      "35\n",
      "6\n",
      "5\n",
      "9\n",
      "4\n",
      "0\n",
      "93\n",
      "3\n",
      "8\n",
      "8\n"
     ]
    }
   ],
   "source": [
    "for i in range(0,len(l3),2):\n",
    "    print(l3[i])"
   ]
  },
  {
   "cell_type": "code",
   "execution_count": 19,
   "id": "584dff1d-94b6-4aba-85ae-a3ea7058c6a0",
   "metadata": {},
   "outputs": [
    {
     "name": "stdout",
     "output_type": "stream",
     "text": [
      "424\n"
     ]
    }
   ],
   "source": [
    "sum1 = 0\n",
    "for i in range(len(l3)):\n",
    "    sum1 += l3[i]\n",
    "print(sum1)    "
   ]
  },
  {
   "cell_type": "code",
   "execution_count": 20,
   "id": "07fced60-ef27-4c7c-9c09-1201ecef4dc7",
   "metadata": {},
   "outputs": [
    {
     "data": {
      "text/plain": [
       "424"
      ]
     },
     "execution_count": 20,
     "metadata": {},
     "output_type": "execute_result"
    }
   ],
   "source": [
    "sum(l3)"
   ]
  },
  {
   "cell_type": "code",
   "execution_count": 21,
   "id": "72be582d-0b13-4bb0-8d3b-39cff4385382",
   "metadata": {},
   "outputs": [],
   "source": [
    "s1 = \"hello\""
   ]
  },
  {
   "cell_type": "code",
   "execution_count": 23,
   "id": "ac17bc9a-0261-4027-afa2-40d8ca24ec9a",
   "metadata": {},
   "outputs": [
    {
     "name": "stdout",
     "output_type": "stream",
     "text": [
      "h\n",
      "e\n",
      "l\n",
      "l\n",
      "o\n"
     ]
    }
   ],
   "source": [
    "for i in s1:\n",
    "    print(i)"
   ]
  },
  {
   "cell_type": "code",
   "execution_count": 24,
   "id": "6777b698-9ef6-44d9-8c39-ac8bf669e428",
   "metadata": {},
   "outputs": [
    {
     "name": "stdout",
     "output_type": "stream",
     "text": [
      "1\n",
      "2\n",
      "3\n",
      "5\n",
      "7\n"
     ]
    }
   ],
   "source": [
    "t = (1,2,3,5,7)\n",
    "for i in t:\n",
    "    print(i)"
   ]
  },
  {
   "cell_type": "code",
   "execution_count": 25,
   "id": "938ca0ab-1029-4fa9-9975-da4514d3eba1",
   "metadata": {},
   "outputs": [
    {
     "name": "stdout",
     "output_type": "stream",
     "text": [
      "2\n",
      "4\n",
      "6\n"
     ]
    }
   ],
   "source": [
    "se = {1,3,5}\n",
    "for i in se:\n",
    "    print(i+1)"
   ]
  },
  {
   "cell_type": "code",
   "execution_count": 27,
   "id": "452ebb2e-ff8a-4223-877a-e10dd7c9eb60",
   "metadata": {},
   "outputs": [],
   "source": [
    "d = {\"name\" : 'Nirmala', \"year\" : 3 , \"skills\":['c','cpp','python']}"
   ]
  },
  {
   "cell_type": "code",
   "execution_count": 28,
   "id": "ecf1d01c-a13b-4011-abec-e0392dfa0b99",
   "metadata": {},
   "outputs": [
    {
     "data": {
      "text/plain": [
       "{'name': 'Nirmala', 'year': 3, 'skills': ['c', 'cpp', 'python']}"
      ]
     },
     "execution_count": 28,
     "metadata": {},
     "output_type": "execute_result"
    }
   ],
   "source": [
    "d"
   ]
  },
  {
   "cell_type": "code",
   "execution_count": 30,
   "id": "883f6262-e508-46f5-b809-5485fae5eb57",
   "metadata": {},
   "outputs": [
    {
     "name": "stdout",
     "output_type": "stream",
     "text": [
      "Nirmala\n",
      "3\n",
      "['c', 'cpp', 'python']\n"
     ]
    }
   ],
   "source": [
    "for i in d.keys():\n",
    "    print(d[i])"
   ]
  },
  {
   "cell_type": "code",
   "execution_count": 31,
   "id": "a97ed4b9-f642-4e3f-9cba-b7fe6c9ef492",
   "metadata": {},
   "outputs": [
    {
     "name": "stdout",
     "output_type": "stream",
     "text": [
      "name\n",
      "year\n",
      "skills\n"
     ]
    }
   ],
   "source": [
    "for i in d.keys():\n",
    "    print(i)"
   ]
  },
  {
   "cell_type": "code",
   "execution_count": 32,
   "id": "1fb352f6-9d95-41a8-a54d-936e0a5e38f1",
   "metadata": {},
   "outputs": [
    {
     "name": "stdout",
     "output_type": "stream",
     "text": [
      "('name', 'Nirmala')\n",
      "('year', 3)\n",
      "('skills', ['c', 'cpp', 'python'])\n"
     ]
    }
   ],
   "source": [
    "for i in d.items():\n",
    "    print(i)"
   ]
  },
  {
   "cell_type": "code",
   "execution_count": 33,
   "id": "a00c1a31-b6b7-46b7-98dd-a66b50102191",
   "metadata": {},
   "outputs": [
    {
     "data": {
      "text/plain": [
       "'kirt'"
      ]
     },
     "execution_count": 33,
     "metadata": {},
     "output_type": "execute_result"
    }
   ],
   "source": [
    "s2 = \"rt\"\n",
    "s1 = \"ki\"\n",
    "s1 + s2"
   ]
  },
  {
   "cell_type": "code",
   "execution_count": 34,
   "id": "8c34334c-19e4-43ec-b110-1cf09a24b4a0",
   "metadata": {},
   "outputs": [
    {
     "data": {
      "text/plain": [
       "'ki'"
      ]
     },
     "execution_count": 34,
     "metadata": {},
     "output_type": "execute_result"
    }
   ],
   "source": [
    "s1"
   ]
  },
  {
   "cell_type": "code",
   "execution_count": 35,
   "id": "049bd5de-efbd-423f-9622-42d1ca89991e",
   "metadata": {},
   "outputs": [
    {
     "data": {
      "text/plain": [
       "'pwskills'"
      ]
     },
     "execution_count": 35,
     "metadata": {},
     "output_type": "execute_result"
    }
   ],
   "source": [
    "string = 'p w s k i l l s'\n",
    "\"\".join(string.replace(\" \",\"\"))"
   ]
  },
  {
   "cell_type": "code",
   "execution_count": 36,
   "id": "8b559646-a2bd-4e1c-b74e-1f0035d6e696",
   "metadata": {},
   "outputs": [
    {
     "data": {
      "text/plain": [
       "True"
      ]
     },
     "execution_count": 36,
     "metadata": {},
     "output_type": "execute_result"
    }
   ],
   "source": [
    "\"pwskills\"[::-1].upper().replace(\"SLLIKSWP\", \"pwskills\").islower()"
   ]
  },
  {
   "cell_type": "code",
   "execution_count": 37,
   "id": "b93cae56-41d3-41d8-861d-bf5b106a61f1",
   "metadata": {},
   "outputs": [
    {
     "name": "stdout",
     "output_type": "stream",
     "text": [
      "I\n",
      "Want\n",
      "To\n",
      "Become\n",
      "A\n",
      "Data\n",
      "Scientist\n"
     ]
    }
   ],
   "source": [
    "s = \"I want to become a data scientist\"\n",
    "\n",
    "for i in s.split():\n",
    "\n",
    "    i.capitalize()\n",
    "\n",
    "    print(i.title())"
   ]
  },
  {
   "cell_type": "code",
   "execution_count": null,
   "id": "f4d4e69a-926f-4f8a-abbc-70df67f583f1",
   "metadata": {},
   "outputs": [],
   "source": [
    "string = \"p w s k i l l s\"\n",
    "\n",
    "\" \".join(string.replace(\" \", \"\"))"
   ]
  },
  {
   "cell_type": "code",
   "execution_count": null,
   "id": "5ee94b67-3389-490b-ac2c-6a6e34a8b659",
   "metadata": {},
   "outputs": [],
   "source": []
  }
 ],
 "metadata": {
  "kernelspec": {
   "display_name": "Python 3 (ipykernel)",
   "language": "python",
   "name": "python3"
  },
  "language_info": {
   "codemirror_mode": {
    "name": "ipython",
    "version": 3
   },
   "file_extension": ".py",
   "mimetype": "text/x-python",
   "name": "python",
   "nbconvert_exporter": "python",
   "pygments_lexer": "ipython3",
   "version": "3.10.8"
  }
 },
 "nbformat": 4,
 "nbformat_minor": 5
}
