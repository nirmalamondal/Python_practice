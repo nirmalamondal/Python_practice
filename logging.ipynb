{
 "cells": [
  {
   "cell_type": "code",
   "execution_count": 1,
   "id": "2846629c-aa38-402d-a688-5f5d94912643",
   "metadata": {},
   "outputs": [],
   "source": [
    "import logging"
   ]
  },
  {
   "cell_type": "code",
   "execution_count": 2,
   "id": "70f9b0ed-3308-46a9-9078-bbc775c6f107",
   "metadata": {},
   "outputs": [],
   "source": [
    "logging.basicConfig(filename =\"test3.log\",level =logging.DEBUG, format = '%(asctime)s %(message)s')"
   ]
  },
  {
   "cell_type": "code",
   "execution_count": 3,
   "id": "d490a39e-40a8-43c4-a86c-8643c704b468",
   "metadata": {},
   "outputs": [],
   "source": [
    "logging.info(\"This is my info msg\")\n",
    "logging.error(\"This is my error msg\")\n",
    "logging.critical(\"This is my critical msg\")"
   ]
  },
  {
   "cell_type": "code",
   "execution_count": 4,
   "id": "22666ae3-8cb5-48a3-86ad-f12a052c83a7",
   "metadata": {},
   "outputs": [],
   "source": [
    "logging.shutdown()"
   ]
  },
  {
   "cell_type": "code",
   "execution_count": 1,
   "id": "bd71d5d6-3fcd-4ee4-b46b-a52195fdff7a",
   "metadata": {},
   "outputs": [],
   "source": [
    "import logging"
   ]
  },
  {
   "cell_type": "code",
   "execution_count": 2,
   "id": "a01d2fc3-dff4-4515-944c-28227cacb5ff",
   "metadata": {},
   "outputs": [],
   "source": [
    "logging.basicConfig(filename =\"test5.log\",level =logging.DEBUG, format = '%(asctime)s %(name)s %(levelname)s %(message)s')"
   ]
  },
  {
   "cell_type": "code",
   "execution_count": 3,
   "id": "9bec6806-1e62-4e2a-86e5-50cfd90709e7",
   "metadata": {},
   "outputs": [],
   "source": [
    "logging.info(\"This is my info msg\")\n",
    "logging.error(\"This is my error msg\")\n",
    "logging.critical(\"This is my critical msg\")"
   ]
  },
  {
   "cell_type": "code",
   "execution_count": 4,
   "id": "a1a373f0-151c-4096-a01b-970173eff46b",
   "metadata": {},
   "outputs": [],
   "source": [
    "l = [4,7,7,[4,2,1,9],\"Riya\",\"priya\"]"
   ]
  },
  {
   "cell_type": "code",
   "execution_count": 7,
   "id": "678d7d7f-f51d-4bf7-b316-936f11c577b2",
   "metadata": {},
   "outputs": [],
   "source": [
    "l1 = []\n",
    "l2 = []\n",
    "for i in l:\n",
    "    logging.info(\"we are iterating throug list & our local variable is i\" + str(l))\n",
    "    if type(i) == list:\n",
    "        logging.info(\"I am inside if statement & i am trying to check list\"+str(i))\n",
    "        for j in i:\n",
    "            logging.info(\"I am inside another for loop for list inside list element\"+str(j))\n",
    "            if type(j) == int:\n",
    "                logging.info(\"I am inside if statement\")\n",
    "                l1.append(j)\n",
    "            else:\n",
    "                l2.append(j)\n",
    "    elif type(i) == int:\n",
    "        l1.append(i)\n",
    "    else:\n",
    "        l2.append(i)\n",
    "        "
   ]
  },
  {
   "cell_type": "code",
   "execution_count": 10,
   "id": "c1dfc100-9c2c-4ee6-8ecf-93c1d4633b34",
   "metadata": {},
   "outputs": [],
   "source": [
    "logging.info(\"My final result for int is {l1_int} and {l2_str} for string\".format(l1_int=l1,l2_str=l2))"
   ]
  },
  {
   "cell_type": "code",
   "execution_count": null,
   "id": "3be179b1-4d50-4565-802c-b62c89df016e",
   "metadata": {},
   "outputs": [],
   "source": []
  }
 ],
 "metadata": {
  "kernelspec": {
   "display_name": "Python 3 (ipykernel)",
   "language": "python",
   "name": "python3"
  },
  "language_info": {
   "codemirror_mode": {
    "name": "ipython",
    "version": 3
   },
   "file_extension": ".py",
   "mimetype": "text/x-python",
   "name": "python",
   "nbconvert_exporter": "python",
   "pygments_lexer": "ipython3",
   "version": "3.10.8"
  }
 },
 "nbformat": 4,
 "nbformat_minor": 5
}
