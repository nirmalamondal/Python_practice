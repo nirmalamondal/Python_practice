{
 "cells": [
  {
   "cell_type": "code",
   "execution_count": null,
   "id": "14b46321-4e43-417f-b996-53c32d0cb970",
   "metadata": {},
   "outputs": [],
   "source": [
    "Q1. What is the syntax for adding an element to a list in Python?\n",
    "'''my_list.append(element)'''\n",
    "\n",
    "\n",
    "Q2. What is the difference between remove() and pop() functions in Python?\n",
    "'''my_list.insert(index, element)'''\n",
    "\n",
    "\n",
    "Q3. Write a Python code to sort a list in descending order.\n",
    "my_list = [5, 2, 9, 1, 5]\n",
    "sorted_list = sorted(my_list, reverse=True)\n",
    "print(sorted_list)\n",
    "\n",
    "\n",
    "\n",
    "Q4. Write a Python code to count the number of occurrences of an element in a list.\n",
    "my_list = [1, 2, 2, 3, 4, 2, 5, 2]\n",
    "element_to_count = 2\n",
    "count = my_list.count(element_to_count)\n",
    "print(f\"The element {element_to_count} appears {count} times in the list.\")\n",
    "\n",
    "\n",
    "Q5. Write a Python code to reverse a list.\n",
    "my_list = [1, 2, 3, 4, 5]\n",
    "reversed_list = my_list[::-1]\n",
    "print(reversed_list)\n"
   ]
  }
 ],
 "metadata": {
  "kernelspec": {
   "display_name": "Python 3 (ipykernel)",
   "language": "python",
   "name": "python3"
  },
  "language_info": {
   "codemirror_mode": {
    "name": "ipython",
    "version": 3
   },
   "file_extension": ".py",
   "mimetype": "text/x-python",
   "name": "python",
   "nbconvert_exporter": "python",
   "pygments_lexer": "ipython3",
   "version": "3.10.8"
  }
 },
 "nbformat": 4,
 "nbformat_minor": 5
}
