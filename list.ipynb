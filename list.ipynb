{
 "cells": [
  {
   "cell_type": "code",
   "execution_count": 2,
   "id": "9e0b987a-a383-4c71-bac7-f3839af34994",
   "metadata": {},
   "outputs": [],
   "source": [
    "l = [1,2,6,7,\"nirmala\",7.85,'h',7+7j,7]"
   ]
  },
  {
   "cell_type": "code",
   "execution_count": 3,
   "id": "46520280-820a-46f5-8629-41ddb2437eba",
   "metadata": {},
   "outputs": [
    {
     "data": {
      "text/plain": [
       "2"
      ]
     },
     "execution_count": 3,
     "metadata": {},
     "output_type": "execute_result"
    }
   ],
   "source": [
    "l.count(7)"
   ]
  },
  {
   "cell_type": "code",
   "execution_count": 4,
   "id": "2147a507-b52d-48eb-8b4b-1786509328e7",
   "metadata": {},
   "outputs": [
    {
     "data": {
      "text/plain": [
       "[1, 2, 6, 7, 'nirmala', 7.85, 'h', (7+7j), 7]"
      ]
     },
     "execution_count": 4,
     "metadata": {},
     "output_type": "execute_result"
    }
   ],
   "source": [
    "l[::]"
   ]
  },
  {
   "cell_type": "code",
   "execution_count": 5,
   "id": "311d6634-f335-487f-9136-0fad88e880ca",
   "metadata": {
    "jupyter": {
     "source_hidden": true
    },
    "tags": []
   },
   "outputs": [
    {
     "data": {
      "text/plain": [
       "7"
      ]
     },
     "execution_count": 5,
     "metadata": {},
     "output_type": "execute_result"
    }
   ],
   "source": [
    "l[-1]"
   ]
  },
  {
   "cell_type": "code",
   "execution_count": 6,
   "id": "059c4a88-b5ce-439b-8718-8761c08325a1",
   "metadata": {},
   "outputs": [
    {
     "data": {
      "text/plain": [
       "[7, (7+7j), 'h', 7.85, 'nirmala', 7, 6, 2, 1]"
      ]
     },
     "execution_count": 6,
     "metadata": {},
     "output_type": "execute_result"
    }
   ],
   "source": [
    "l[::-1]"
   ]
  },
  {
   "cell_type": "code",
   "execution_count": 7,
   "id": "9d35beb6-5385-47cb-a63d-d7f40eb3fb1f",
   "metadata": {},
   "outputs": [
    {
     "data": {
      "text/plain": [
       "[1, 6, 'nirmala', 'h', 7]"
      ]
     },
     "execution_count": 7,
     "metadata": {},
     "output_type": "execute_result"
    }
   ],
   "source": [
    "l[::2]"
   ]
  },
  {
   "cell_type": "code",
   "execution_count": 8,
   "id": "8ec927d3-798c-4e9d-8d57-d23be4f0e2aa",
   "metadata": {},
   "outputs": [
    {
     "data": {
      "text/plain": [
       "[2, 7, 7.85, (7+7j)]"
      ]
     },
     "execution_count": 8,
     "metadata": {},
     "output_type": "execute_result"
    }
   ],
   "source": [
    "l[1::2]"
   ]
  },
  {
   "cell_type": "code",
   "execution_count": 9,
   "id": "d4d7c03d-242a-43cc-9869-b4dd4be64e25",
   "metadata": {},
   "outputs": [],
   "source": [
    "s = \"Nilu\""
   ]
  },
  {
   "cell_type": "code",
   "execution_count": 10,
   "id": "b2a8aa23-1bcc-463a-9472-0ae650d82fc7",
   "metadata": {},
   "outputs": [
    {
     "data": {
      "text/plain": [
       "[1, 2, 6, 7, 'nirmala', 7.85, 'h', (7+7j), 7]"
      ]
     },
     "execution_count": 10,
     "metadata": {},
     "output_type": "execute_result"
    }
   ],
   "source": [
    "l "
   ]
  },
  {
   "cell_type": "code",
   "execution_count": 11,
   "id": "76eff777-b4d6-48ad-b35f-4ba1a85f1a23",
   "metadata": {},
   "outputs": [
    {
     "data": {
      "text/plain": [
       "'nir'"
      ]
     },
     "execution_count": 11,
     "metadata": {},
     "output_type": "execute_result"
    }
   ],
   "source": [
    "l[4][:3]"
   ]
  },
  {
   "cell_type": "code",
   "execution_count": 12,
   "id": "330030b4-d572-4e6b-870a-c1c26806c1b9",
   "metadata": {},
   "outputs": [],
   "source": [
    "li = [6,8,9]"
   ]
  },
  {
   "cell_type": "code",
   "execution_count": 13,
   "id": "e288fa66-131a-41c7-bedc-7dd01dbbac20",
   "metadata": {},
   "outputs": [
    {
     "data": {
      "text/plain": [
       "[6, 8, 9, 6, 8, 9, 6, 8, 9]"
      ]
     },
     "execution_count": 13,
     "metadata": {},
     "output_type": "execute_result"
    }
   ],
   "source": [
    "li * 3"
   ]
  },
  {
   "cell_type": "code",
   "execution_count": 14,
   "id": "eed09f9b-0ea2-438f-a46a-fc8bb8e2e056",
   "metadata": {},
   "outputs": [
    {
     "data": {
      "text/plain": [
       "9"
      ]
     },
     "execution_count": 14,
     "metadata": {},
     "output_type": "execute_result"
    }
   ],
   "source": [
    "len(l)"
   ]
  },
  {
   "cell_type": "code",
   "execution_count": 15,
   "id": "a2a509c4-5734-4c1e-a933-83aef4907926",
   "metadata": {},
   "outputs": [
    {
     "data": {
      "text/plain": [
       "list"
      ]
     },
     "execution_count": 15,
     "metadata": {},
     "output_type": "execute_result"
    }
   ],
   "source": [
    "type(l)"
   ]
  },
  {
   "cell_type": "code",
   "execution_count": 16,
   "id": "e1870cf6-797f-40a0-bc2f-da7b23790c0d",
   "metadata": {},
   "outputs": [],
   "source": [
    "l.append(18)"
   ]
  },
  {
   "cell_type": "code",
   "execution_count": 17,
   "id": "962c8429-4692-4a10-8c37-ef9d808e316a",
   "metadata": {},
   "outputs": [
    {
     "data": {
      "text/plain": [
       "[1, 2, 6, 7, 'nirmala', 7.85, 'h', (7+7j), 7, 18]"
      ]
     },
     "execution_count": 17,
     "metadata": {},
     "output_type": "execute_result"
    }
   ],
   "source": [
    "l"
   ]
  },
  {
   "cell_type": "code",
   "execution_count": 18,
   "id": "56d47037-c75a-44e2-886e-13636840ac60",
   "metadata": {},
   "outputs": [],
   "source": [
    "l.append(\"nilu\")"
   ]
  },
  {
   "cell_type": "code",
   "execution_count": 19,
   "id": "d8f05068-0c5a-46f4-b39e-7b37950a0121",
   "metadata": {},
   "outputs": [
    {
     "data": {
      "text/plain": [
       "[1, 2, 6, 7, 'nirmala', 7.85, 'h', (7+7j), 7, 18, 'nilu']"
      ]
     },
     "execution_count": 19,
     "metadata": {},
     "output_type": "execute_result"
    }
   ],
   "source": [
    "l"
   ]
  },
  {
   "cell_type": "code",
   "execution_count": 20,
   "id": "14306d42-1119-4cd2-b88f-5a991abcc933",
   "metadata": {},
   "outputs": [],
   "source": [
    "l.append(li)"
   ]
  },
  {
   "cell_type": "code",
   "execution_count": 21,
   "id": "1f84f9cd-234e-4750-987a-17c846ef3bf4",
   "metadata": {},
   "outputs": [
    {
     "data": {
      "text/plain": [
       "[1, 2, 6, 7, 'nirmala', 7.85, 'h', (7+7j), 7, 18, 'nilu', [6, 8, 9]]"
      ]
     },
     "execution_count": 21,
     "metadata": {},
     "output_type": "execute_result"
    }
   ],
   "source": [
    "l"
   ]
  },
  {
   "cell_type": "code",
   "execution_count": 22,
   "id": "2695d6cb-2899-4522-91f2-9b23fdb51c9a",
   "metadata": {},
   "outputs": [
    {
     "data": {
      "text/plain": [
       "8"
      ]
     },
     "execution_count": 22,
     "metadata": {},
     "output_type": "execute_result"
    }
   ],
   "source": [
    "l[-1][1]"
   ]
  },
  {
   "cell_type": "code",
   "execution_count": 23,
   "id": "e8417831-238c-454b-88c3-555d91dc433a",
   "metadata": {},
   "outputs": [
    {
     "ename": "TypeError",
     "evalue": "'int' object is not iterable",
     "output_type": "error",
     "traceback": [
      "\u001b[0;31m---------------------------------------------------------------------------\u001b[0m",
      "\u001b[0;31mTypeError\u001b[0m                                 Traceback (most recent call last)",
      "Cell \u001b[0;32mIn[23], line 1\u001b[0m\n\u001b[0;32m----> 1\u001b[0m \u001b[43ml\u001b[49m\u001b[38;5;241;43m.\u001b[39;49m\u001b[43mextend\u001b[49m\u001b[43m(\u001b[49m\u001b[38;5;241;43m4\u001b[39;49m\u001b[43m)\u001b[49m\n",
      "\u001b[0;31mTypeError\u001b[0m: 'int' object is not iterable"
     ]
    }
   ],
   "source": [
    "l.extend(4)"
   ]
  },
  {
   "cell_type": "code",
   "execution_count": 24,
   "id": "2ff3f8c2-d4ce-4658-8fbd-49b29f26e1d3",
   "metadata": {},
   "outputs": [],
   "source": [
    "l.extend(li)"
   ]
  },
  {
   "cell_type": "code",
   "execution_count": 25,
   "id": "a52413e4-f7ef-4ff9-9a32-ff625334172b",
   "metadata": {},
   "outputs": [
    {
     "data": {
      "text/plain": [
       "[1, 2, 6, 7, 'nirmala', 7.85, 'h', (7+7j), 7, 18, 'nilu', [6, 8, 9], 6, 8, 9]"
      ]
     },
     "execution_count": 25,
     "metadata": {},
     "output_type": "execute_result"
    }
   ],
   "source": [
    "l"
   ]
  },
  {
   "cell_type": "code",
   "execution_count": 26,
   "id": "8a8e7531-9c41-4088-a606-858c59bbb7e3",
   "metadata": {},
   "outputs": [],
   "source": [
    "l.extend(\"nilu\")"
   ]
  },
  {
   "cell_type": "code",
   "execution_count": 27,
   "id": "4de05e77-9844-4fe7-8045-f2614c05eb4d",
   "metadata": {},
   "outputs": [
    {
     "data": {
      "text/plain": [
       "[1,\n",
       " 2,\n",
       " 6,\n",
       " 7,\n",
       " 'nirmala',\n",
       " 7.85,\n",
       " 'h',\n",
       " (7+7j),\n",
       " 7,\n",
       " 18,\n",
       " 'nilu',\n",
       " [6, 8, 9],\n",
       " 6,\n",
       " 8,\n",
       " 9,\n",
       " 'n',\n",
       " 'i',\n",
       " 'l',\n",
       " 'u']"
      ]
     },
     "execution_count": 27,
     "metadata": {},
     "output_type": "execute_result"
    }
   ],
   "source": [
    "l"
   ]
  },
  {
   "cell_type": "code",
   "execution_count": 28,
   "id": "a27d0601-5e92-4013-983c-526ce936f0fd",
   "metadata": {},
   "outputs": [],
   "source": [
    "li.insert(1,\"nirmla\")"
   ]
  },
  {
   "cell_type": "code",
   "execution_count": 29,
   "id": "488b7d0f-3ce8-4d5a-b5ed-87f89021f897",
   "metadata": {},
   "outputs": [
    {
     "data": {
      "text/plain": [
       "[6, 'nirmla', 8, 9]"
      ]
     },
     "execution_count": 29,
     "metadata": {},
     "output_type": "execute_result"
    }
   ],
   "source": [
    "li"
   ]
  },
  {
   "cell_type": "code",
   "execution_count": 30,
   "id": "a97d1260-0dc9-46b8-b955-cdeefed41839",
   "metadata": {},
   "outputs": [],
   "source": [
    "li.insert(2,[18,7,33,45,17])"
   ]
  },
  {
   "cell_type": "code",
   "execution_count": 31,
   "id": "ac5056a7-8030-4c1a-bdf2-7b56ab7f6837",
   "metadata": {},
   "outputs": [
    {
     "data": {
      "text/plain": [
       "[6, 'nirmla', [18, 7, 33, 45, 17], 8, 9]"
      ]
     },
     "execution_count": 31,
     "metadata": {},
     "output_type": "execute_result"
    }
   ],
   "source": [
    "li"
   ]
  },
  {
   "cell_type": "code",
   "execution_count": 32,
   "id": "1adc30fc-1f6d-4ae5-829a-da055090c6c3",
   "metadata": {},
   "outputs": [],
   "source": [
    "li.insert(-1,45)"
   ]
  },
  {
   "cell_type": "code",
   "execution_count": 33,
   "id": "21fcade3-e33f-4ae9-91ed-612616b9677a",
   "metadata": {},
   "outputs": [
    {
     "data": {
      "text/plain": [
       "[6, 'nirmla', [18, 7, 33, 45, 17], 8, 45, 9]"
      ]
     },
     "execution_count": 33,
     "metadata": {},
     "output_type": "execute_result"
    }
   ],
   "source": [
    "li"
   ]
  },
  {
   "cell_type": "code",
   "execution_count": 34,
   "id": "3c4126b3-5db6-49ed-8706-ce0a526ab31b",
   "metadata": {},
   "outputs": [],
   "source": [
    "li.insert(0,1234)"
   ]
  },
  {
   "cell_type": "code",
   "execution_count": 35,
   "id": "3d64b24f-b6eb-40d6-a79e-596e3334ae99",
   "metadata": {},
   "outputs": [
    {
     "data": {
      "text/plain": [
       "[1234, 6, 'nirmla', [18, 7, 33, 45, 17], 8, 45, 9]"
      ]
     },
     "execution_count": 35,
     "metadata": {},
     "output_type": "execute_result"
    }
   ],
   "source": [
    "li"
   ]
  },
  {
   "cell_type": "code",
   "execution_count": 36,
   "id": "cfddd4ee-b1ed-4203-ad0b-ba987d1657d2",
   "metadata": {},
   "outputs": [
    {
     "data": {
      "text/plain": [
       "9"
      ]
     },
     "execution_count": 36,
     "metadata": {},
     "output_type": "execute_result"
    }
   ],
   "source": [
    "li.pop()"
   ]
  },
  {
   "cell_type": "code",
   "execution_count": 37,
   "id": "059909ea-a24e-43bb-8ef5-e5de605b56f4",
   "metadata": {},
   "outputs": [],
   "source": [
    "li.remove(45)"
   ]
  },
  {
   "cell_type": "code",
   "execution_count": 38,
   "id": "d393ab61-f922-4afd-9e15-dfb3f2476091",
   "metadata": {},
   "outputs": [
    {
     "data": {
      "text/plain": [
       "[1234, 6, 'nirmla', [18, 7, 33, 45, 17], 8]"
      ]
     },
     "execution_count": 38,
     "metadata": {},
     "output_type": "execute_result"
    }
   ],
   "source": [
    "li"
   ]
  },
  {
   "cell_type": "code",
   "execution_count": 39,
   "id": "37297648-5b22-4fcc-9178-7ab53d4a5f96",
   "metadata": {},
   "outputs": [
    {
     "data": {
      "text/plain": [
       "'nirmla'"
      ]
     },
     "execution_count": 39,
     "metadata": {},
     "output_type": "execute_result"
    }
   ],
   "source": [
    "li.pop(2)"
   ]
  },
  {
   "cell_type": "code",
   "execution_count": 40,
   "id": "42ca141c-16f3-423b-b011-2e3e79888bdc",
   "metadata": {},
   "outputs": [],
   "source": [
    "l1 = li.pop(2)"
   ]
  },
  {
   "cell_type": "code",
   "execution_count": 41,
   "id": "a4a0d3b3-e678-4152-8dab-918eee7ddac7",
   "metadata": {},
   "outputs": [
    {
     "data": {
      "text/plain": [
       "33"
      ]
     },
     "execution_count": 41,
     "metadata": {},
     "output_type": "execute_result"
    }
   ],
   "source": [
    "l1.pop(2)"
   ]
  },
  {
   "cell_type": "code",
   "execution_count": 42,
   "id": "2d58cbbb-bf96-43f9-aca9-0441f29974db",
   "metadata": {},
   "outputs": [],
   "source": [
    "li.insert(2,[2,9,5])"
   ]
  },
  {
   "cell_type": "code",
   "execution_count": 43,
   "id": "2780f6c4-440f-40aa-827b-5b7a02988502",
   "metadata": {},
   "outputs": [
    {
     "data": {
      "text/plain": [
       "[1234, 6, [2, 9, 5], 8]"
      ]
     },
     "execution_count": 43,
     "metadata": {},
     "output_type": "execute_result"
    }
   ],
   "source": [
    "li"
   ]
  },
  {
   "cell_type": "code",
   "execution_count": 46,
   "id": "33fc6a05-5558-4ae0-9b78-2fc2d6a4fb89",
   "metadata": {},
   "outputs": [],
   "source": [
    "li[2].remove(9)"
   ]
  },
  {
   "cell_type": "code",
   "execution_count": 48,
   "id": "885b6e4a-90bc-4060-8601-7bb07e9eeccc",
   "metadata": {},
   "outputs": [],
   "source": [
    "li.reverse()"
   ]
  },
  {
   "cell_type": "code",
   "execution_count": 49,
   "id": "b84b9b44-0dce-4457-9a06-50969153883c",
   "metadata": {},
   "outputs": [
    {
     "data": {
      "text/plain": [
       "[8, [2, 5], 6, 1234]"
      ]
     },
     "execution_count": 49,
     "metadata": {},
     "output_type": "execute_result"
    }
   ],
   "source": [
    "li"
   ]
  },
  {
   "cell_type": "code",
   "execution_count": 50,
   "id": "031418d0-a37d-48a3-93ec-b329d4f3cd1b",
   "metadata": {},
   "outputs": [],
   "source": [
    "l1 = [56,87,22,12,98]"
   ]
  },
  {
   "cell_type": "code",
   "execution_count": 51,
   "id": "3771d912-e8b5-4b73-8a20-e7730c82c9d4",
   "metadata": {},
   "outputs": [],
   "source": [
    "l1.sort()"
   ]
  },
  {
   "cell_type": "code",
   "execution_count": 52,
   "id": "218ff597-8fff-4f95-8d37-1498572517d6",
   "metadata": {},
   "outputs": [
    {
     "data": {
      "text/plain": [
       "[12, 22, 56, 87, 98]"
      ]
     },
     "execution_count": 52,
     "metadata": {},
     "output_type": "execute_result"
    }
   ],
   "source": [
    "l1"
   ]
  },
  {
   "cell_type": "code",
   "execution_count": 53,
   "id": "81c9d85c-0e41-4877-900b-17e944f471f0",
   "metadata": {},
   "outputs": [],
   "source": [
    "l2 = [\"nirmala\",\"riya\",\"priya\"]"
   ]
  },
  {
   "cell_type": "code",
   "execution_count": 55,
   "id": "3ca551ba-fec2-4bdb-851e-5a45158feca8",
   "metadata": {},
   "outputs": [],
   "source": [
    "l2.sort()"
   ]
  },
  {
   "cell_type": "code",
   "execution_count": 56,
   "id": "d0150868-18be-4df7-b13c-c8689773039e",
   "metadata": {},
   "outputs": [
    {
     "data": {
      "text/plain": [
       "['nirmala', 'priya', 'riya']"
      ]
     },
     "execution_count": 56,
     "metadata": {},
     "output_type": "execute_result"
    }
   ],
   "source": [
    "l2"
   ]
  },
  {
   "cell_type": "code",
   "execution_count": 57,
   "id": "708250e2-1d5e-4d46-8f8c-09f8d179b17a",
   "metadata": {},
   "outputs": [],
   "source": [
    "l2.sort(reverse = True)"
   ]
  },
  {
   "cell_type": "code",
   "execution_count": 58,
   "id": "5b656700-3dff-43c4-a62e-340ce665ec2e",
   "metadata": {},
   "outputs": [
    {
     "data": {
      "text/plain": [
       "['riya', 'priya', 'nirmala']"
      ]
     },
     "execution_count": 58,
     "metadata": {},
     "output_type": "execute_result"
    }
   ],
   "source": [
    "l2"
   ]
  },
  {
   "cell_type": "code",
   "execution_count": 59,
   "id": "dfb9f0be-1e37-4ef4-ac18-ec7f16c30b79",
   "metadata": {},
   "outputs": [
    {
     "data": {
      "text/plain": [
       "1"
      ]
     },
     "execution_count": 59,
     "metadata": {},
     "output_type": "execute_result"
    }
   ],
   "source": [
    "l2.index(\"priya\")"
   ]
  },
  {
   "cell_type": "code",
   "execution_count": 61,
   "id": "a52f8b2c-7a32-497d-beaf-7677c1f827b6",
   "metadata": {},
   "outputs": [
    {
     "data": {
      "text/plain": [
       "1"
      ]
     },
     "execution_count": 61,
     "metadata": {},
     "output_type": "execute_result"
    }
   ],
   "source": [
    "l2.count(\"priya\")"
   ]
  },
  {
   "cell_type": "code",
   "execution_count": 62,
   "id": "f0b2f702-f37e-4133-9035-634871877dc8",
   "metadata": {},
   "outputs": [],
   "source": [
    "s2 = \"Computer\""
   ]
  },
  {
   "cell_type": "code",
   "execution_count": 63,
   "id": "b145088f-1b02-487d-bc62-28cbf0a6028b",
   "metadata": {},
   "outputs": [
    {
     "ename": "TypeError",
     "evalue": "'str' object does not support item assignment",
     "output_type": "error",
     "traceback": [
      "\u001b[0;31m---------------------------------------------------------------------------\u001b[0m",
      "\u001b[0;31mTypeError\u001b[0m                                 Traceback (most recent call last)",
      "Cell \u001b[0;32mIn[63], line 1\u001b[0m\n\u001b[0;32m----> 1\u001b[0m \u001b[43ms2\u001b[49m\u001b[43m[\u001b[49m\u001b[38;5;241;43m0\u001b[39;49m\u001b[43m]\u001b[49m \u001b[38;5;241m=\u001b[39m \u001b[38;5;124m'\u001b[39m\u001b[38;5;124mA\u001b[39m\u001b[38;5;124m'\u001b[39m\n",
      "\u001b[0;31mTypeError\u001b[0m: 'str' object does not support item assignment"
     ]
    }
   ],
   "source": [
    "s3 = s2[0] "
   ]
  },
  {
   "cell_type": "code",
   "execution_count": 64,
   "id": "fb746f17-11ba-4c09-b2e6-31878f463843",
   "metadata": {},
   "outputs": [],
   "source": [
    "l1[2] = 2333333"
   ]
  },
  {
   "cell_type": "code",
   "execution_count": 65,
   "id": "ebe3904c-7d08-4837-92fd-50f236702e3e",
   "metadata": {},
   "outputs": [
    {
     "data": {
      "text/plain": [
       "[12, 22, 2333333, 87, 98]"
      ]
     },
     "execution_count": 65,
     "metadata": {},
     "output_type": "execute_result"
    }
   ],
   "source": [
    "l1"
   ]
  },
  {
   "cell_type": "code",
   "execution_count": 66,
   "id": "19ce83ab-c276-4179-a6bd-e60b1cc9c65a",
   "metadata": {},
   "outputs": [
    {
     "data": {
      "text/plain": [
       "'Nomputer'"
      ]
     },
     "execution_count": 66,
     "metadata": {},
     "output_type": "execute_result"
    }
   ],
   "source": [
    "s2.replace('C','N')"
   ]
  },
  {
   "cell_type": "code",
   "execution_count": 67,
   "id": "2f973018-b1b9-42e3-a527-062adea3d94b",
   "metadata": {},
   "outputs": [
    {
     "data": {
      "text/plain": [
       "'Computer'"
      ]
     },
     "execution_count": 67,
     "metadata": {},
     "output_type": "execute_result"
    }
   ],
   "source": [
    "s2"
   ]
  },
  {
   "cell_type": "code",
   "execution_count": null,
   "id": "2a689877-0fb1-41ff-a668-1fe076bc1c1a",
   "metadata": {},
   "outputs": [],
   "source": []
  }
 ],
 "metadata": {
  "kernelspec": {
   "display_name": "Python 3 (ipykernel)",
   "language": "python",
   "name": "python3"
  },
  "language_info": {
   "codemirror_mode": {
    "name": "ipython",
    "version": 3
   },
   "file_extension": ".py",
   "mimetype": "text/x-python",
   "name": "python",
   "nbconvert_exporter": "python",
   "pygments_lexer": "ipython3",
   "version": "3.10.8"
  }
 },
 "nbformat": 4,
 "nbformat_minor": 5
}
