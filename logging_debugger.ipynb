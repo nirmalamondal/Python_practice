{
 "cells": [
  {
   "cell_type": "code",
   "execution_count": 1,
   "id": "2c46c783-78c8-4bae-970a-253521449a83",
   "metadata": {},
   "outputs": [],
   "source": [
    "import logging"
   ]
  },
  {
   "cell_type": "code",
   "execution_count": 2,
   "id": "cf5c24d9-b736-47f2-b35a-0ecbd29d00e9",
   "metadata": {},
   "outputs": [],
   "source": [
    "logging.basicConfig(filename = \"test9.log\",level=logging.INFO)"
   ]
  },
  {
   "cell_type": "code",
   "execution_count": 3,
   "id": "125919ee-201c-47a2-ba9a-da3f8cc89864",
   "metadata": {},
   "outputs": [],
   "source": [
    "logging.info(\"log this line of execution\")"
   ]
  },
  {
   "cell_type": "code",
   "execution_count": 4,
   "id": "2be0d064-8b90-4640-9a3a-fd09536ea0d0",
   "metadata": {},
   "outputs": [],
   "source": [
    "logging.info(\"this is my print\")"
   ]
  },
  {
   "cell_type": "code",
   "execution_count": 6,
   "id": "49d170da-1999-410b-9c4b-2874dbb3db98",
   "metadata": {},
   "outputs": [
    {
     "ename": "SyntaxError",
     "evalue": "invalid decimal literal (342353819.py, line 2)",
     "output_type": "error",
     "traceback": [
      "\u001b[0;36m  Cell \u001b[0;32mIn[6], line 2\u001b[0;36m\u001b[0m\n\u001b[0;31m    2.DEBUG\u001b[0m\n\u001b[0m     ^\u001b[0m\n\u001b[0;31mSyntaxError\u001b[0m\u001b[0;31m:\u001b[0m invalid decimal literal\n"
     ]
    }
   ],
   "source": [
    "1. NOTSET\n",
    "2.DEBUG\n",
    "3.INFO\n",
    "4.WARNING\n",
    "5.ERROR\n",
    "6.CRITICAL"
   ]
  },
  {
   "cell_type": "code",
   "execution_count": 5,
   "id": "b31f7435-a402-42e1-9957-21c79cdfdeb5",
   "metadata": {},
   "outputs": [],
   "source": [
    "logging.debug(\"This iis my bug\")"
   ]
  },
  {
   "cell_type": "code",
   "execution_count": 6,
   "id": "ff929749-d30c-43c2-9ad1-db5d23e319af",
   "metadata": {},
   "outputs": [],
   "source": [
    "logging.warning(\"this is my warning msg\")"
   ]
  },
  {
   "cell_type": "code",
   "execution_count": 7,
   "id": "79c499b2-ea24-4f2f-b3e9-01a718cea9b9",
   "metadata": {},
   "outputs": [],
   "source": [
    "logging.error(\"THIS is my error\")"
   ]
  },
  {
   "cell_type": "code",
   "execution_count": 8,
   "id": "0ef64be4-38b4-4063-a00c-591633b00545",
   "metadata": {},
   "outputs": [],
   "source": [
    "logging.critical(\"THIS IS MY CRITICAL msg\")"
   ]
  },
  {
   "cell_type": "code",
   "execution_count": 9,
   "id": "566a2086-e75f-4668-85a0-d52dd5d300aa",
   "metadata": {},
   "outputs": [],
   "source": [
    "logging.shutdown()"
   ]
  },
  {
   "cell_type": "code",
   "execution_count": 10,
   "id": "de3f2acb-fe08-4066-b394-8c0f97be5b21",
   "metadata": {},
   "outputs": [],
   "source": [
    "import logging"
   ]
  },
  {
   "cell_type": "code",
   "execution_count": 11,
   "id": "cd42d89e-5f55-4d7d-b999-450ef72e3285",
   "metadata": {},
   "outputs": [],
   "source": [
    "logging.basicConfig(filename = \"test5.log\",level= logging.DEBUG,format = '%(asctime)s %(message)s')"
   ]
  },
  {
   "cell_type": "code",
   "execution_count": 12,
   "id": "3d96ebdf-657f-433c-9887-ce51bde2743b",
   "metadata": {},
   "outputs": [],
   "source": [
    "logging.info(\"this is my info loggging\")\n",
    "logging.error(\"this is my error ms\")\n",
    "logging.critical(\"this is my critical\")"
   ]
  },
  {
   "cell_type": "code",
   "execution_count": null,
   "id": "19736ebf-523f-4d6d-850e-ae09f7799efa",
   "metadata": {},
   "outputs": [],
   "source": []
  }
 ],
 "metadata": {
  "kernelspec": {
   "display_name": "Python 3 (ipykernel)",
   "language": "python",
   "name": "python3"
  },
  "language_info": {
   "codemirror_mode": {
    "name": "ipython",
    "version": 3
   },
   "file_extension": ".py",
   "mimetype": "text/x-python",
   "name": "python",
   "nbconvert_exporter": "python",
   "pygments_lexer": "ipython3",
   "version": "3.10.8"
  }
 },
 "nbformat": 4,
 "nbformat_minor": 5
}
