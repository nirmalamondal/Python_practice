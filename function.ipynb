{
 "cells": [
  {
   "cell_type": "code",
   "execution_count": 29,
   "id": "0e73303b-29e7-4bdc-83e8-727d46ccf2dd",
   "metadata": {},
   "outputs": [],
   "source": [
    "def test():\n",
    "    pass"
   ]
  },
  {
   "cell_type": "code",
   "execution_count": 30,
   "id": "e8bc059e-3384-48df-8dca-6ddf4cbf9aa0",
   "metadata": {},
   "outputs": [
    {
     "name": "stdout",
     "output_type": "stream",
     "text": [
      "This is my first functon\n"
     ]
    }
   ],
   "source": [
    "def test1():\n",
    "    print(\"This is my first functon\")\n",
    "\n",
    "test1()    "
   ]
  },
  {
   "cell_type": "code",
   "execution_count": 31,
   "id": "97f6b5fa-82b5-45de-bb0e-54fc97faad8a",
   "metadata": {},
   "outputs": [
    {
     "data": {
      "text/plain": [
       "'This is my first functon return Yeah!'"
      ]
     },
     "execution_count": 31,
     "metadata": {},
     "output_type": "execute_result"
    }
   ],
   "source": [
    "def test2():\n",
    "    return \"This is my first functon return\"\n",
    "\n",
    "test2() + \" Yeah!\""
   ]
  },
  {
   "cell_type": "code",
   "execution_count": 32,
   "id": "93873372-4b1e-4334-aa56-d0714bcd2e22",
   "metadata": {},
   "outputs": [
    {
     "name": "stdout",
     "output_type": "stream",
     "text": [
      "1 45 6.6 [7, 8] hello\n"
     ]
    }
   ],
   "source": [
    "def test3():\n",
    "    return 1,45,6.6,[7,8],\"hello\"\n",
    "\n",
    "a,b,c,d,e  = test3()\n",
    "print(a,b,c,d,e)"
   ]
  },
  {
   "cell_type": "code",
   "execution_count": 33,
   "id": "0d9c0fa3-6c09-4a71-9c3b-7ad66bf6d578",
   "metadata": {},
   "outputs": [
    {
     "name": "stdin",
     "output_type": "stream",
     "text": [
      " 8\n",
      " 7\n",
      " 9\n"
     ]
    },
    {
     "data": {
      "text/plain": [
       "8.777777777777779"
      ]
     },
     "execution_count": 33,
     "metadata": {},
     "output_type": "execute_result"
    }
   ],
   "source": [
    "def test4(a,b,c):\n",
    "    return a+b/c\n",
    "\n",
    "a = int(input())\n",
    "b = int(input())\n",
    "c = int(input())\n",
    "test4(a,b,c)\n"
   ]
  },
  {
   "cell_type": "code",
   "execution_count": 37,
   "id": "b7635316-4dfc-4060-a836-536f55a4d049",
   "metadata": {},
   "outputs": [],
   "source": [
    "l = [22,98,56.76,\"nirmala\",345,\"priya\",\"riya\",67.23]\n",
    "l2 = [45, 89, \"Nilu\",90,\"Keya\",34.8,\"yu\",34]\n",
    "l3 = [4,7,[45,76,90],87,34,[92,94,45],12,23]"
   ]
  },
  {
   "cell_type": "code",
   "execution_count": 38,
   "id": "e47e500c-7722-49df-bb29-a0cfdb088a01",
   "metadata": {},
   "outputs": [
    {
     "name": "stdout",
     "output_type": "stream",
     "text": [
      "[22, 98, 56.76, 345, 67.23]\n",
      "[45, 89, 90, 34.8, 34]\n"
     ]
    }
   ],
   "source": [
    "def test5(l):\n",
    "    l1 = []\n",
    "    for i in l:\n",
    "        if type(i) == int or type(i) == float:\n",
    "            l1.append(i)\n",
    "    return l1        \n",
    "            \n",
    "print(test5(l))    \n",
    "print(test5(l2))    "
   ]
  },
  {
   "cell_type": "code",
   "execution_count": 39,
   "id": "219a1fc2-e6d3-474b-95c5-4e08a978f0ad",
   "metadata": {},
   "outputs": [
    {
     "name": "stdout",
     "output_type": "stream",
     "text": [
      "[4, 7, 45, 76, 90, 87, 34, 92, 94, 45, 12, 23]\n"
     ]
    }
   ],
   "source": [
    "def test5(l):\n",
    "    \"\"\" This function extract the list element \"\"\"\n",
    "    l1 = []\n",
    "    for i in l:\n",
    "        if type(i) == int or type(i) == float:\n",
    "            l1.append(i)\n",
    "        else:\n",
    "            if type(i) == list:\n",
    "                for j in i:\n",
    "                    l1.append(j)\n",
    "    return l1  \n",
    "\n",
    "print(test5(l3))"
   ]
  },
  {
   "cell_type": "code",
   "execution_count": 1,
   "id": "98f5b5ec-6523-4696-ad2f-b7644e0fcdfc",
   "metadata": {},
   "outputs": [
    {
     "data": {
      "text/plain": [
       "(6, 9, 'oi', 'jhh', 8)"
      ]
     },
     "execution_count": 1,
     "metadata": {},
     "output_type": "execute_result"
    }
   ],
   "source": [
    "def test6(*args):\n",
    "    return args\n",
    "test6(6,9,\"oi\",\"jhh\",8)\n",
    "# take different number of arguments      "
   ]
  },
  {
   "cell_type": "code",
   "execution_count": 41,
   "id": "b55e1ac9-bd44-4562-9424-f3752572ca92",
   "metadata": {},
   "outputs": [
    {
     "name": "stdout",
     "output_type": "stream",
     "text": [
      "(([23, 56], 'Hello', 'o'), 18)\n"
     ]
    }
   ],
   "source": [
    "def test7(*nilu,a):\n",
    "    return nilu,a\n",
    "print(test7([23,56],\"Hello\",'o',a=18))"
   ]
  },
  {
   "cell_type": "code",
   "execution_count": 46,
   "id": "4813f4c0-dbf8-473f-89eb-436b15de3131",
   "metadata": {},
   "outputs": [
    {
     "name": "stdout",
     "output_type": "stream",
     "text": [
      "(23, 90, 'piya', 9)\n"
     ]
    }
   ],
   "source": [
    "def test9(ae,ao,au=\"piya\",ai=9):\n",
    "    return ae,ao,au,ai\n",
    "\n",
    "print(test9(23,90,))"
   ]
  },
  {
   "cell_type": "code",
   "execution_count": 47,
   "id": "bb74005c-ccbf-4ff0-9837-eb3d8d453351",
   "metadata": {},
   "outputs": [
    {
     "name": "stdout",
     "output_type": "stream",
     "text": [
      "(23, 90, 'riya', 9)\n"
     ]
    }
   ],
   "source": [
    "def test9(ae,ao,au=\"piya\",ai=9):\n",
    "    return ae,ao,au,ai\n",
    "\n",
    "print(test9(23,90,au=\"riya\"))"
   ]
  },
  {
   "cell_type": "code",
   "execution_count": 3,
   "id": "8abae224-f028-45df-a03a-d3bbfde0c4a3",
   "metadata": {},
   "outputs": [
    {
     "name": "stdout",
     "output_type": "stream",
     "text": [
      "{'a': [5, 8], 'b': 'Nilu', 'c': 34}\n"
     ]
    }
   ],
   "source": [
    "#for dictionary \n",
    "def test10(**args):\n",
    "    return args\n",
    "type(test10())\n",
    "print(test10(a=[5,8],b=\"Nilu\",c=34))\n",
    "#print(test10('a':89,7:8,'p':2))"
   ]
  },
  {
   "cell_type": "code",
   "execution_count": null,
   "id": "fd790a23-5e0b-4d75-a177-41e663b5f86f",
   "metadata": {},
   "outputs": [],
   "source": []
  }
 ],
 "metadata": {
  "kernelspec": {
   "display_name": "Python 3 (ipykernel)",
   "language": "python",
   "name": "python3"
  },
  "language_info": {
   "codemirror_mode": {
    "name": "ipython",
    "version": 3
   },
   "file_extension": ".py",
   "mimetype": "text/x-python",
   "name": "python",
   "nbconvert_exporter": "python",
   "pygments_lexer": "ipython3",
   "version": "3.10.8"
  }
 },
 "nbformat": 4,
 "nbformat_minor": 5
}
