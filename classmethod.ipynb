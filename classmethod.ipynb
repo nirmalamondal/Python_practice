{
 "cells": [
  {
   "cell_type": "code",
   "execution_count": 3,
   "id": "f9af9ba7-e09c-4951-a621-9e4a69f793b4",
   "metadata": {},
   "outputs": [
    {
     "name": "stdout",
     "output_type": "stream",
     "text": [
      "Nirmala\n",
      "18\n",
      "9876543210\n",
      "9123456780\n",
      "Nilu 4 9123456780\n",
      "Nirmala 18 9123456780\n"
     ]
    }
   ],
   "source": [
    "class A:\n",
    "    mob = 9876543210\n",
    "    def __init__(self,name,roll):\n",
    "        self.name = name\n",
    "        self.roll = roll\n",
    "    @classmethod\n",
    "    def change_mob(cls,mob_no):\n",
    "        A.mob = mob_no\n",
    "    @classmethod   \n",
    "    def show(cls,name,roll):\n",
    "        return cls(name,roll)\n",
    "    def details(self):\n",
    "        print(self.name,self.roll,A.mob)\n",
    "    \n",
    "pw = A.show(\"Nirmala\", 18)\n",
    "print(pw.name)\n",
    "print(pw.roll)\n",
    "print(A.mob)        \n",
    "A.change_mob(9123456780) \n",
    "std = A('Nilu',4)\n",
    "print(A.mob) \n",
    "std.details()\n",
    "pw.details()"
   ]
  },
  {
   "cell_type": "code",
   "execution_count": 4,
   "id": "6b59cfaa-b8e3-4bee-b779-60d025c96b11",
   "metadata": {},
   "outputs": [],
   "source": [
    "def course_del(cls,course_name):\n",
    "    print(\"course name is \",course_name)"
   ]
  },
  {
   "cell_type": "code",
   "execution_count": 5,
   "id": "8f7b6dcd-373c-4b78-ac38-611dc8b580c3",
   "metadata": {},
   "outputs": [],
   "source": [
    "A.course_del = classmethod(course_del)"
   ]
  },
  {
   "cell_type": "code",
   "execution_count": 6,
   "id": "7b9c0e54-39fd-4db8-b9f3-d73d844e1f11",
   "metadata": {},
   "outputs": [
    {
     "name": "stdout",
     "output_type": "stream",
     "text": [
      "course name is  data science\n"
     ]
    }
   ],
   "source": [
    "A.course_del(\"data science\")"
   ]
  },
  {
   "cell_type": "code",
   "execution_count": 8,
   "id": "ae427355-8680-4fad-a35a-d1e98977003f",
   "metadata": {},
   "outputs": [
    {
     "name": "stdout",
     "output_type": "stream",
     "text": [
      "Sudhanshu Sir\n"
     ]
    }
   ],
   "source": [
    "def mentor(cls,list_of_mentor):\n",
    "    print(list_of_mentor)\n",
    "    \n",
    "A.mentor = classmethod(mentor)\n",
    "A.mentor(\"Sudhanshu Sir\")"
   ]
  },
  {
   "cell_type": "code",
   "execution_count": null,
   "id": "f5419274-a0df-4d50-980c-c580aa3d512b",
   "metadata": {},
   "outputs": [],
   "source": []
  }
 ],
 "metadata": {
  "kernelspec": {
   "display_name": "Python 3 (ipykernel)",
   "language": "python",
   "name": "python3"
  },
  "language_info": {
   "codemirror_mode": {
    "name": "ipython",
    "version": 3
   },
   "file_extension": ".py",
   "mimetype": "text/x-python",
   "name": "python",
   "nbconvert_exporter": "python",
   "pygments_lexer": "ipython3",
   "version": "3.10.8"
  }
 },
 "nbformat": 4,
 "nbformat_minor": 5
}
