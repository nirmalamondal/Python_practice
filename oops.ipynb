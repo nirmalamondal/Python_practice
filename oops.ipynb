{
 "cells": [
  {
   "cell_type": "code",
   "execution_count": 1,
   "id": "1b6905ba-45f6-4176-b839-83eb531466a3",
   "metadata": {},
   "outputs": [],
   "source": [
    "class test:\n",
    "    pass"
   ]
  },
  {
   "cell_type": "code",
   "execution_count": 2,
   "id": "6f7afdd8-3e3f-4bfd-b343-30d065ddc1bd",
   "metadata": {},
   "outputs": [
    {
     "data": {
      "text/plain": [
       "__main__.test"
      ]
     },
     "execution_count": 2,
     "metadata": {},
     "output_type": "execute_result"
    }
   ],
   "source": [
    "a = test()\n",
    "type(a)"
   ]
  },
  {
   "cell_type": "code",
   "execution_count": 3,
   "id": "44af50a3-f3ce-480c-9cd3-9335394f5002",
   "metadata": {},
   "outputs": [],
   "source": [
    "class pwskills:\n",
    "    \n",
    "    def welcome_msg(self):\n",
    "        print(\"Welcome to pwskills\")"
   ]
  },
  {
   "cell_type": "code",
   "execution_count": 4,
   "id": "ac99fc3e-2fb4-470e-9646-c30ca9b5383e",
   "metadata": {},
   "outputs": [
    {
     "name": "stdout",
     "output_type": "stream",
     "text": [
      "<class '__main__.pwskills'>\n",
      "Welcome to pwskills\n"
     ]
    }
   ],
   "source": [
    "nirmala = pwskills()\n",
    "print(type(nirmala))\n",
    "nirmala.welcome_msg()"
   ]
  },
  {
   "cell_type": "code",
   "execution_count": 5,
   "id": "a99ab2d5-35cf-4427-833c-4af2e1d1a0ac",
   "metadata": {},
   "outputs": [
    {
     "name": "stdout",
     "output_type": "stream",
     "text": [
      "Welcome to pwskills\n"
     ]
    }
   ],
   "source": [
    "riya = pwskills()\n",
    "riya.welcome_msg()"
   ]
  },
  {
   "cell_type": "code",
   "execution_count": 6,
   "id": "56b53451-7b90-4200-8999-6ae5ef0c6738",
   "metadata": {},
   "outputs": [],
   "source": [
    "class pwskills1:\n",
    "    def __init__(self,phone_number,email_id,student_id):\n",
    "        self.phone_number = phone_number\n",
    "        self.email_id = email_id\n",
    "        self.student_id = student_id\n",
    "        \n",
    "    def return_student_details(self): \n",
    "        return self.phone_number ,self.email_id,self.student_id \n",
    "        \n",
    "    \n",
    "    \n",
    "    "
   ]
  },
  {
   "cell_type": "code",
   "execution_count": 7,
   "id": "2d8a8396-cc84-4d0b-8823-298afb4a2eee",
   "metadata": {},
   "outputs": [],
   "source": [
    "nilu = pwskills1(12345,'nfhu@gmail.com',78)\n"
   ]
  },
  {
   "cell_type": "code",
   "execution_count": 8,
   "id": "1c2fb5d9-5840-4e1f-bb6d-0163008b7d35",
   "metadata": {},
   "outputs": [
    {
     "ename": "TypeError",
     "evalue": "pwskills1.__init__() missing 3 required positional arguments: 'phone_number', 'email_id', and 'student_id'",
     "output_type": "error",
     "traceback": [
      "\u001b[0;31m---------------------------------------------------------------------------\u001b[0m",
      "\u001b[0;31mTypeError\u001b[0m                                 Traceback (most recent call last)",
      "Cell \u001b[0;32mIn[8], line 1\u001b[0m\n\u001b[0;32m----> 1\u001b[0m nil \u001b[38;5;241m=\u001b[39m \u001b[43mpwskills1\u001b[49m\u001b[43m(\u001b[49m\u001b[43m)\u001b[49m\n",
      "\u001b[0;31mTypeError\u001b[0m: pwskills1.__init__() missing 3 required positional arguments: 'phone_number', 'email_id', and 'student_id'"
     ]
    }
   ],
   "source": [
    "nil = pwskills1()"
   ]
  },
  {
   "cell_type": "code",
   "execution_count": null,
   "id": "1d523262-6606-4f24-9a97-3016433637b8",
   "metadata": {},
   "outputs": [],
   "source": [
    "nilu.return_student_details()"
   ]
  },
  {
   "cell_type": "code",
   "execution_count": 9,
   "id": "ff126e74-c3b8-46a9-99a5-4a456c7a78b8",
   "metadata": {},
   "outputs": [
    {
     "data": {
      "text/plain": [
       "(99, 'dgf@gmail.com', 698)"
      ]
     },
     "execution_count": 9,
     "metadata": {},
     "output_type": "execute_result"
    }
   ],
   "source": [
    "priya = pwskills1(99,\"dgf@gmail.com\",698)\n",
    "priya.return_student_details()"
   ]
  },
  {
   "cell_type": "code",
   "execution_count": 10,
   "id": "c4ac86ca-9849-4031-8bdc-e5e6925a031b",
   "metadata": {},
   "outputs": [],
   "source": [
    "class pwskills2:\n",
    "    def __init__(self,phone_number,email_id,student_id):\n",
    "        self.phone_number1 = phone_number\n",
    "        self.email_id1 = email_id\n",
    "        self.student_id1 = student_id\n",
    "        \n",
    "    def return_student_details(self): \n",
    "        return self.phone_number1 ,self.email_id1,self.student_id1 \n",
    "        \n",
    "    \n",
    "    \n",
    "    "
   ]
  },
  {
   "cell_type": "code",
   "execution_count": 11,
   "id": "09d70bc5-c976-486c-a6b0-43a76c5b2d30",
   "metadata": {},
   "outputs": [],
   "source": [
    "piya  = pwskills2(56799,\"dgf@gmail.com\",6908)"
   ]
  },
  {
   "cell_type": "code",
   "execution_count": 12,
   "id": "3722894c-10ff-4a33-89c8-0b0904523449",
   "metadata": {},
   "outputs": [
    {
     "ename": "AttributeError",
     "evalue": "'pwskills2' object has no attribute 'phone_number'",
     "output_type": "error",
     "traceback": [
      "\u001b[0;31m---------------------------------------------------------------------------\u001b[0m",
      "\u001b[0;31mAttributeError\u001b[0m                            Traceback (most recent call last)",
      "Cell \u001b[0;32mIn[12], line 1\u001b[0m\n\u001b[0;32m----> 1\u001b[0m \u001b[43mpiya\u001b[49m\u001b[38;5;241;43m.\u001b[39;49m\u001b[43mphone_number\u001b[49m()\n",
      "\u001b[0;31mAttributeError\u001b[0m: 'pwskills2' object has no attribute 'phone_number'"
     ]
    }
   ],
   "source": [
    "piya.phone_number()"
   ]
  },
  {
   "cell_type": "code",
   "execution_count": 13,
   "id": "28940f56-6bfa-4aad-9758-72fcc46ba912",
   "metadata": {},
   "outputs": [
    {
     "data": {
      "text/plain": [
       "56799"
      ]
     },
     "execution_count": 13,
     "metadata": {},
     "output_type": "execute_result"
    }
   ],
   "source": [
    "piya.phone_number1"
   ]
  },
  {
   "cell_type": "code",
   "execution_count": 14,
   "id": "8877fa83-0e1b-4c21-ade5-583faaf6d377",
   "metadata": {},
   "outputs": [
    {
     "data": {
      "text/plain": [
       "(56799, 'dgf@gmail.com', 6908)"
      ]
     },
     "execution_count": 14,
     "metadata": {},
     "output_type": "execute_result"
    }
   ],
   "source": [
    "piya.return_student_details()"
   ]
  },
  {
   "cell_type": "code",
   "execution_count": 15,
   "id": "c31d8c4e-c8cd-4c27-ae87-369ab4301ec6",
   "metadata": {},
   "outputs": [],
   "source": [
    "class pwskills3:\n",
    "    def __init__(ni,phone_number,email_id,student_id):\n",
    "        ni.phone_number1 = phone_number\n",
    "        ni.email_id1 = email_id\n",
    "        ni.student_id1 = student_id\n",
    "        \n",
    "    def return_student_details(ni): \n",
    "        return ni.phone_number1 ,ni.email_id1,ni.student_id1 \n",
    "        \n",
    "    \n",
    "    "
   ]
  },
  {
   "cell_type": "code",
   "execution_count": 16,
   "id": "c2b048f6-7fd3-4cab-a84f-424b9d60ad97",
   "metadata": {},
   "outputs": [],
   "source": [
    "paw =pwskills3 (58768777659,\"dfryguhy\",2548)"
   ]
  },
  {
   "cell_type": "code",
   "execution_count": 17,
   "id": "66f32f02-bf9e-4307-a633-b178c2cf1d9f",
   "metadata": {},
   "outputs": [
    {
     "data": {
      "text/plain": [
       "(58768777659, 'dfryguhy', 2548)"
      ]
     },
     "execution_count": 17,
     "metadata": {},
     "output_type": "execute_result"
    }
   ],
   "source": [
    "paw. return_student_details()"
   ]
  },
  {
   "cell_type": "code",
   "execution_count": 18,
   "id": "69614c12-bf60-4033-a7ef-013c9c0a2ad0",
   "metadata": {},
   "outputs": [
    {
     "name": "stdout",
     "output_type": "stream",
     "text": [
      "9\n",
      "hgiuy\n",
      "[678, 56, 90, 5, 7]\n"
     ]
    }
   ],
   "source": [
    "def test1(a,b):\n",
    "    return a+b\n",
    "print(test1(4,5))\n",
    "print(test1(\"hg\",\"iuy\"))\n",
    "print(test1([678,56],[90,5,7]))"
   ]
  },
  {
   "cell_type": "code",
   "execution_count": 19,
   "id": "acaea3fa-90a4-46b0-9d8d-8335b0f15fa1",
   "metadata": {},
   "outputs": [],
   "source": [
    "class datascience:\n",
    "    def syllabus(self):\n",
    "        print(\"this is my syllabus for DS\")"
   ]
  },
  {
   "cell_type": "code",
   "execution_count": 20,
   "id": "c8e16f85-df2f-43bb-9b51-1b8bf0a459f4",
   "metadata": {},
   "outputs": [],
   "source": [
    "class web_dev:\n",
    "    def syllabus(self):\n",
    "        print(\"this is my syllabus for web_dev\")"
   ]
  },
  {
   "cell_type": "code",
   "execution_count": 21,
   "id": "58f4eeed-70ca-414b-b620-7d3cb4272a68",
   "metadata": {},
   "outputs": [],
   "source": [
    "def class_perform(class_obj):\n",
    "    for i in class_obj:\n",
    "        i.syllabus()"
   ]
  },
  {
   "cell_type": "code",
   "execution_count": 22,
   "id": "431066ef-77e2-41a9-8281-f61234aa5fe5",
   "metadata": {},
   "outputs": [],
   "source": [
    "ds = datascience()\n",
    "wb = web_dev()"
   ]
  },
  {
   "cell_type": "code",
   "execution_count": 23,
   "id": "3b6e35c8-3af9-43e8-88a1-bbfe193edba9",
   "metadata": {},
   "outputs": [
    {
     "name": "stdout",
     "output_type": "stream",
     "text": [
      "this is my syllabus for web_dev\n",
      "this is my syllabus for DS\n"
     ]
    }
   ],
   "source": [
    "class_obj = [wb,ds]\n",
    "class_perform(class_obj)"
   ]
  },
  {
   "cell_type": "code",
   "execution_count": 24,
   "id": "88914f0b-b184-4663-9cd5-659876573edd",
   "metadata": {},
   "outputs": [],
   "source": [
    "class test3:\n",
    "    def __init__(self,a,b):\n",
    "        self.a = a\n",
    "        self.b = b"
   ]
  },
  {
   "cell_type": "code",
   "execution_count": 25,
   "id": "b32666d6-4e65-411a-9ba1-a77dcf6c0d5f",
   "metadata": {},
   "outputs": [],
   "source": [
    "t = test3(23,7)"
   ]
  },
  {
   "cell_type": "code",
   "execution_count": 26,
   "id": "b5418be1-a8f5-4e18-b0d5-7d84c334208e",
   "metadata": {},
   "outputs": [],
   "source": [
    "class  car:\n",
    "    def __init__(self,year,make,model,speed):\n",
    "        self.__year = year\n",
    "        self.__make = make\n",
    "        self.__model = model\n",
    "        self.__speed = 0\n",
    "    def return_car(self):\n",
    "        return self.__year,self.__make, self.__model,self.__speed\n",
    "    def set_speed(self,speed):\n",
    "        self.__speed = 0 if speed<0 else speed\n",
    "    def get_speed (self):\n",
    "        return self.__speed"
   ]
  },
  {
   "cell_type": "code",
   "execution_count": 27,
   "id": "243947fd-f93a-4768-84b9-30a463aa19f8",
   "metadata": {},
   "outputs": [],
   "source": [
    "c = car(2022,\"toyota\",\"innova\",67)"
   ]
  },
  {
   "cell_type": "code",
   "execution_count": 28,
   "id": "73a69006-2e9d-4cd3-ab1f-4aafe49a9205",
   "metadata": {},
   "outputs": [
    {
     "ename": "AttributeError",
     "evalue": "'car' object has no attribute 'year'",
     "output_type": "error",
     "traceback": [
      "\u001b[0;31m---------------------------------------------------------------------------\u001b[0m",
      "\u001b[0;31mAttributeError\u001b[0m                            Traceback (most recent call last)",
      "Cell \u001b[0;32mIn[28], line 1\u001b[0m\n\u001b[0;32m----> 1\u001b[0m \u001b[43mc\u001b[49m\u001b[38;5;241;43m.\u001b[39;49m\u001b[43myear\u001b[49m\n",
      "\u001b[0;31mAttributeError\u001b[0m: 'car' object has no attribute 'year'"
     ]
    }
   ],
   "source": [
    "c.year"
   ]
  },
  {
   "cell_type": "code",
   "execution_count": 29,
   "id": "5b7e8365-c9b3-4ebd-a6f8-38cabac0a012",
   "metadata": {},
   "outputs": [
    {
     "ename": "AttributeError",
     "evalue": "'car' object has no attribute '__year'",
     "output_type": "error",
     "traceback": [
      "\u001b[0;31m---------------------------------------------------------------------------\u001b[0m",
      "\u001b[0;31mAttributeError\u001b[0m                            Traceback (most recent call last)",
      "Cell \u001b[0;32mIn[29], line 1\u001b[0m\n\u001b[0;32m----> 1\u001b[0m \u001b[43mc\u001b[49m\u001b[38;5;241;43m.\u001b[39;49m\u001b[43m__year\u001b[49m\n",
      "\u001b[0;31mAttributeError\u001b[0m: 'car' object has no attribute '__year'"
     ]
    }
   ],
   "source": [
    "c.__year"
   ]
  },
  {
   "cell_type": "code",
   "execution_count": 30,
   "id": "3849e8df-7967-49fd-a906-616a2c3f9aea",
   "metadata": {},
   "outputs": [
    {
     "data": {
      "text/plain": [
       "2022"
      ]
     },
     "execution_count": 30,
     "metadata": {},
     "output_type": "execute_result"
    }
   ],
   "source": [
    "c._car__year"
   ]
  },
  {
   "cell_type": "code",
   "execution_count": 31,
   "id": "7a6cc168-a2fc-4aa2-b8b4-7fb0a36458fa",
   "metadata": {},
   "outputs": [],
   "source": [
    "c.set_speed(34)"
   ]
  },
  {
   "cell_type": "code",
   "execution_count": 32,
   "id": "e104dfa1-6836-4eb2-be81-d3987093530b",
   "metadata": {},
   "outputs": [
    {
     "data": {
      "text/plain": [
       "34"
      ]
     },
     "execution_count": 32,
     "metadata": {},
     "output_type": "execute_result"
    }
   ],
   "source": [
    "c.get_speed()"
   ]
  },
  {
   "cell_type": "code",
   "execution_count": 33,
   "id": "9130d263-6039-4c3c-8415-3f8ba5f8c969",
   "metadata": {},
   "outputs": [],
   "source": [
    "class bank_account:\n",
    "    def __init__(self,name,bank_name,account_no,balance):\n",
    "        self.__name = name\n",
    "        self.__bank_name = bank_name\n",
    "        self.__account_no = account_no\n",
    "        self.__balance = balance\n",
    "    def check_balance(self):\n",
    "        return self.__balance\n",
    "    def deposit(self,amount):\n",
    "        self.__balance = self.__balance + amount\n",
    "    def withdrawl(self,amount):\n",
    "        if amount<self.__balance:\n",
    "            self.__balance = self.__balance - amount\n",
    "            return True\n",
    "        else:\n",
    "            return False    \n",
    "        "
   ]
  },
  {
   "cell_type": "code",
   "execution_count": 34,
   "id": "5d45db4a-1d66-44e5-88bd-8e895e6f4340",
   "metadata": {},
   "outputs": [],
   "source": [
    "Nirmala = bank_account(\"Nirmala\",\"SBI\",234556,23000)"
   ]
  },
  {
   "cell_type": "code",
   "execution_count": 35,
   "id": "eed9f2b2-1955-45a0-9845-d508ae3928c2",
   "metadata": {},
   "outputs": [
    {
     "data": {
      "text/plain": [
       "23000"
      ]
     },
     "execution_count": 35,
     "metadata": {},
     "output_type": "execute_result"
    }
   ],
   "source": [
    "Nirmala.check_balance()"
   ]
  },
  {
   "cell_type": "code",
   "execution_count": 36,
   "id": "56540c2c-cf6a-4d42-9284-abed9d6c514b",
   "metadata": {},
   "outputs": [],
   "source": [
    "Nirmala.deposit(2000)"
   ]
  },
  {
   "cell_type": "code",
   "execution_count": 37,
   "id": "7bf63737-7cc9-4e0d-85a2-f49b86ee8fdd",
   "metadata": {},
   "outputs": [
    {
     "data": {
      "text/plain": [
       "25000"
      ]
     },
     "execution_count": 37,
     "metadata": {},
     "output_type": "execute_result"
    }
   ],
   "source": [
    "Nirmala.check_balance()"
   ]
  },
  {
   "cell_type": "code",
   "execution_count": 38,
   "id": "9d3dad44-75d4-448b-b2b7-b67a3b4cda96",
   "metadata": {},
   "outputs": [
    {
     "data": {
      "text/plain": [
       "True"
      ]
     },
     "execution_count": 38,
     "metadata": {},
     "output_type": "execute_result"
    }
   ],
   "source": [
    "Nirmala.withdrawl(4500)"
   ]
  },
  {
   "cell_type": "code",
   "execution_count": 39,
   "id": "462a1e6a-8c15-4cba-a7c2-bee333a9a1f3",
   "metadata": {},
   "outputs": [
    {
     "data": {
      "text/plain": [
       "20500"
      ]
     },
     "execution_count": 39,
     "metadata": {},
     "output_type": "execute_result"
    }
   ],
   "source": [
    "Nirmala.check_balance()"
   ]
  },
  {
   "cell_type": "code",
   "execution_count": 40,
   "id": "423e5fbb-483b-4e8d-b213-a8fe41482574",
   "metadata": {},
   "outputs": [
    {
     "data": {
      "text/plain": [
       "False"
      ]
     },
     "execution_count": 40,
     "metadata": {},
     "output_type": "execute_result"
    }
   ],
   "source": [
    "Nirmala.withdrawl(21000)"
   ]
  },
  {
   "cell_type": "code",
   "execution_count": 41,
   "id": "de4b7617-1595-4bd2-915f-02b2f183ebe8",
   "metadata": {},
   "outputs": [
    {
     "data": {
      "text/plain": [
       "20500"
      ]
     },
     "execution_count": 41,
     "metadata": {},
     "output_type": "execute_result"
    }
   ],
   "source": [
    "Nirmala.check_balance()"
   ]
  },
  {
   "cell_type": "code",
   "execution_count": 42,
   "id": "5d47e476-4192-4498-beb8-481399dd355b",
   "metadata": {},
   "outputs": [
    {
     "data": {
      "text/plain": [
       "20500"
      ]
     },
     "execution_count": 42,
     "metadata": {},
     "output_type": "execute_result"
    }
   ],
   "source": [
    "Nirmala._bank_account__balance"
   ]
  },
  {
   "cell_type": "code",
   "execution_count": null,
   "id": "cfe7a87f-dc50-4f24-a8d2-82c81f0a7647",
   "metadata": {},
   "outputs": [],
   "source": [
    "#inheritance"
   ]
  },
  {
   "cell_type": "code",
   "execution_count": null,
   "id": "10ee6df7-e277-4220-8e45-e23600d1e5a9",
   "metadata": {},
   "outputs": [],
   "source": [
    "#abstr"
   ]
  },
  {
   "cell_type": "code",
   "execution_count": null,
   "id": "73207acf-d70c-43ea-a6a9-4c7a3cca98f3",
   "metadata": {},
   "outputs": [],
   "source": []
  },
  {
   "cell_type": "code",
   "execution_count": null,
   "id": "7662d232-f200-4396-9cf5-571b7ffa6148",
   "metadata": {},
   "outputs": [],
   "source": []
  }
 ],
 "metadata": {
  "kernelspec": {
   "display_name": "Python 3 (ipykernel)",
   "language": "python",
   "name": "python3"
  },
  "language_info": {
   "codemirror_mode": {
    "name": "ipython",
    "version": 3
   },
   "file_extension": ".py",
   "mimetype": "text/x-python",
   "name": "python",
   "nbconvert_exporter": "python",
   "pygments_lexer": "ipython3",
   "version": "3.10.8"
  }
 },
 "nbformat": 4,
 "nbformat_minor": 5
}
