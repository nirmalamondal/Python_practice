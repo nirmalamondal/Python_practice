{
 "cells": [
  {
   "cell_type": "code",
   "execution_count": 1,
   "id": "24ae961e-a3bc-4ca8-8c1d-8a3bc10dc353",
   "metadata": {},
   "outputs": [],
   "source": [
    "import threading"
   ]
  },
  {
   "cell_type": "code",
   "execution_count": 2,
   "id": "8abd3981-5394-473b-b18a-b718547c1bdc",
   "metadata": {},
   "outputs": [],
   "source": [
    "def test(id):\n",
    "    print(\"program start %d\"% id)"
   ]
  },
  {
   "cell_type": "code",
   "execution_count": 3,
   "id": "684f35c5-1109-4f9b-82b6-496cd97518f0",
   "metadata": {},
   "outputs": [
    {
     "name": "stdout",
     "output_type": "stream",
     "text": [
      "program start 45\n"
     ]
    }
   ],
   "source": [
    "test(45)"
   ]
  },
  {
   "cell_type": "code",
   "execution_count": 4,
   "id": "f0ac9d80-4e09-40c5-940e-066fd08e170b",
   "metadata": {},
   "outputs": [],
   "source": [
    "thread = [threading.Thread(target = test,args = (i,))for i in range(10)]"
   ]
  },
  {
   "cell_type": "code",
   "execution_count": 5,
   "id": "ee4b4a9c-da2b-4d05-b1e2-af2713176559",
   "metadata": {},
   "outputs": [
    {
     "name": "stdout",
     "output_type": "stream",
     "text": [
      "program start 0\n",
      "program start 1\n",
      "program start 2\n",
      "program start 3\n",
      "program start 4\n",
      "program start 5\n",
      "program start 6\n",
      "program start 7\n",
      "program start 8\n",
      "program start 9\n"
     ]
    }
   ],
   "source": [
    "for t in thread:\n",
    "    t.start()"
   ]
  },
  {
   "cell_type": "code",
   "execution_count": 6,
   "id": "3158d519-1256-4da9-9f45-5104fce670f1",
   "metadata": {},
   "outputs": [
    {
     "data": {
      "text/plain": [
       "[<Thread(Thread-5 (test), stopped 140044169893440)>,\n",
       " <Thread(Thread-6 (test), stopped 140044169893440)>,\n",
       " <Thread(Thread-7 (test), stopped 140044169893440)>,\n",
       " <Thread(Thread-8 (test), stopped 140044169893440)>,\n",
       " <Thread(Thread-9 (test), stopped 140044169893440)>,\n",
       " <Thread(Thread-10 (test), stopped 140044169893440)>,\n",
       " <Thread(Thread-11 (test), stopped 140044169893440)>,\n",
       " <Thread(Thread-12 (test), stopped 140044169893440)>,\n",
       " <Thread(Thread-13 (test), stopped 140044169893440)>,\n",
       " <Thread(Thread-14 (test), stopped 140044169893440)>]"
      ]
     },
     "execution_count": 6,
     "metadata": {},
     "output_type": "execute_result"
    }
   ],
   "source": [
    "thread"
   ]
  },
  {
   "cell_type": "code",
   "execution_count": 7,
   "id": "5101d3e7-ca1a-4722-bed0-c40f1e71008f",
   "metadata": {},
   "outputs": [
    {
     "data": {
      "text/plain": [
       "140044660538496"
      ]
     },
     "execution_count": 7,
     "metadata": {},
     "output_type": "execute_result"
    }
   ],
   "source": [
    "id(thread)"
   ]
  },
  {
   "cell_type": "code",
   "execution_count": 9,
   "id": "e01f57a8-bb8b-4fde-a8f3-b048910c929f",
   "metadata": {},
   "outputs": [],
   "source": [
    "import threading\n",
    "import urllib.request\n",
    "def file_download(url, filename):\n",
    "    urllib.request.urlretrieve(url,filename)"
   ]
  },
  {
   "cell_type": "code",
   "execution_count": 10,
   "id": "11abe791-79ec-4fd7-8dd5-3595aec42d2d",
   "metadata": {},
   "outputs": [],
   "source": [
    "file_download(\"https://github.com/nirmalamondal/30jan_assignment/commit/0dd181d46eee7fea3649e4ca1dd40a140f9d8a11\",\"test.txt\")"
   ]
  },
  {
   "cell_type": "code",
   "execution_count": 11,
   "id": "71702475-682b-4852-bb27-cbd4ac17e195",
   "metadata": {},
   "outputs": [],
   "source": [
    "url_list = [\"https://github.com/nirmalamondal/30jan_assignment/commit/0dd181d46eee7fea3649e4ca1dd40a140f9d8a11\",\"https://www.geeksforgeeks.org/python-variables/\"]"
   ]
  },
  {
   "cell_type": "code",
   "execution_count": 12,
   "id": "6e4ae267-8711-4171-9206-b8547b3c8d81",
   "metadata": {},
   "outputs": [],
   "source": [
    "file_name_list = [\"data.txt\",\"data1.txt\"]"
   ]
  },
  {
   "cell_type": "code",
   "execution_count": 13,
   "id": "978aa992-45cf-473f-b99b-cf0f5b9ff292",
   "metadata": {},
   "outputs": [],
   "source": [
    "th = [threading.Thread(target = file_download,args = (url_list[i],file_name_list[i])) for i in range(len(url_list))]"
   ]
  },
  {
   "cell_type": "code",
   "execution_count": 14,
   "id": "eab6f2d3-bc02-4f2d-83d9-7f0324d85222",
   "metadata": {},
   "outputs": [],
   "source": [
    "for t in th:\n",
    "    t.start()"
   ]
  },
  {
   "cell_type": "code",
   "execution_count": 15,
   "id": "c3634c51-78cd-4a3f-b27a-d5922ccca8c4",
   "metadata": {},
   "outputs": [
    {
     "data": {
      "text/plain": [
       "[<Thread(Thread-15 (file_download), stopped 140044169893440)>,\n",
       " <Thread(Thread-16 (file_download), stopped 140044160452160)>]"
      ]
     },
     "execution_count": 15,
     "metadata": {},
     "output_type": "execute_result"
    }
   ],
   "source": [
    "th"
   ]
  },
  {
   "cell_type": "code",
   "execution_count": 16,
   "id": "6f814c3f-fc1e-4ad5-8b57-674e60437cc4",
   "metadata": {},
   "outputs": [],
   "source": [
    "import time "
   ]
  },
  {
   "cell_type": "code",
   "execution_count": 41,
   "id": "bea5845f-3baf-4501-98c6-10ebad485d96",
   "metadata": {},
   "outputs": [],
   "source": [
    "def test1(id):\n",
    "    for i in range(10):\n",
    "        print(\"test1 %d printing %d %s\" %(id,i,time.ctime()))\n",
    "        time.sleep(1)"
   ]
  },
  {
   "cell_type": "code",
   "execution_count": 42,
   "id": "15665924-d7c4-47f5-b59c-956b1b73c816",
   "metadata": {},
   "outputs": [
    {
     "name": "stdout",
     "output_type": "stream",
     "text": [
      "test1 1 printing 0 Sat Apr 15 14:50:22 2023\n",
      "test1 1 printing 1 Sat Apr 15 14:50:23 2023\n",
      "test1 1 printing 2 Sat Apr 15 14:50:24 2023\n",
      "test1 1 printing 3 Sat Apr 15 14:50:25 2023\n",
      "test1 1 printing 4 Sat Apr 15 14:50:26 2023\n",
      "test1 1 printing 5 Sat Apr 15 14:50:27 2023\n",
      "test1 1 printing 6 Sat Apr 15 14:50:28 2023\n",
      "test1 1 printing 7 Sat Apr 15 14:50:29 2023\n",
      "test1 1 printing 8 Sat Apr 15 14:50:30 2023\n",
      "test1 1 printing 9 Sat Apr 15 14:50:31 2023\n"
     ]
    }
   ],
   "source": [
    "test1(1)"
   ]
  },
  {
   "cell_type": "code",
   "execution_count": 43,
   "id": "af486c98-9c47-430e-a302-b468a73157ad",
   "metadata": {},
   "outputs": [],
   "source": [
    "thr = [threading.Thread(target = test1,args = (i,)) for i in range(3)]"
   ]
  },
  {
   "cell_type": "code",
   "execution_count": 44,
   "id": "9742ce2a-c9f1-4157-aa98-c0f16bd340ee",
   "metadata": {},
   "outputs": [
    {
     "name": "stdout",
     "output_type": "stream",
     "text": [
      "test1 0 printing 0 Sat Apr 15 14:50:33 2023\n",
      "test1 1 printing 0 Sat Apr 15 14:50:33 2023\n",
      "test1 2 printing 0 Sat Apr 15 14:50:33 2023\n",
      "test1 0 printing 1 Sat Apr 15 14:50:34 2023test1 1 printing 1 Sat Apr 15 14:50:34 2023\n",
      "\n",
      "test1 2 printing 1 Sat Apr 15 14:50:34 2023\n",
      "test1 1 printing 2 Sat Apr 15 14:50:35 2023\n",
      "test1 2 printing 2 Sat Apr 15 14:50:35 2023\n",
      "test1 0 printing 2 Sat Apr 15 14:50:35 2023\n",
      "test1 1 printing 3 Sat Apr 15 14:50:36 2023test1 2 printing 3 Sat Apr 15 14:50:36 2023\n",
      "test1 0 printing 3 Sat Apr 15 14:50:36 2023\n",
      "\n",
      "test1 2 printing 4 Sat Apr 15 14:50:37 2023\n",
      "test1 0 printing 4 Sat Apr 15 14:50:37 2023\n",
      "test1 1 printing 4 Sat Apr 15 14:50:37 2023\n",
      "test1 2 printing 5 Sat Apr 15 14:50:38 2023test1 0 printing 5 Sat Apr 15 14:50:38 2023\n",
      "\n",
      "test1 1 printing 5 Sat Apr 15 14:50:38 2023\n",
      "test1 1 printing 6 Sat Apr 15 14:50:39 2023\n",
      "test1 0 printing 6 Sat Apr 15 14:50:39 2023\n",
      "test1 2 printing 6 Sat Apr 15 14:50:39 2023\n",
      "test1 1 printing 7 Sat Apr 15 14:50:40 2023test1 0 printing 7 Sat Apr 15 14:50:40 2023\n",
      "\n",
      "test1 2 printing 7 Sat Apr 15 14:50:40 2023\n",
      "test1 0 printing 8 Sat Apr 15 14:50:41 2023\n",
      "test1 1 printing 8 Sat Apr 15 14:50:41 2023\n",
      "test1 2 printing 8 Sat Apr 15 14:50:41 2023\n",
      "test1 0 printing 9 Sat Apr 15 14:50:42 2023\n",
      "test1 1 printing 9 Sat Apr 15 14:50:42 2023\n",
      "test1 2 printing 9 Sat Apr 15 14:50:42 2023\n"
     ]
    }
   ],
   "source": [
    "for t in thr:\n",
    "    t.start()"
   ]
  },
  {
   "cell_type": "code",
   "execution_count": 45,
   "id": "3307dfec-b5c3-4b36-902f-89acd1a02c17",
   "metadata": {},
   "outputs": [],
   "source": [
    "shared_var = 0\n",
    "lock_var = threading.Lock()"
   ]
  },
  {
   "cell_type": "code",
   "execution_count": 46,
   "id": "c37ec0fe-bd68-4ce2-ae04-be41a8da7c88",
   "metadata": {},
   "outputs": [],
   "source": [
    "def test2(id):\n",
    "    global shared_var\n",
    "    with lock_var:\n",
    "        shared_var += 1\n",
    "        print(\"test2 id is %d has increased the shared variable by %d\" %(id,shared_var))"
   ]
  },
  {
   "cell_type": "code",
   "execution_count": 47,
   "id": "c6df29c0-f9ae-41b6-804e-720a554d14d7",
   "metadata": {},
   "outputs": [],
   "source": [
    "thread1 = [threading.Thread(target = test2,args=(i,)) for i in range(3)]"
   ]
  },
  {
   "cell_type": "code",
   "execution_count": 48,
   "id": "14db42da-c7bb-4583-8dfa-c4b51711749e",
   "metadata": {},
   "outputs": [
    {
     "name": "stdout",
     "output_type": "stream",
     "text": [
      "test2 id is 0 has increased the shared variable by 1\n",
      "test2 id is 1 has increased the shared variable by 2\n",
      "test2 id is 2 has increased the shared variable by 3\n"
     ]
    }
   ],
   "source": [
    "for t in thread1:\n",
    "    t.start()"
   ]
  },
  {
   "cell_type": "code",
   "execution_count": null,
   "id": "ba6f1aa1-533c-420b-9c6b-f49b0f8cdfc8",
   "metadata": {},
   "outputs": [],
   "source": []
  }
 ],
 "metadata": {
  "kernelspec": {
   "display_name": "Python 3 (ipykernel)",
   "language": "python",
   "name": "python3"
  },
  "language_info": {
   "codemirror_mode": {
    "name": "ipython",
    "version": 3
   },
   "file_extension": ".py",
   "mimetype": "text/x-python",
   "name": "python",
   "nbconvert_exporter": "python",
   "pygments_lexer": "ipython3",
   "version": "3.10.8"
  }
 },
 "nbformat": 4,
 "nbformat_minor": 5
}
