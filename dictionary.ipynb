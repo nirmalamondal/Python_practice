{
 "cells": [
  {
   "cell_type": "code",
   "execution_count": 1,
   "id": "20f38f20-f1ed-4c1d-900c-af8fb1620da5",
   "metadata": {},
   "outputs": [],
   "source": [
    "d = {}"
   ]
  },
  {
   "cell_type": "code",
   "execution_count": 2,
   "id": "b2fb5b80-6853-4708-b254-798f53eb359b",
   "metadata": {},
   "outputs": [
    {
     "data": {
      "text/plain": [
       "dict"
      ]
     },
     "execution_count": 2,
     "metadata": {},
     "output_type": "execute_result"
    }
   ],
   "source": [
    "type(d)"
   ]
  },
  {
   "cell_type": "code",
   "execution_count": 3,
   "id": "440f1483-abcc-47f9-825e-97f6defcaa7b",
   "metadata": {},
   "outputs": [],
   "source": [
    "d1 = {\"a\" : 1, \"b\":2,\"c\":3}"
   ]
  },
  {
   "cell_type": "code",
   "execution_count": 4,
   "id": "75753513-d1dd-4be6-9b37-3979d3e970fe",
   "metadata": {},
   "outputs": [
    {
     "data": {
      "text/plain": [
       "{'a': 1, 'b': 2, 'c': 3}"
      ]
     },
     "execution_count": 4,
     "metadata": {},
     "output_type": "execute_result"
    }
   ],
   "source": [
    "d1"
   ]
  },
  {
   "cell_type": "code",
   "execution_count": 5,
   "id": "d1832f68-3593-416d-9c18-b0f4cf1e174e",
   "metadata": {},
   "outputs": [],
   "source": [
    "d2 = {12:\"21\",23:\"32\"}"
   ]
  },
  {
   "cell_type": "code",
   "execution_count": 6,
   "id": "254dd436-81ff-4099-bd0c-7f9eac562d52",
   "metadata": {},
   "outputs": [
    {
     "data": {
      "text/plain": [
       "{12: '21', 23: '32'}"
      ]
     },
     "execution_count": 6,
     "metadata": {},
     "output_type": "execute_result"
    }
   ],
   "source": [
    "d2"
   ]
  },
  {
   "cell_type": "code",
   "execution_count": 7,
   "id": "282fe55b-5f89-4ab6-b9ab-57f35d49629b",
   "metadata": {},
   "outputs": [
    {
     "data": {
      "text/plain": [
       "2"
      ]
     },
     "execution_count": 7,
     "metadata": {},
     "output_type": "execute_result"
    }
   ],
   "source": [
    "d1[\"b\"]"
   ]
  },
  {
   "cell_type": "code",
   "execution_count": 9,
   "id": "7d1306ed-ffd2-4895-9e4b-c60889b85356",
   "metadata": {},
   "outputs": [],
   "source": [
    "d3 = {12:\"21\",23:\"32\",12:\"34\"}"
   ]
  },
  {
   "cell_type": "code",
   "execution_count": 11,
   "id": "4f768a6f-d37e-4ecd-ab77-8b972534f50e",
   "metadata": {},
   "outputs": [
    {
     "data": {
      "text/plain": [
       "'34'"
      ]
     },
     "execution_count": 11,
     "metadata": {},
     "output_type": "execute_result"
    }
   ],
   "source": [
    "d3[12]"
   ]
  },
  {
   "cell_type": "code",
   "execution_count": 13,
   "id": "cbf04326-b1e8-4778-8bc1-ce34ba956cfd",
   "metadata": {},
   "outputs": [],
   "source": [
    "d4 = {'company':\"pwskills\",'courses':['a','b','c']}"
   ]
  },
  {
   "cell_type": "code",
   "execution_count": 14,
   "id": "68ad300e-584c-4faf-a04e-e64cd1a79bd5",
   "metadata": {},
   "outputs": [
    {
     "data": {
      "text/plain": [
       "'c'"
      ]
     },
     "execution_count": 14,
     "metadata": {},
     "output_type": "execute_result"
    }
   ],
   "source": [
    "d4['courses'][2]"
   ]
  },
  {
   "cell_type": "code",
   "execution_count": 15,
   "id": "9065c92d-471e-40ec-a11e-bdbbca5d36d0",
   "metadata": {},
   "outputs": [],
   "source": [
    "d5={'num':{1,2,3,4},'assign':(4,6,9,8,9),'launch':[90,45,23]}"
   ]
  },
  {
   "cell_type": "code",
   "execution_count": 16,
   "id": "a1effa0c-6d29-46b6-8beb-bb6548898046",
   "metadata": {},
   "outputs": [
    {
     "data": {
      "text/plain": [
       "[90, 45, 23]"
      ]
     },
     "execution_count": 16,
     "metadata": {},
     "output_type": "execute_result"
    }
   ],
   "source": [
    "d5['launch']"
   ]
  },
  {
   "cell_type": "code",
   "execution_count": 17,
   "id": "bd321a76-755e-41c2-b3c2-577c0ead9839",
   "metadata": {},
   "outputs": [
    {
     "data": {
      "text/plain": [
       "(4, 6, 9, 8, 9)"
      ]
     },
     "execution_count": 17,
     "metadata": {},
     "output_type": "execute_result"
    }
   ],
   "source": [
    "d5['assign']"
   ]
  },
  {
   "cell_type": "code",
   "execution_count": 19,
   "id": "ea90b4dc-9174-4c33-8e5b-cce0c36b7e9a",
   "metadata": {},
   "outputs": [],
   "source": [
    "d6 = {'skills':{'c':9,'python':10,'c++':9},'quality':{'dedication':10,'hardworking':9,'communication':8}}"
   ]
  },
  {
   "cell_type": "code",
   "execution_count": 20,
   "id": "39da656c-25ad-4ad0-b03c-d9a94de2c8f4",
   "metadata": {},
   "outputs": [
    {
     "data": {
      "text/plain": [
       "9"
      ]
     },
     "execution_count": 20,
     "metadata": {},
     "output_type": "execute_result"
    }
   ],
   "source": [
    "d6['quality']['hardworking']"
   ]
  },
  {
   "cell_type": "code",
   "execution_count": 21,
   "id": "0d9871e3-5b7c-484e-9028-454de9022d3f",
   "metadata": {},
   "outputs": [
    {
     "data": {
      "text/plain": [
       "{'skills': {'c': 9, 'python': 10, 'c++': 9},\n",
       " 'quality': {'dedication': 10, 'hardworking': 9, 'communication': 8}}"
      ]
     },
     "execution_count": 21,
     "metadata": {},
     "output_type": "execute_result"
    }
   ],
   "source": [
    "d6"
   ]
  },
  {
   "cell_type": "code",
   "execution_count": 22,
   "id": "c65015e9-8b67-4d87-ae90-d7065e260256",
   "metadata": {},
   "outputs": [],
   "source": [
    "d6['mentor'] = {'yu','jh','oi'}"
   ]
  },
  {
   "cell_type": "code",
   "execution_count": 23,
   "id": "1d1a5dd9-1093-4f17-8d89-c1d1d93255a4",
   "metadata": {},
   "outputs": [
    {
     "data": {
      "text/plain": [
       "{'skills': {'c': 9, 'python': 10, 'c++': 9},\n",
       " 'quality': {'dedication': 10, 'hardworking': 9, 'communication': 8},\n",
       " 'mentor': {'jh', 'oi', 'yu'}}"
      ]
     },
     "execution_count": 23,
     "metadata": {},
     "output_type": "execute_result"
    }
   ],
   "source": [
    "d6"
   ]
  },
  {
   "cell_type": "code",
   "execution_count": 24,
   "id": "e3f0355c-efb4-45d4-bd6a-e0fee7b66f62",
   "metadata": {},
   "outputs": [],
   "source": [
    "d6['mentor'] = {'yu','jh','oi','yt','qwqr'}"
   ]
  },
  {
   "cell_type": "code",
   "execution_count": 25,
   "id": "f005bd9e-dc11-486d-932c-e7dab9b62143",
   "metadata": {},
   "outputs": [
    {
     "data": {
      "text/plain": [
       "{'skills': {'c': 9, 'python': 10, 'c++': 9},\n",
       " 'quality': {'dedication': 10, 'hardworking': 9, 'communication': 8},\n",
       " 'mentor': {'jh', 'oi', 'qwqr', 'yt', 'yu'}}"
      ]
     },
     "execution_count": 25,
     "metadata": {},
     "output_type": "execute_result"
    }
   ],
   "source": [
    "d6"
   ]
  },
  {
   "cell_type": "code",
   "execution_count": 27,
   "id": "6f8e3e93-692c-475f-8f64-c6958d2c9c1f",
   "metadata": {},
   "outputs": [
    {
     "data": {
      "text/plain": [
       "{'jh', 'oi', 'qwqr', 'yt', 'yu'}"
      ]
     },
     "execution_count": 27,
     "metadata": {},
     "output_type": "execute_result"
    }
   ],
   "source": [
    "d6.pop('mentor')"
   ]
  },
  {
   "cell_type": "code",
   "execution_count": 28,
   "id": "66e659d4-bb70-4692-98c8-96fd0018d8a2",
   "metadata": {},
   "outputs": [
    {
     "data": {
      "text/plain": [
       "{'skills': {'c': 9, 'python': 10, 'c++': 9},\n",
       " 'quality': {'dedication': 10, 'hardworking': 9, 'communication': 8}}"
      ]
     },
     "execution_count": 28,
     "metadata": {},
     "output_type": "execute_result"
    }
   ],
   "source": [
    "d6"
   ]
  },
  {
   "cell_type": "code",
   "execution_count": 29,
   "id": "9f59ed15-8ab9-4591-af61-7571ce49efea",
   "metadata": {},
   "outputs": [
    {
     "data": {
      "text/plain": [
       "dict_keys(['skills', 'quality'])"
      ]
     },
     "execution_count": 29,
     "metadata": {},
     "output_type": "execute_result"
    }
   ],
   "source": [
    "d6.keys()"
   ]
  },
  {
   "cell_type": "code",
   "execution_count": 30,
   "id": "6f3c3d4b-3011-4705-ae50-e6ae9fd5d299",
   "metadata": {},
   "outputs": [
    {
     "data": {
      "text/plain": [
       "['skills', 'quality']"
      ]
     },
     "execution_count": 30,
     "metadata": {},
     "output_type": "execute_result"
    }
   ],
   "source": [
    "list(d6.keys())"
   ]
  },
  {
   "cell_type": "code",
   "execution_count": 31,
   "id": "d9c68bb6-fce4-4b40-b1d1-8938bdf7fbc4",
   "metadata": {},
   "outputs": [
    {
     "data": {
      "text/plain": [
       "[{'c': 9, 'python': 10, 'c++': 9},\n",
       " {'dedication': 10, 'hardworking': 9, 'communication': 8}]"
      ]
     },
     "execution_count": 31,
     "metadata": {},
     "output_type": "execute_result"
    }
   ],
   "source": [
    "list(d6.values())"
   ]
  },
  {
   "cell_type": "code",
   "execution_count": 33,
   "id": "1af3db40-1374-47c8-9c0a-39b3f112bda9",
   "metadata": {},
   "outputs": [
    {
     "data": {
      "text/plain": [
       "[('skills', {'c': 9, 'python': 10, 'c++': 9}),\n",
       " ('quality', {'dedication': 10, 'hardworking': 9, 'communication': 8})]"
      ]
     },
     "execution_count": 33,
     "metadata": {},
     "output_type": "execute_result"
    }
   ],
   "source": [
    "list(d6.items())"
   ]
  },
  {
   "cell_type": "code",
   "execution_count": null,
   "id": "fabb8828-30e7-4506-bf3d-5802c5e3aa9c",
   "metadata": {},
   "outputs": [],
   "source": []
  }
 ],
 "metadata": {
  "kernelspec": {
   "display_name": "Python 3 (ipykernel)",
   "language": "python",
   "name": "python3"
  },
  "language_info": {
   "codemirror_mode": {
    "name": "ipython",
    "version": 3
   },
   "file_extension": ".py",
   "mimetype": "text/x-python",
   "name": "python",
   "nbconvert_exporter": "python",
   "pygments_lexer": "ipython3",
   "version": "3.10.8"
  }
 },
 "nbformat": 4,
 "nbformat_minor": 5
}
