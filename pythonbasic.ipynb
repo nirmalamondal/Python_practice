{
 "cells": [
  {
   "cell_type": "code",
   "execution_count": 34,
   "id": "0dd2cbeb-f3ba-4406-97c3-b276f08a59d6",
   "metadata": {},
   "outputs": [],
   "source": [
    "s=\"nirmala\""
   ]
  },
  {
   "cell_type": "code",
   "execution_count": 35,
   "id": "154ad8e5-8321-482c-a248-e9340b4c64ba",
   "metadata": {},
   "outputs": [
    {
     "data": {
      "text/plain": [
       "'alamri'"
      ]
     },
     "execution_count": 35,
     "metadata": {},
     "output_type": "execute_result"
    }
   ],
   "source": [
    "s[7:0:-1]"
   ]
  },
  {
   "cell_type": "code",
   "execution_count": 36,
   "id": "3679207c-8844-417d-8c4d-0444d76e666c",
   "metadata": {},
   "outputs": [
    {
     "data": {
      "text/plain": [
       "'alamrin'"
      ]
     },
     "execution_count": 36,
     "metadata": {},
     "output_type": "execute_result"
    }
   ],
   "source": [
    "s[::-1]"
   ]
  },
  {
   "cell_type": "code",
   "execution_count": 37,
   "id": "6d6a7769-ef6a-44e2-8884-eb7f8315291c",
   "metadata": {},
   "outputs": [
    {
     "data": {
      "text/plain": [
       "'nirmala'"
      ]
     },
     "execution_count": 37,
     "metadata": {},
     "output_type": "execute_result"
    }
   ],
   "source": [
    "s[0:8]"
   ]
  },
  {
   "cell_type": "code",
   "execution_count": 38,
   "id": "f1ddac8b-8d25-463b-b374-046ab8eff011",
   "metadata": {},
   "outputs": [
    {
     "data": {
      "text/plain": [
       "'nraa'"
      ]
     },
     "execution_count": 38,
     "metadata": {},
     "output_type": "execute_result"
    }
   ],
   "source": [
    "s[0:8:2]"
   ]
  },
  {
   "cell_type": "code",
   "execution_count": 39,
   "id": "65253c16-9eef-4522-892d-616e2264392a",
   "metadata": {},
   "outputs": [
    {
     "data": {
      "text/plain": [
       "''"
      ]
     },
     "execution_count": 39,
     "metadata": {},
     "output_type": "execute_result"
    }
   ],
   "source": [
    "s[-2:-8:2]"
   ]
  },
  {
   "cell_type": "code",
   "execution_count": 40,
   "id": "5a725595-e807-4b5e-bb18-e2d7a2ae0af1",
   "metadata": {},
   "outputs": [
    {
     "data": {
      "text/plain": [
       "'aarn'"
      ]
     },
     "execution_count": 40,
     "metadata": {},
     "output_type": "execute_result"
    }
   ],
   "source": [
    "s[-1:-8:-2]"
   ]
  },
  {
   "cell_type": "code",
   "execution_count": 41,
   "id": "f1457d5e-d21a-4cdd-b688-a8fe7aeed58f",
   "metadata": {},
   "outputs": [
    {
     "data": {
      "text/plain": [
       "'alamrin'"
      ]
     },
     "execution_count": 41,
     "metadata": {},
     "output_type": "execute_result"
    }
   ],
   "source": [
    "s[-1::-1]"
   ]
  },
  {
   "cell_type": "code",
   "execution_count": 42,
   "id": "be1b16a6-23c3-4789-bfdd-4949640cd790",
   "metadata": {},
   "outputs": [
    {
     "data": {
      "text/plain": [
       "''"
      ]
     },
     "execution_count": 42,
     "metadata": {},
     "output_type": "execute_result"
    }
   ],
   "source": [
    "s[:-90:]"
   ]
  },
  {
   "cell_type": "code",
   "execution_count": 43,
   "id": "1cebb107-eeb4-4915-9409-514981a781dc",
   "metadata": {},
   "outputs": [
    {
     "data": {
      "text/plain": [
       "'alamrin'"
      ]
     },
     "execution_count": 43,
     "metadata": {},
     "output_type": "execute_result"
    }
   ],
   "source": [
    "s[:-90:-1]"
   ]
  },
  {
   "cell_type": "code",
   "execution_count": 44,
   "id": "70ae1a3e-c8ff-4cfa-bbb6-f77611440292",
   "metadata": {},
   "outputs": [],
   "source": [
    "s1 = \"Hello I am Nirmala\""
   ]
  },
  {
   "cell_type": "code",
   "execution_count": 45,
   "id": "008aff0f-0e83-4547-a7d9-b321710886b8",
   "metadata": {},
   "outputs": [
    {
     "data": {
      "text/plain": [
       "18"
      ]
     },
     "execution_count": 45,
     "metadata": {},
     "output_type": "execute_result"
    }
   ],
   "source": [
    "len(s1)"
   ]
  },
  {
   "cell_type": "code",
   "execution_count": 46,
   "id": "52cb6826-d322-4f7a-aedc-047b1b7c47a9",
   "metadata": {},
   "outputs": [
    {
     "data": {
      "text/plain": [
       "8"
      ]
     },
     "execution_count": 46,
     "metadata": {},
     "output_type": "execute_result"
    }
   ],
   "source": [
    "s1.find('a') #return index of first occurance of a"
   ]
  },
  {
   "cell_type": "code",
   "execution_count": 47,
   "id": "49095615-1c54-4bca-be1c-2236d728108a",
   "metadata": {},
   "outputs": [
    {
     "data": {
      "text/plain": [
       "14"
      ]
     },
     "execution_count": 47,
     "metadata": {},
     "output_type": "execute_result"
    }
   ],
   "source": [
    "s1.find('mala')"
   ]
  },
  {
   "cell_type": "code",
   "execution_count": 48,
   "id": "1d478b83-4dc7-4f94-ab3b-23ffe3705090",
   "metadata": {},
   "outputs": [
    {
     "data": {
      "text/plain": [
       "-1"
      ]
     },
     "execution_count": 48,
     "metadata": {},
     "output_type": "execute_result"
    }
   ],
   "source": [
    "s1.find('A')  # when it is unable to find it  returns -1"
   ]
  },
  {
   "cell_type": "code",
   "execution_count": 49,
   "id": "fd501819-2184-4e11-a2b1-fc5c36b0ff41",
   "metadata": {},
   "outputs": [
    {
     "data": {
      "text/plain": [
       "3"
      ]
     },
     "execution_count": 49,
     "metadata": {},
     "output_type": "execute_result"
    }
   ],
   "source": [
    "s1.count('a') # return number of occurance"
   ]
  },
  {
   "cell_type": "code",
   "execution_count": 50,
   "id": "10d216a5-94f1-4f46-83e0-73df18f68ca6",
   "metadata": {},
   "outputs": [
    {
     "data": {
      "text/plain": [
       "1"
      ]
     },
     "execution_count": 50,
     "metadata": {},
     "output_type": "execute_result"
    }
   ],
   "source": [
    "s1.count('am') "
   ]
  },
  {
   "cell_type": "code",
   "execution_count": 51,
   "id": "7493a595-0e39-4733-886f-e9569bf5cafb",
   "metadata": {},
   "outputs": [
    {
     "data": {
      "text/plain": [
       "'HELLO I AM NIRMALA'"
      ]
     },
     "execution_count": 51,
     "metadata": {},
     "output_type": "execute_result"
    }
   ],
   "source": [
    "s1.upper()"
   ]
  },
  {
   "cell_type": "code",
   "execution_count": 52,
   "id": "458c5356-6621-4991-8226-c2427b400a20",
   "metadata": {},
   "outputs": [
    {
     "data": {
      "text/plain": [
       "'hello i am nirmala'"
      ]
     },
     "execution_count": 52,
     "metadata": {},
     "output_type": "execute_result"
    }
   ],
   "source": [
    "s1.lower()"
   ]
  },
  {
   "cell_type": "code",
   "execution_count": 53,
   "id": "e29d9c17-3652-4070-a0f4-b048337c94cc",
   "metadata": {},
   "outputs": [
    {
     "data": {
      "text/plain": [
       "'Hello I Am Nirmala'"
      ]
     },
     "execution_count": 53,
     "metadata": {},
     "output_type": "execute_result"
    }
   ],
   "source": [
    "s1.title()"
   ]
  },
  {
   "cell_type": "code",
   "execution_count": 54,
   "id": "9e66cc85-9514-4073-b6b0-37b37005d180",
   "metadata": {},
   "outputs": [
    {
     "data": {
      "text/plain": [
       "'Hello i am nirmala'"
      ]
     },
     "execution_count": 54,
     "metadata": {},
     "output_type": "execute_result"
    }
   ],
   "source": [
    "s1.capitalize()"
   ]
  },
  {
   "cell_type": "code",
   "execution_count": 55,
   "id": "b6a3107b-9c6c-48b0-ba29-b8e9308095c6",
   "metadata": {},
   "outputs": [],
   "source": [
    "s2 = \"Nirmala\""
   ]
  },
  {
   "cell_type": "code",
   "execution_count": 56,
   "id": "bd0f83c3-dea4-432d-94b9-ba928ea7e561",
   "metadata": {},
   "outputs": [
    {
     "data": {
      "text/plain": [
       "'Nirmala Mondal'"
      ]
     },
     "execution_count": 56,
     "metadata": {},
     "output_type": "execute_result"
    }
   ],
   "source": [
    "s2 +  \" Mondal\""
   ]
  },
  {
   "cell_type": "code",
   "execution_count": 57,
   "id": "c48e7e3d-0abe-45c7-ba32-4f275d466c93",
   "metadata": {},
   "outputs": [
    {
     "data": {
      "text/plain": [
       "'Nirmala 1111'"
      ]
     },
     "execution_count": 57,
     "metadata": {},
     "output_type": "execute_result"
    }
   ],
   "source": [
    "s2 + \" 1111\""
   ]
  },
  {
   "cell_type": "code",
   "execution_count": 58,
   "id": "e0a36956-d76e-4c23-98ac-9a9b30aba7db",
   "metadata": {},
   "outputs": [
    {
     "data": {
      "text/plain": [
       "'NirmalaNirmalaNirmala'"
      ]
     },
     "execution_count": 58,
     "metadata": {},
     "output_type": "execute_result"
    }
   ],
   "source": [
    "s2 * 3"
   ]
  },
  {
   "cell_type": "code",
   "execution_count": 59,
   "id": "13112b6e-feeb-49e1-b4a8-bfdbbac2b461",
   "metadata": {},
   "outputs": [
    {
     "data": {
      "text/plain": [
       "'Nirmala1111'"
      ]
     },
     "execution_count": 59,
     "metadata": {},
     "output_type": "execute_result"
    }
   ],
   "source": [
    "s2 + str(1111)"
   ]
  },
  {
   "cell_type": "code",
   "execution_count": 60,
   "id": "2e57a50a-fa6f-46a5-93ed-1d5d86c4495f",
   "metadata": {},
   "outputs": [
    {
     "data": {
      "text/plain": [
       "\"I'm a student\""
      ]
     },
     "execution_count": 60,
     "metadata": {},
     "output_type": "execute_result"
    }
   ],
   "source": [
    "\"I'm a student\""
   ]
  },
  {
   "cell_type": "code",
   "execution_count": null,
   "id": "19ffa936-db57-431f-96da-6058d9320543",
   "metadata": {},
   "outputs": [],
   "source": [
    "#for  multiline comment  use ----   '''   '''   or \"\"\"   \"\"\" "
   ]
  },
  {
   "cell_type": "code",
   "execution_count": null,
   "id": "28389107-17fa-4de8-bd9f-af410213892c",
   "metadata": {},
   "outputs": [],
   "source": [
    "# select + ctrl + / \n",
    "#dfhnijfo\n",
    "# fhifh;skdo\n",
    "# yeiurpktgok"
   ]
  },
  {
   "cell_type": "code",
   "execution_count": null,
   "id": "8f9d3c3d-e2e8-4fd3-ad2b-608c88994fbd",
   "metadata": {},
   "outputs": [],
   "source": []
  },
  {
   "cell_type": "code",
   "execution_count": null,
   "id": "6afdfeb2-7898-4220-91de-a6cc6ee202ef",
   "metadata": {},
   "outputs": [],
   "source": []
  }
 ],
 "metadata": {
  "kernelspec": {
   "display_name": "Python 3 (ipykernel)",
   "language": "python",
   "name": "python3"
  },
  "language_info": {
   "codemirror_mode": {
    "name": "ipython",
    "version": 3
   },
   "file_extension": ".py",
   "mimetype": "text/x-python",
   "name": "python",
   "nbconvert_exporter": "python",
   "pygments_lexer": "ipython3",
   "version": "3.10.8"
  }
 },
 "nbformat": 4,
 "nbformat_minor": 5
}
