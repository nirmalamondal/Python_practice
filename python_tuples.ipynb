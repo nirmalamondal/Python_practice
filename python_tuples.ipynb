{
 "cells": [
  {
   "cell_type": "code",
   "execution_count": null,
   "id": "767ad333-8235-4e02-891d-2fbadd3f61e0",
   "metadata": {},
   "outputs": [],
   "source": [
    "#Q1. What is a tuple in Python?\n",
    "'''A tuple in Python is an ordered, immutable collection of elements.'''\n",
    "\n",
    "#Q2. How do you create a tuple in Python?\n",
    "'''You can create a tuple in Python by enclosing a sequence of values within parentheses.'''\n",
    "t= (1,2,3,4)\n",
    "#Q3. What is the difference between a tuple and a list in Python?\n",
    "'''\n",
    "Tuples are immutable, meaning their elements cannot be changed, added, or removed after creation, while lists are mutable and can be modified.\n",
    "Tuples are defined using parentheses, and lists are defined using square brackets.'''\n",
    "#Q4. Can a tuple be changed in Python?\n",
    "'''No, a tuple cannot be changed (mutated) in Python after its creation. Once a tuple is defined, you cannot add, remove, or modify its elements. This immutability is a fundamental characteristic of tuples.'''\n",
    "\n",
    "#Q5. How do you access elements in a tuple?\n",
    "'''You can access elements in a tuple by indexing, similar to how you access elements in a list. '''\n",
    "\n",
    "#Q6. How do you unpack a tuple in Python?"
   ]
  }
 ],
 "metadata": {
  "kernelspec": {
   "display_name": "Python 3 (ipykernel)",
   "language": "python",
   "name": "python3"
  },
  "language_info": {
   "codemirror_mode": {
    "name": "ipython",
    "version": 3
   },
   "file_extension": ".py",
   "mimetype": "text/x-python",
   "name": "python",
   "nbconvert_exporter": "python",
   "pygments_lexer": "ipython3",
   "version": "3.10.8"
  }
 },
 "nbformat": 4,
 "nbformat_minor": 5
}
