{
 "cells": [
  {
   "cell_type": "code",
   "execution_count": 20,
   "id": "4b2c4292-5841-48dd-8964-2cf8f05f2cec",
   "metadata": {},
   "outputs": [],
   "source": [
    "class pwskill:\n",
    "    def __init__(self,course_price,course_name):\n",
    "        self.__course_price = course_price\n",
    "        self.course_name  = course_name\n",
    "    @property    \n",
    "    def course_price_access(self):\n",
    "        return self.__course_price\n",
    "    @course_price_access.setter \n",
    "    def course_price_modify(self,new_price):\n",
    "        self.__course_price = new_price"
   ]
  },
  {
   "cell_type": "code",
   "execution_count": 21,
   "id": "fd809186-3479-4748-8133-dcb64a17662a",
   "metadata": {},
   "outputs": [],
   "source": [
    "pw = pwskill(3500,\"DS\")"
   ]
  },
  {
   "cell_type": "code",
   "execution_count": 22,
   "id": "782bd143-05a6-4c94-a1af-cec4379a03ae",
   "metadata": {},
   "outputs": [
    {
     "data": {
      "text/plain": [
       "3500"
      ]
     },
     "execution_count": 22,
     "metadata": {},
     "output_type": "execute_result"
    }
   ],
   "source": [
    "pw._pwskill__course_price"
   ]
  },
  {
   "cell_type": "code",
   "execution_count": 23,
   "id": "fa596e11-f26a-4180-8c06-f39c24adbef3",
   "metadata": {},
   "outputs": [],
   "source": [
    "pw.course_price_modify= 5000"
   ]
  },
  {
   "cell_type": "code",
   "execution_count": 24,
   "id": "9793e837-c5de-4994-98cd-7234901d8657",
   "metadata": {},
   "outputs": [
    {
     "data": {
      "text/plain": [
       "5000"
      ]
     },
     "execution_count": 24,
     "metadata": {},
     "output_type": "execute_result"
    }
   ],
   "source": [
    "pw._pwskill__course_price"
   ]
  },
  {
   "cell_type": "code",
   "execution_count": null,
   "id": "cc853461-e8f5-4d37-8de6-c6b1f06b55a4",
   "metadata": {},
   "outputs": [],
   "source": [
    "@course_price_access.deleter \n",
    "    def delete(self):\n",
    "        del self.__course_price"
   ]
  }
 ],
 "metadata": {
  "kernelspec": {
   "display_name": "Python 3 (ipykernel)",
   "language": "python",
   "name": "python3"
  },
  "language_info": {
   "codemirror_mode": {
    "name": "ipython",
    "version": 3
   },
   "file_extension": ".py",
   "mimetype": "text/x-python",
   "name": "python",
   "nbconvert_exporter": "python",
   "pygments_lexer": "ipython3",
   "version": "3.10.8"
  }
 },
 "nbformat": 4,
 "nbformat_minor": 5
}
