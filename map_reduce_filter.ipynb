{
 "cells": [
  {
   "cell_type": "code",
   "execution_count": 1,
   "id": "229df0d2-307f-4f60-b89f-e0f99cf5aadc",
   "metadata": {},
   "outputs": [
    {
     "data": {
      "text/plain": [
       "[1, 4, 9, 16, 25]"
      ]
     },
     "execution_count": 1,
     "metadata": {},
     "output_type": "execute_result"
    }
   ],
   "source": [
    "l = [1,2,3,4,5]\n",
    "list(map(lambda x : x**2, l))"
   ]
  },
  {
   "cell_type": "code",
   "execution_count": 2,
   "id": "55e5d170-ad4b-484b-b87b-6a9314734c98",
   "metadata": {},
   "outputs": [
    {
     "data": {
      "text/plain": [
       "[1, 4, 9, 16, 25]"
      ]
     },
     "execution_count": 2,
     "metadata": {},
     "output_type": "execute_result"
    }
   ],
   "source": [
    "def sq(x):\n",
    "    return x**2\n",
    "list(map(sq,l))"
   ]
  },
  {
   "cell_type": "code",
   "execution_count": 3,
   "id": "a1080e92-420a-48a0-a91f-08921746257b",
   "metadata": {},
   "outputs": [
    {
     "data": {
      "text/plain": [
       "[7, 9, 11, 13, 15]"
      ]
     },
     "execution_count": 3,
     "metadata": {},
     "output_type": "execute_result"
    }
   ],
   "source": [
    "def func(x,y):\n",
    "    return x + y\n",
    "\n",
    "l = [1,2,3,4,5]\n",
    "l2 = [6,7,8,9,10]\n",
    "list(map(func,l,l2))"
   ]
  },
  {
   "cell_type": "code",
   "execution_count": 4,
   "id": "5b83a110-4abc-4bbe-adbc-5ae9107fad54",
   "metadata": {},
   "outputs": [
    {
     "data": {
      "text/plain": [
       "[7, 9, 11, 13, 15]"
      ]
     },
     "execution_count": 4,
     "metadata": {},
     "output_type": "execute_result"
    }
   ],
   "source": [
    "l = [1,2,3,4,5]\n",
    "l2 = [6,7,8,9,10]\n",
    "list(map(lambda x,y: x+y,l,l2))"
   ]
  },
  {
   "cell_type": "code",
   "execution_count": 7,
   "id": "9c50325b-df53-4abf-8eba-d32daf65d126",
   "metadata": {},
   "outputs": [
    {
     "data": {
      "text/plain": [
       "['N', 'I', 'R', 'M', 'A', 'L', 'A']"
      ]
     },
     "execution_count": 7,
     "metadata": {},
     "output_type": "execute_result"
    }
   ],
   "source": [
    "s = \"Nirmala\"\n",
    "list(map(lambda x: x.upper(),s))\n"
   ]
  },
  {
   "cell_type": "code",
   "execution_count": 8,
   "id": "eace3c2c-7f4c-44b3-bb0b-66146baaf725",
   "metadata": {},
   "outputs": [
    {
     "data": {
      "text/plain": [
       "15"
      ]
     },
     "execution_count": 8,
     "metadata": {},
     "output_type": "execute_result"
    }
   ],
   "source": [
    "from functools import reduce\n",
    "l = [1,2,3,4,5]\n",
    "reduce(lambda x,y:  x+ y, l)"
   ]
  },
  {
   "cell_type": "code",
   "execution_count": 9,
   "id": "ee3cc7a7-f391-465c-946c-4af46ff91f4a",
   "metadata": {},
   "outputs": [
    {
     "ename": "TypeError",
     "evalue": "<lambda>() missing 1 required positional argument: 'z'",
     "output_type": "error",
     "traceback": [
      "\u001b[0;31m---------------------------------------------------------------------------\u001b[0m",
      "\u001b[0;31mTypeError\u001b[0m                                 Traceback (most recent call last)",
      "Cell \u001b[0;32mIn[9], line 3\u001b[0m\n\u001b[1;32m      1\u001b[0m \u001b[38;5;28;01mfrom\u001b[39;00m \u001b[38;5;21;01mfunctools\u001b[39;00m \u001b[38;5;28;01mimport\u001b[39;00m reduce\n\u001b[1;32m      2\u001b[0m l \u001b[38;5;241m=\u001b[39m [\u001b[38;5;241m1\u001b[39m,\u001b[38;5;241m2\u001b[39m,\u001b[38;5;241m3\u001b[39m,\u001b[38;5;241m4\u001b[39m,\u001b[38;5;241m5\u001b[39m]\n\u001b[0;32m----> 3\u001b[0m \u001b[43mreduce\u001b[49m\u001b[43m(\u001b[49m\u001b[38;5;28;43;01mlambda\u001b[39;49;00m\u001b[43m \u001b[49m\u001b[43mx\u001b[49m\u001b[43m,\u001b[49m\u001b[43my\u001b[49m\u001b[43m,\u001b[49m\u001b[43mz\u001b[49m\u001b[43m:\u001b[49m\u001b[43m  \u001b[49m\u001b[43mx\u001b[49m\u001b[38;5;241;43m+\u001b[39;49m\u001b[43my\u001b[49m\u001b[38;5;241;43m+\u001b[39;49m\u001b[43mz\u001b[49m\u001b[43m,\u001b[49m\u001b[43m \u001b[49m\u001b[43ml\u001b[49m\u001b[43m)\u001b[49m\n",
      "\u001b[0;31mTypeError\u001b[0m: <lambda>() missing 1 required positional argument: 'z'"
     ]
    }
   ],
   "source": [
    "from functools import reduce\n",
    "l = [1,2,3,4,5]\n",
    "reduce(lambda x,y,z:  x+y+z, l)"
   ]
  },
  {
   "cell_type": "code",
   "execution_count": 10,
   "id": "0f092a0a-0956-4c2a-86bf-5a834bcc5ba3",
   "metadata": {},
   "outputs": [
    {
     "data": {
      "text/plain": [
       "2"
      ]
     },
     "execution_count": 10,
     "metadata": {},
     "output_type": "execute_result"
    }
   ],
   "source": [
    "from functools import reduce\n",
    "reduce(lambda x,y:  x+ y, [2])"
   ]
  },
  {
   "cell_type": "code",
   "execution_count": 12,
   "id": "dc9661fe-fffc-4ae1-97bb-4ff7b63c1132",
   "metadata": {},
   "outputs": [
    {
     "data": {
      "text/plain": [
       "93"
      ]
     },
     "execution_count": 12,
     "metadata": {},
     "output_type": "execute_result"
    }
   ],
   "source": [
    "from functools import reduce\n",
    "l = [19,32,32,44,85,93,78,34,90]\n",
    "reduce(lambda x,y: x if x>y else y , l)"
   ]
  },
  {
   "cell_type": "code",
   "execution_count": 15,
   "id": "65adb8ff-bcd2-498a-a3d3-06ab22abfde1",
   "metadata": {},
   "outputs": [
    {
     "data": {
      "text/plain": [
       "[32, 32, 44, 78, 34, 90]"
      ]
     },
     "execution_count": 15,
     "metadata": {},
     "output_type": "execute_result"
    }
   ],
   "source": [
    "list(filter(lambda x: x%2 == 0,l))"
   ]
  },
  {
   "cell_type": "code",
   "execution_count": 16,
   "id": "e62c97df-d7e3-4146-85b0-cf928c83ff4d",
   "metadata": {},
   "outputs": [
    {
     "data": {
      "text/plain": [
       "[19, 85, 93]"
      ]
     },
     "execution_count": 16,
     "metadata": {},
     "output_type": "execute_result"
    }
   ],
   "source": [
    "list(filter(lambda x: x%2 != 0,l))"
   ]
  },
  {
   "cell_type": "code",
   "execution_count": 18,
   "id": "c858601b-0f7a-4ac7-ac8e-32363a87df32",
   "metadata": {},
   "outputs": [
    {
     "data": {
      "text/plain": [
       "[-34, -23, -44, -21]"
      ]
     },
     "execution_count": 18,
     "metadata": {},
     "output_type": "execute_result"
    }
   ],
   "source": [
    "l2 = [90,-34,78,56,-23,-44,-21,56,55]\n",
    "list(filter(lambda x: x<0,l2))"
   ]
  },
  {
   "cell_type": "code",
   "execution_count": 19,
   "id": "13e15c4b-86ef-44d8-ba09-a86342d1a401",
   "metadata": {},
   "outputs": [
    {
     "data": {
      "text/plain": [
       "['er', 'uiy', 'k', 'tyy']"
      ]
     },
     "execution_count": 19,
     "metadata": {},
     "output_type": "execute_result"
    }
   ],
   "source": [
    "l3 = ['er','uiy','ertyu','iuyy','k','tyy','rygnin']\n",
    "list(filter(lambda x: len(x)<=3,l3))"
   ]
  },
  {
   "cell_type": "code",
   "execution_count": null,
   "id": "4d995d12-69fc-438d-8f1f-d2c3169335c4",
   "metadata": {},
   "outputs": [],
   "source": []
  }
 ],
 "metadata": {
  "kernelspec": {
   "display_name": "Python 3 (ipykernel)",
   "language": "python",
   "name": "python3"
  },
  "language_info": {
   "codemirror_mode": {
    "name": "ipython",
    "version": 3
   },
   "file_extension": ".py",
   "mimetype": "text/x-python",
   "name": "python",
   "nbconvert_exporter": "python",
   "pygments_lexer": "ipython3",
   "version": "3.10.8"
  }
 },
 "nbformat": 4,
 "nbformat_minor": 5
}
