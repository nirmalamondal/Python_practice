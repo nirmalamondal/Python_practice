{
 "cells": [
  {
   "cell_type": "code",
   "execution_count": 24,
   "id": "b7ed4bea-fb8e-450a-9bd1-bba83fb4bf68",
   "metadata": {},
   "outputs": [],
   "source": [
    "class valid_age(Exception):\n",
    "    \n",
    "    def __init__(self , msg) : \n",
    "        self.msg = msg"
   ]
  },
  {
   "cell_type": "code",
   "execution_count": 25,
   "id": "22de4fb8-1f24-4be3-aeb7-91081ac4b55f",
   "metadata": {},
   "outputs": [],
   "source": [
    "def validateage(age) : \n",
    "    if age < 0 :\n",
    "        raise valid_age(\"entered age is negative \" )\n",
    "    elif age > 200 : \n",
    "        raise valid_age(\"enterd age is very very high \" )\n",
    "    else :\n",
    "        print(\"age is valid\" )"
   ]
  },
  {
   "cell_type": "code",
   "execution_count": 28,
   "id": "41c781a6-7903-4ea8-a826-a8f6a3875f81",
   "metadata": {},
   "outputs": [
    {
     "name": "stdin",
     "output_type": "stream",
     "text": [
      "enter your age 987\n"
     ]
    },
    {
     "name": "stdout",
     "output_type": "stream",
     "text": [
      "enterd age is very very high \n"
     ]
    }
   ],
   "source": [
    "try :\n",
    "    age = int(input(\"enter your age\" ))\n",
    "    validateage(age)\n",
    "except valid_age as e :\n",
    "    print(e)"
   ]
  },
  {
   "cell_type": "code",
   "execution_count": 30,
   "id": "9940dd04-4dac-4202-9197-36578b89ec45",
   "metadata": {},
   "outputs": [
    {
     "name": "stdout",
     "output_type": "stream",
     "text": [
      "division by zero\n"
     ]
    }
   ],
   "source": [
    "try:\n",
    "    a = 10/0\n",
    "except ZeroDivisionError as e:\n",
    "    print(e)"
   ]
  },
  {
   "cell_type": "code",
   "execution_count": 32,
   "id": "38da4c28-3a0f-4315-a6a4-b53c69fa28bd",
   "metadata": {},
   "outputs": [
    {
     "name": "stdout",
     "output_type": "stream",
     "text": [
      "invalid literal for int() with base 10: 'nirmala'\n"
     ]
    }
   ],
   "source": [
    "try :\n",
    "    int(\"nirmala\")\n",
    "    \n",
    "except (ValueError,TypeError)  as e:\n",
    "    print(e)"
   ]
  },
  {
   "cell_type": "code",
   "execution_count": 33,
   "id": "ba83e765-c7c1-4f43-9523-5ef77ed1a076",
   "metadata": {},
   "outputs": [
    {
     "name": "stdout",
     "output_type": "stream",
     "text": [
      "catch Error\n"
     ]
    }
   ],
   "source": [
    "try :\n",
    "    int(\"nirmala\")\n",
    "    \n",
    "except :\n",
    "    print(\"catch Error\")"
   ]
  },
  {
   "cell_type": "code",
   "execution_count": 34,
   "id": "f60b3f32-f495-40e5-8af8-8f6dc13fd053",
   "metadata": {},
   "outputs": [
    {
     "name": "stdout",
     "output_type": "stream",
     "text": [
      "No module named 'nirmala'\n"
     ]
    }
   ],
   "source": [
    "try :\n",
    "    import nirmala\n",
    "except ImportError as e:\n",
    "    print(e)"
   ]
  },
  {
   "cell_type": "code",
   "execution_count": 35,
   "id": "cdabb196-59f2-40e8-898f-e7012ffa861e",
   "metadata": {},
   "outputs": [
    {
     "name": "stdout",
     "output_type": "stream",
     "text": [
      "'key3'\n"
     ]
    }
   ],
   "source": [
    "try :\n",
    "    d = {'a':5,1:[7,8]}\n",
    "    print(d['key3'])\n",
    "except KeyError as e:\n",
    "    print(e)"
   ]
  },
  {
   "cell_type": "code",
   "execution_count": 37,
   "id": "05a95e75-c638-460b-b9ab-c3569bf70673",
   "metadata": {},
   "outputs": [
    {
     "name": "stdout",
     "output_type": "stream",
     "text": [
      "'str' object has no attribute 'test'\n"
     ]
    }
   ],
   "source": [
    "try:\n",
    "    \"ty\".test()\n",
    "except AttributeError as e:\n",
    "    print(e)\n"
   ]
  },
  {
   "cell_type": "code",
   "execution_count": 38,
   "id": "98bea2eb-23ff-4ea7-a9ac-7d03afcf9d66",
   "metadata": {},
   "outputs": [
    {
     "name": "stdout",
     "output_type": "stream",
     "text": [
      "list index out of range\n"
     ]
    }
   ],
   "source": [
    "try :\n",
    "    l = [4,6,8,3,]\n",
    "    print(l[8])\n",
    "except IndexError as e:    \n",
    "    print(e)"
   ]
  },
  {
   "cell_type": "code",
   "execution_count": 39,
   "id": "1daab21c-438e-4cca-8471-fc137a64bade",
   "metadata": {},
   "outputs": [
    {
     "name": "stdout",
     "output_type": "stream",
     "text": [
      "unsupported operand type(s) for +: 'int' and 'str'\n"
     ]
    }
   ],
   "source": [
    "try :\n",
    "    123 + \"NIlu\"\n",
    "except TypeError as e:\n",
    "    print(e)"
   ]
  },
  {
   "cell_type": "code",
   "execution_count": 44,
   "id": "a6a0111b-d81a-4034-a1a6-0c42f603f26c",
   "metadata": {},
   "outputs": [
    {
     "name": "stdout",
     "output_type": "stream",
     "text": [
      "[Errno 2] No such file or directory: 'new.txt'\n"
     ]
    }
   ],
   "source": [
    "try:\n",
    "    with open(\"new.txt\",'r') as f:\n",
    "        test  = f.read()\n",
    "except FileNotFoundError as e:\n",
    "    print(e)"
   ]
  },
  {
   "cell_type": "code",
   "execution_count": 45,
   "id": "a22d0f5d-2521-495e-83a8-46626f4ee18e",
   "metadata": {},
   "outputs": [
    {
     "name": "stdout",
     "output_type": "stream",
     "text": [
      "[Errno 2] No such file or directory: 'new.txt'\n"
     ]
    }
   ],
   "source": [
    "try:\n",
    "    with open(\"new.txt\",'r') as f:\n",
    "        test  = f.read()\n",
    "except Exception as e:\n",
    "    print(e)\n",
    "except FileNotFoundError as e:\n",
    "    print(\"test\",e)"
   ]
  },
  {
   "cell_type": "code",
   "execution_count": 46,
   "id": "2d5d6842-9c55-4c10-9708-ec767e58c71e",
   "metadata": {},
   "outputs": [
    {
     "name": "stdout",
     "output_type": "stream",
     "text": [
      "test [Errno 2] No such file or directory: 'new.txt'\n"
     ]
    }
   ],
   "source": [
    "try:\n",
    "    with open(\"new.txt\",'r') as f:\n",
    "        test  = f.read()\n",
    "\n",
    "except FileNotFoundError as e:\n",
    "    print(\"test\",e)\n",
    "    \n",
    "except Exception as e:\n",
    "    print(e)    "
   ]
  },
  {
   "cell_type": "code",
   "execution_count": 49,
   "id": "22a81333-0f08-4f07-8f05-adc5c2138b67",
   "metadata": {},
   "outputs": [],
   "source": [
    "def test(file):\n",
    "    try:\n",
    "        with open(\"new.txt\",'r') as f:\n",
    "            test  = f.read()\n",
    "\n",
    "    except FileNotFoundError as e:\n",
    "        print(\"test\",e)\n",
    "\n",
    "    except Exception as e:\n",
    "        print(e)    "
   ]
  },
  {
   "cell_type": "code",
   "execution_count": 50,
   "id": "a52f820e-2f8b-467d-a044-f2cbe12438db",
   "metadata": {},
   "outputs": [],
   "source": [
    "import logging\n",
    "logging.basicConfig(filename = \"error.log\",level = logging.ERROR)\n",
    "try :\n",
    "    l = [4,6,8,3,]\n",
    "    print(l[8])\n",
    "except IndexError as e:    \n",
    "    logging.error(\"Try to handel list indexing error{}\".format(e))"
   ]
  },
  {
   "cell_type": "code",
   "execution_count": null,
   "id": "3ec7b364-e8ef-4c62-a65a-a0fc37c0c28f",
   "metadata": {},
   "outputs": [],
   "source": []
  }
 ],
 "metadata": {
  "kernelspec": {
   "display_name": "Python 3 (ipykernel)",
   "language": "python",
   "name": "python3"
  },
  "language_info": {
   "codemirror_mode": {
    "name": "ipython",
    "version": 3
   },
   "file_extension": ".py",
   "mimetype": "text/x-python",
   "name": "python",
   "nbconvert_exporter": "python",
   "pygments_lexer": "ipython3",
   "version": "3.10.8"
  }
 },
 "nbformat": 4,
 "nbformat_minor": 5
}
