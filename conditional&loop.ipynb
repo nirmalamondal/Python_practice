{
 "cells": [
  {
   "cell_type": "code",
   "execution_count": 1,
   "id": "667e8ea1-6f9e-4c3e-b10b-a2cd2f8dec50",
   "metadata": {},
   "outputs": [],
   "source": [
    "marks = 78"
   ]
  },
  {
   "cell_type": "code",
   "execution_count": 5,
   "id": "115ab69b-84fa-40b6-8262-4a423bbba195",
   "metadata": {},
   "outputs": [
    {
     "name": "stdout",
     "output_type": "stream",
     "text": [
      "fail\n"
     ]
    }
   ],
   "source": [
    "if marks >= 80 :\n",
    "    print(\"pass\")\n",
    "else:\n",
    "     print(\"fail\")"
   ]
  },
  {
   "cell_type": "code",
   "execution_count": null,
   "id": "5502fa4f-6170-472d-9b3a-028cbf4838a7",
   "metadata": {},
   "outputs": [],
   "source": [
    "marks1 = int(input(\"enter the marks\"))\n",
    "if marks1 >= 90 :\n",
    "    print(\"Grade A\")\n",
    "elif marks1 >= 80 and marks1<90:\n",
    "    print(\"Grade B\")   \n",
    "elif marks1 >= 60 and marks1<80:\n",
    "    print(\"Grade C\")  \n",
    "elif marks1 >= 40 and marks1<60:\n",
    "    print(\"Grade D\")      \n",
    "else:\n",
    "     print(\"fail\")"
   ]
  },
  {
   "cell_type": "code",
   "execution_count": 21,
   "id": "bf295a81-0fcf-424b-9d80-439102534a76",
   "metadata": {},
   "outputs": [],
   "source": [
    "l = [3,7,4,8,12,1,3,9]"
   ]
  },
  {
   "cell_type": "code",
   "execution_count": 23,
   "id": "16e677e1-3913-4005-b158-713685747cbf",
   "metadata": {},
   "outputs": [
    {
     "name": "stdout",
     "output_type": "stream",
     "text": [
      "[4, 8, 5, 9, 13, 2, 4, 10]\n"
     ]
    }
   ],
   "source": [
    "l1 = []\n",
    "for i in l:\n",
    "    l1.append(i+1)\n",
    "print(l1)    "
   ]
  },
  {
   "cell_type": "code",
   "execution_count": 25,
   "id": "836b3c73-0b38-4d85-8906-da83b264d8a5",
   "metadata": {},
   "outputs": [
    {
     "name": "stdout",
     "output_type": "stream",
     "text": [
      "['NILU', 'RIYA', 'PRIYA']\n"
     ]
    }
   ],
   "source": [
    "l2 = [\"nilu\", \"riya\",\"priya\"]\n",
    "l3 = []\n",
    "for i in l2:\n",
    "    s=i.upper()\n",
    "    l3.append(s)\n",
    "print(l3)    \n",
    "    "
   ]
  },
  {
   "cell_type": "code",
   "execution_count": 28,
   "id": "c23e81d7-9882-4168-8b30-2af03fa9970f",
   "metadata": {},
   "outputs": [
    {
     "name": "stdout",
     "output_type": "stream",
     "text": [
      "[3, 7, 4, 8, 12, 1, 3, 9]\n",
      "['nilu', 'riya', 'priya']\n"
     ]
    }
   ],
   "source": [
    "l4 = [\"nilu\",3,7,4,\"riya\",8,12,\"priya\",1,3,9]\n",
    "l5 = []\n",
    "l6 = []\n",
    "for i in l4:\n",
    "    if type(i) == int:\n",
    "        l5.append(i)\n",
    "    else:\n",
    "        l6.append(i)\n",
    "print(l5)\n",
    "print(l6)"
   ]
  },
  {
   "cell_type": "code",
   "execution_count": null,
   "id": "8c392b5f-0df9-4894-b502-9ce9caf71c19",
   "metadata": {},
   "outputs": [],
   "source": []
  }
 ],
 "metadata": {
  "kernelspec": {
   "display_name": "Python 3 (ipykernel)",
   "language": "python",
   "name": "python3"
  },
  "language_info": {
   "codemirror_mode": {
    "name": "ipython",
    "version": 3
   },
   "file_extension": ".py",
   "mimetype": "text/x-python",
   "name": "python",
   "nbconvert_exporter": "python",
   "pygments_lexer": "ipython3",
   "version": "3.10.8"
  }
 },
 "nbformat": 4,
 "nbformat_minor": 5
}
