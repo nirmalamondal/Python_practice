{
 "cells": [
  {
   "cell_type": "code",
   "execution_count": 3,
   "id": "f70163fc-def1-4927-a5c5-093fd06dad06",
   "metadata": {},
   "outputs": [],
   "source": [
    "def test():\n",
    "    print(\"this is starting point\")\n",
    "    print(\"this is function to start\")\n",
    "    print(5+4)\n",
    "    print(\"thisis the ending \")\n",
    "    "
   ]
  },
  {
   "cell_type": "code",
   "execution_count": 4,
   "id": "61203e01-11cd-47ee-857a-ce4a28035e61",
   "metadata": {},
   "outputs": [
    {
     "name": "stdout",
     "output_type": "stream",
     "text": [
      "this is starting point\n",
      "this is function to start\n",
      "9\n",
      "thisis the ending \n"
     ]
    }
   ],
   "source": [
    "test()"
   ]
  },
  {
   "cell_type": "code",
   "execution_count": 5,
   "id": "2c23135d-546d-460b-a62a-2a32827ae38a",
   "metadata": {},
   "outputs": [],
   "source": [
    "def decorate(func):\n",
    "    def inner_dec():\n",
    "        print(\"this is starting point\")\n",
    "        func()\n",
    "        print(\"thisis the ending \")\n",
    "    return  inner_dec   "
   ]
  },
  {
   "cell_type": "code",
   "execution_count": 8,
   "id": "d8a0395f-605f-41e2-87b8-3d81acfde95d",
   "metadata": {},
   "outputs": [],
   "source": [
    "@decorate\n",
    "def test1():\n",
    "    print(18 +7)"
   ]
  },
  {
   "cell_type": "code",
   "execution_count": 9,
   "id": "d12572ca-9078-4dae-a296-b58c1f09fd17",
   "metadata": {},
   "outputs": [
    {
     "name": "stdout",
     "output_type": "stream",
     "text": [
      "this is starting point\n",
      "25\n",
      "thisis the ending \n"
     ]
    }
   ],
   "source": [
    "test1()"
   ]
  },
  {
   "cell_type": "code",
   "execution_count": 10,
   "id": "6e41b38c-ae5d-4fee-bf73-7c027d5f650f",
   "metadata": {},
   "outputs": [],
   "source": [
    "import time\n",
    "\n",
    "def timer_test(func):\n",
    "    def times():\n",
    "        start = time.time()\n",
    "        func()\n",
    "        end = time.time()\n",
    "        print(end - start)\n",
    "    return times    "
   ]
  },
  {
   "cell_type": "code",
   "execution_count": 11,
   "id": "696cfa16-a8b1-45d8-95fb-3634ee2ab60e",
   "metadata": {},
   "outputs": [],
   "source": [
    "@timer_test\n",
    "def test2():\n",
    "    print(\"Virat\")"
   ]
  },
  {
   "cell_type": "code",
   "execution_count": 12,
   "id": "90797431-d9ca-415f-921c-82555514f093",
   "metadata": {},
   "outputs": [
    {
     "name": "stdout",
     "output_type": "stream",
     "text": [
      "Virat\n",
      "5.745887756347656e-05\n"
     ]
    }
   ],
   "source": [
    "test2()"
   ]
  },
  {
   "cell_type": "code",
   "execution_count": null,
   "id": "463e41ba-e5d7-4a1e-b669-768ae5b097e4",
   "metadata": {},
   "outputs": [],
   "source": []
  }
 ],
 "metadata": {
  "kernelspec": {
   "display_name": "Python 3 (ipykernel)",
   "language": "python",
   "name": "python3"
  },
  "language_info": {
   "codemirror_mode": {
    "name": "ipython",
    "version": 3
   },
   "file_extension": ".py",
   "mimetype": "text/x-python",
   "name": "python",
   "nbconvert_exporter": "python",
   "pygments_lexer": "ipython3",
   "version": "3.10.8"
  }
 },
 "nbformat": 4,
 "nbformat_minor": 5
}
