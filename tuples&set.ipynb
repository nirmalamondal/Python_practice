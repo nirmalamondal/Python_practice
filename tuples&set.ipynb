{
 "cells": [
  {
   "cell_type": "code",
   "execution_count": 1,
   "id": "2f11807b-60f1-4d93-bbdf-d0b780214598",
   "metadata": {},
   "outputs": [],
   "source": [
    "t = (1,3,\"nirmla\",[57,67,\"ji\"],98)"
   ]
  },
  {
   "cell_type": "code",
   "execution_count": 2,
   "id": "e638c488-5e09-4dc2-b322-8a4928f79ce9",
   "metadata": {},
   "outputs": [
    {
     "data": {
      "text/plain": [
       "(1, 3, 'nirmla', [57, 67, 'ji'], 98)"
      ]
     },
     "execution_count": 2,
     "metadata": {},
     "output_type": "execute_result"
    }
   ],
   "source": [
    "t"
   ]
  },
  {
   "cell_type": "code",
   "execution_count": 3,
   "id": "8611d9e9-7dc2-48f0-a36f-a8cd9b90327b",
   "metadata": {},
   "outputs": [
    {
     "data": {
      "text/plain": [
       "1"
      ]
     },
     "execution_count": 3,
     "metadata": {},
     "output_type": "execute_result"
    }
   ],
   "source": [
    "t[0]"
   ]
  },
  {
   "cell_type": "code",
   "execution_count": 4,
   "id": "a24dd332-7229-48c0-a1ea-07f953c32707",
   "metadata": {},
   "outputs": [
    {
     "data": {
      "text/plain": [
       "(1, 3, 'nirmla', [57, 67, 'ji'], 98)"
      ]
     },
     "execution_count": 4,
     "metadata": {},
     "output_type": "execute_result"
    }
   ],
   "source": [
    "t[::]"
   ]
  },
  {
   "cell_type": "code",
   "execution_count": 5,
   "id": "63d20d1b-76c7-4884-8a48-5b0b9eb41957",
   "metadata": {},
   "outputs": [
    {
     "data": {
      "text/plain": [
       "(98, [57, 67, 'ji'], 'nirmla', 3, 1)"
      ]
     },
     "execution_count": 5,
     "metadata": {},
     "output_type": "execute_result"
    }
   ],
   "source": [
    "t[::-1]"
   ]
  },
  {
   "cell_type": "code",
   "execution_count": 6,
   "id": "c0144b21-cd2f-4b95-be37-77b9af93c0b0",
   "metadata": {},
   "outputs": [
    {
     "data": {
      "text/plain": [
       "1"
      ]
     },
     "execution_count": 6,
     "metadata": {},
     "output_type": "execute_result"
    }
   ],
   "source": [
    "t.count(3)"
   ]
  },
  {
   "cell_type": "code",
   "execution_count": 7,
   "id": "a38ee549-ebda-4494-af84-c01ff6dbf5e6",
   "metadata": {},
   "outputs": [
    {
     "data": {
      "text/plain": [
       "1"
      ]
     },
     "execution_count": 7,
     "metadata": {},
     "output_type": "execute_result"
    }
   ],
   "source": [
    "t.index(3)  # as it does not reverse the original tuple"
   ]
  },
  {
   "cell_type": "code",
   "execution_count": 8,
   "id": "5f28f847-ac04-474b-9687-97bc23eeffa4",
   "metadata": {},
   "outputs": [],
   "source": [
    "s = {}"
   ]
  },
  {
   "cell_type": "code",
   "execution_count": 9,
   "id": "c77fe9f7-716f-48a6-ad78-20686764e128",
   "metadata": {},
   "outputs": [
    {
     "data": {
      "text/plain": [
       "dict"
      ]
     },
     "execution_count": 9,
     "metadata": {},
     "output_type": "execute_result"
    }
   ],
   "source": [
    "type(s)"
   ]
  },
  {
   "cell_type": "code",
   "execution_count": 10,
   "id": "65d3a43f-a3e1-4278-a14d-1221b253d4f1",
   "metadata": {},
   "outputs": [],
   "source": [
    "s1 = {12,76,(78,90,54),34,\"nirmala\", \"Nirmala\",76}"
   ]
  },
  {
   "cell_type": "code",
   "execution_count": 11,
   "id": "1d36b992-ca87-42cf-8d49-140b55ab7c11",
   "metadata": {},
   "outputs": [
    {
     "data": {
      "text/plain": [
       "{(78, 90, 54), 12, 34, 76, 'Nirmala', 'nirmala'}"
      ]
     },
     "execution_count": 11,
     "metadata": {},
     "output_type": "execute_result"
    }
   ],
   "source": [
    "s1"
   ]
  },
  {
   "cell_type": "code",
   "execution_count": 12,
   "id": "55397b8d-bc1d-4c86-94a1-841f1938f193",
   "metadata": {},
   "outputs": [],
   "source": [
    "s2 = {12,76,90,34,76,678,2,7,2,76,12,5,1,5,1}"
   ]
  },
  {
   "cell_type": "code",
   "execution_count": 13,
   "id": "f63d8a69-e960-4a5e-841b-bdde80f8189a",
   "metadata": {},
   "outputs": [
    {
     "data": {
      "text/plain": [
       "{1, 2, 5, 7, 12, 34, 76, 90, 678}"
      ]
     },
     "execution_count": 13,
     "metadata": {},
     "output_type": "execute_result"
    }
   ],
   "source": [
    "s2"
   ]
  },
  {
   "cell_type": "code",
   "execution_count": 14,
   "id": "2a800a15-b247-4299-af58-c6602a75c1a3",
   "metadata": {},
   "outputs": [],
   "source": [
    "l = [1,2,3,4,5,6,6,8,9,1,2,3,12,56,34,12,54,90]"
   ]
  },
  {
   "cell_type": "code",
   "execution_count": 15,
   "id": "e1b163dc-6f05-4f93-85d7-8126f656ba28",
   "metadata": {},
   "outputs": [],
   "source": [
    "l = list(set(l))"
   ]
  },
  {
   "cell_type": "code",
   "execution_count": 16,
   "id": "23b10882-bc8f-404d-8372-69efed4603fb",
   "metadata": {},
   "outputs": [
    {
     "data": {
      "text/plain": [
       "[1, 2, 3, 4, 5, 6, 34, 8, 9, 12, 54, 56, 90]"
      ]
     },
     "execution_count": 16,
     "metadata": {},
     "output_type": "execute_result"
    }
   ],
   "source": [
    "l"
   ]
  },
  {
   "cell_type": "code",
   "execution_count": 17,
   "id": "834c3ff6-0d59-4fc6-b2af-7a23846447c4",
   "metadata": {},
   "outputs": [],
   "source": [
    "l1 = [1,2,3,4,5,6,6,8,9,1,2,3,12,56,34,12,54,90]"
   ]
  },
  {
   "cell_type": "code",
   "execution_count": 18,
   "id": "6c205549-6e71-47e7-9e75-268b6fb3fe95",
   "metadata": {},
   "outputs": [],
   "source": [
    "l2 = l1[::-1]"
   ]
  },
  {
   "cell_type": "code",
   "execution_count": 19,
   "id": "4e9f738e-ea0e-4306-94be-7baf12daaebf",
   "metadata": {},
   "outputs": [],
   "source": [
    "l1 = list(set(l2))"
   ]
  },
  {
   "cell_type": "code",
   "execution_count": 20,
   "id": "de1aeb52-852d-4262-ada9-8f1758d50e0b",
   "metadata": {},
   "outputs": [
    {
     "data": {
      "text/plain": [
       "[1, 34, 3, 2, 5, 6, 4, 8, 9, 12, 54, 56, 90]"
      ]
     },
     "execution_count": 20,
     "metadata": {},
     "output_type": "execute_result"
    }
   ],
   "source": [
    "l1"
   ]
  },
  {
   "cell_type": "code",
   "execution_count": 21,
   "id": "57780824-3e76-43ca-9da7-ee9bd7b37676",
   "metadata": {},
   "outputs": [],
   "source": [
    "l2 = list(set(l2))"
   ]
  },
  {
   "cell_type": "code",
   "execution_count": 22,
   "id": "b3988091-46b5-4803-9fcb-6d1529dfa668",
   "metadata": {},
   "outputs": [
    {
     "data": {
      "text/plain": [
       "[1, 34, 3, 2, 5, 6, 4, 8, 9, 12, 54, 56, 90]"
      ]
     },
     "execution_count": 22,
     "metadata": {},
     "output_type": "execute_result"
    }
   ],
   "source": [
    "l2"
   ]
  },
  {
   "cell_type": "code",
   "execution_count": 23,
   "id": "506f0d75-525f-41df-99c7-8d2224d72509",
   "metadata": {},
   "outputs": [
    {
     "ename": "TypeError",
     "evalue": "'set' object is not subscriptable",
     "output_type": "error",
     "traceback": [
      "\u001b[0;31m---------------------------------------------------------------------------\u001b[0m",
      "\u001b[0;31mTypeError\u001b[0m                                 Traceback (most recent call last)",
      "Cell \u001b[0;32mIn[23], line 1\u001b[0m\n\u001b[0;32m----> 1\u001b[0m \u001b[43ms2\u001b[49m\u001b[43m[\u001b[49m\u001b[38;5;241;43m0\u001b[39;49m\u001b[43m]\u001b[49m\n",
      "\u001b[0;31mTypeError\u001b[0m: 'set' object is not subscriptable"
     ]
    }
   ],
   "source": [
    "s2[0]"
   ]
  },
  {
   "cell_type": "code",
   "execution_count": 24,
   "id": "6f6a750e-11dd-4711-9608-802d38cdc905",
   "metadata": {},
   "outputs": [
    {
     "ename": "TypeError",
     "evalue": "'set' object is not subscriptable",
     "output_type": "error",
     "traceback": [
      "\u001b[0;31m---------------------------------------------------------------------------\u001b[0m",
      "\u001b[0;31mTypeError\u001b[0m                                 Traceback (most recent call last)",
      "Cell \u001b[0;32mIn[24], line 1\u001b[0m\n\u001b[0;32m----> 1\u001b[0m \u001b[43ms2\u001b[49m\u001b[43m[\u001b[49m\u001b[43m:\u001b[49m\u001b[43m:\u001b[49m\u001b[38;5;241;43m-\u001b[39;49m\u001b[38;5;241;43m1\u001b[39;49m\u001b[43m]\u001b[49m\n",
      "\u001b[0;31mTypeError\u001b[0m: 'set' object is not subscriptable"
     ]
    }
   ],
   "source": [
    "s2[::-1]"
   ]
  },
  {
   "cell_type": "code",
   "execution_count": 25,
   "id": "0c36d8fd-3c8d-4326-a61a-5787a14304cf",
   "metadata": {},
   "outputs": [],
   "source": [
    "s2.add(18)"
   ]
  },
  {
   "cell_type": "code",
   "execution_count": 26,
   "id": "e8e2378b-9262-4d80-bb51-55f7951ba2d1",
   "metadata": {},
   "outputs": [
    {
     "data": {
      "text/plain": [
       "{1, 2, 5, 7, 12, 18, 34, 76, 90, 678}"
      ]
     },
     "execution_count": 26,
     "metadata": {},
     "output_type": "execute_result"
    }
   ],
   "source": [
    "s2"
   ]
  },
  {
   "cell_type": "code",
   "execution_count": 27,
   "id": "df19a1e2-e914-4ec0-9c76-2e336ac0b3d9",
   "metadata": {},
   "outputs": [
    {
     "data": {
      "text/plain": [
       "{1, 2, 5, 7, 12, 18, 34, 76, 90, 678}"
      ]
     },
     "execution_count": 27,
     "metadata": {},
     "output_type": "execute_result"
    }
   ],
   "source": [
    "s2"
   ]
  },
  {
   "cell_type": "code",
   "execution_count": 28,
   "id": "e50f3360-2d5b-47a3-9623-02871708b679",
   "metadata": {},
   "outputs": [],
   "source": [
    "s2.add(17)"
   ]
  },
  {
   "cell_type": "code",
   "execution_count": 29,
   "id": "bf2c2f93-fe9f-488b-9797-997fa8b85c49",
   "metadata": {},
   "outputs": [
    {
     "data": {
      "text/plain": [
       "{1, 2, 5, 7, 12, 17, 18, 34, 76, 90, 678}"
      ]
     },
     "execution_count": 29,
     "metadata": {},
     "output_type": "execute_result"
    }
   ],
   "source": [
    "s2"
   ]
  },
  {
   "cell_type": "code",
   "execution_count": 30,
   "id": "f221740b-e6f5-4544-96f2-9bae0bbdafd2",
   "metadata": {},
   "outputs": [],
   "source": [
    "s2.remove(76)"
   ]
  },
  {
   "cell_type": "code",
   "execution_count": 31,
   "id": "a0490691-cbae-4926-b709-e4197ce6b333",
   "metadata": {},
   "outputs": [
    {
     "data": {
      "text/plain": [
       "{1, 2, 5, 7, 12, 17, 18, 34, 90, 678}"
      ]
     },
     "execution_count": 31,
     "metadata": {},
     "output_type": "execute_result"
    }
   ],
   "source": [
    "s2"
   ]
  },
  {
   "cell_type": "code",
   "execution_count": null,
   "id": "64cfe660-6a85-44c1-8e5e-f0bd4f982ee3",
   "metadata": {},
   "outputs": [],
   "source": []
  },
  {
   "cell_type": "code",
   "execution_count": null,
   "id": "59bc4b2b-c9a5-4114-86cf-28d7c87b05db",
   "metadata": {},
   "outputs": [],
   "source": []
  },
  {
   "cell_type": "code",
   "execution_count": null,
   "id": "046c1903-8866-4772-bf4e-84e43cebe5bc",
   "metadata": {},
   "outputs": [],
   "source": []
  }
 ],
 "metadata": {
  "kernelspec": {
   "display_name": "Python 3 (ipykernel)",
   "language": "python",
   "name": "python3"
  },
  "language_info": {
   "codemirror_mode": {
    "name": "ipython",
    "version": 3
   },
   "file_extension": ".py",
   "mimetype": "text/x-python",
   "name": "python",
   "nbconvert_exporter": "python",
   "pygments_lexer": "ipython3",
   "version": "3.10.8"
  }
 },
 "nbformat": 4,
 "nbformat_minor": 5
}
