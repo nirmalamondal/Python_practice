{
 "cells": [
  {
   "cell_type": "code",
   "execution_count": 3,
   "id": "6edbf158-a5dd-436c-bae4-c659c4e1f55b",
   "metadata": {},
   "outputs": [
    {
     "name": "stdout",
     "output_type": "stream",
     "text": [
      "Object `Python` not found.\n",
      "Object `Python` not found.\n",
      "{1, 2, 3, 4, 8, 10}\n",
      "Object `Python` not found.\n",
      "{1, 2, 3, 4, 5, 8, 10}\n",
      "Object `Python` not found.\n",
      "{1, 3, 4, 5, 8, 10}\n",
      "{3, 4, 5, 8, 10}\n",
      "{4, 5, 8, 10}\n",
      "Object `Python` not found.\n",
      "4\n"
     ]
    }
   ],
   "source": [
    "Q1. What is a set in Python?\n",
    "''' A set in Python is an unordered collection of unique elements'''\n",
    "\n",
    "\n",
    "Q2.How do you create a set in Python?\n",
    "\"\"\"You can create a set in Python using curly braces {}\"\"\"\n",
    "s = {1,2,3,4,8,10}\n",
    "print(s)\n",
    "\n",
    "\n",
    "Q3. How do you add elements to a set in Python?\n",
    "\"\"\"To add elements to a set in Python, you can use the add() method to add a single element or the update() method to add multiple elements from \n",
    "another iterable \"\"\"\n",
    "s.add(5)\n",
    "print(s)\n",
    "\n",
    "\n",
    "Q4. How do you remove elements from a set in Python?\n",
    "\"\"\" remove() , pop(), discard()  are methods to remove elements from a set\"\"\"\n",
    "s.remove(2)\n",
    "print(s)\n",
    "s.pop()\n",
    "print(s)\n",
    "s.discard(3)\n",
    "print(s)\n",
    "\n",
    "\n",
    "Q5. How do you get the length of a set in Python?\n",
    "\"\"\" Using len() function we can get length of the set\"\"\"\n",
    "print(len(s))"
   ]
  },
  {
   "cell_type": "code",
   "execution_count": null,
   "id": "39f17ed4-81b5-47cc-a9c2-218e428796dc",
   "metadata": {},
   "outputs": [],
   "source": []
  }
 ],
 "metadata": {
  "kernelspec": {
   "display_name": "Python 3 (ipykernel)",
   "language": "python",
   "name": "python3"
  },
  "language_info": {
   "codemirror_mode": {
    "name": "ipython",
    "version": 3
   },
   "file_extension": ".py",
   "mimetype": "text/x-python",
   "name": "python",
   "nbconvert_exporter": "python",
   "pygments_lexer": "ipython3",
   "version": "3.10.8"
  }
 },
 "nbformat": 4,
 "nbformat_minor": 5
}
