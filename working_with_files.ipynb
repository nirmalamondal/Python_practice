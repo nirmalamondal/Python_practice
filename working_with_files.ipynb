{
 "cells": [
  {
   "cell_type": "code",
   "execution_count": 54,
   "id": "a55ad560-d741-41ae-964b-684e94333f75",
   "metadata": {},
   "outputs": [],
   "source": [
    "f = open('test.txt','w')"
   ]
  },
  {
   "cell_type": "code",
   "execution_count": 55,
   "id": "40272b59-2040-4320-9217-d00180aba5a3",
   "metadata": {},
   "outputs": [
    {
     "data": {
      "text/plain": [
       "'/home/jovyan/work'"
      ]
     },
     "execution_count": 55,
     "metadata": {},
     "output_type": "execute_result"
    }
   ],
   "source": [
    "pwd"
   ]
  },
  {
   "cell_type": "code",
   "execution_count": 56,
   "id": "212fa626-1345-4ed4-9512-d271a2b28b72",
   "metadata": {},
   "outputs": [
    {
     "name": "stdout",
     "output_type": "stream",
     "text": [
      " 15th_march.ipynb           function.ipynb\n",
      " 29assignment.ipynb         generator_lambda_function.ipynb\n",
      " 2nd_feb_assignment.ipynb   list.ipynb\n",
      " 30assignment.ipynb         magic_methods.ipynb\n",
      " 30jan_assignment.ipynb     map_reduce_filter.ipynb\n",
      " 3rd_feb.ipynb              oops.ipynb\n",
      " 4th_feb.ipynb              practice.ipynb\n",
      " 5th_feb.ipynb              property_decorator.ipynb\n",
      " 6th_feb.ipynb              pythonbasic.ipynb\n",
      " 7th_feb.ipynb              README.md\n",
      " 8th_feb.ipynb              sample-code.ipynb\n",
      " 9th_feb.ipynb              static_method.ipynb\n",
      " classmethod.ipynb          test.txt\n",
      "'conditional&loop.ipynb'   'tuples&set.ipynb'\n",
      " decorator.ipynb            whileloop.ipynb\n",
      " dictionary.ipynb           working_with_files.ipynb\n",
      " forloop.ipynb\n"
     ]
    }
   ],
   "source": [
    "ls"
   ]
  },
  {
   "cell_type": "code",
   "execution_count": 57,
   "id": "8386c09c-f275-498e-851c-918936f3c070",
   "metadata": {},
   "outputs": [
    {
     "data": {
      "text/plain": [
       "13"
      ]
     },
     "execution_count": 57,
     "metadata": {},
     "output_type": "execute_result"
    }
   ],
   "source": [
    "f.write(\"hello nirmala\")\n"
   ]
  },
  {
   "cell_type": "code",
   "execution_count": 58,
   "id": "3d7e236a-d52d-4a39-b14e-b6d8e06e230a",
   "metadata": {},
   "outputs": [],
   "source": [
    "f.close()"
   ]
  },
  {
   "cell_type": "code",
   "execution_count": 59,
   "id": "a7d17031-b54c-4412-9ff6-876990ab5807",
   "metadata": {},
   "outputs": [
    {
     "data": {
      "text/plain": [
       "10"
      ]
     },
     "execution_count": 59,
     "metadata": {},
     "output_type": "execute_result"
    }
   ],
   "source": [
    "f = open('test.txt','w')\n",
    "f.write(\"hello riya\")"
   ]
  },
  {
   "cell_type": "code",
   "execution_count": 60,
   "id": "ac03f965-4ad9-4602-b414-56a30fee6581",
   "metadata": {},
   "outputs": [],
   "source": [
    "f.close()"
   ]
  },
  {
   "cell_type": "code",
   "execution_count": 61,
   "id": "dc37f10e-a6ec-4fa3-9a56-af2de674f0e2",
   "metadata": {},
   "outputs": [],
   "source": [
    "f = open('test.txt','a')\n",
    "f.write(\"hello Nirmala\")\n",
    "f.close()"
   ]
  },
  {
   "cell_type": "code",
   "execution_count": 63,
   "id": "80660445-c945-4c6a-9540-c6efdb041f0e",
   "metadata": {},
   "outputs": [],
   "source": [
    "data = open('test.txt','r')"
   ]
  },
  {
   "cell_type": "code",
   "execution_count": 64,
   "id": "6fe9755b-d4e1-43d5-8ab7-9d79c25e50df",
   "metadata": {},
   "outputs": [
    {
     "data": {
      "text/plain": [
       "'hello riyahello Nirmala'"
      ]
     },
     "execution_count": 64,
     "metadata": {},
     "output_type": "execute_result"
    }
   ],
   "source": [
    "data.read()"
   ]
  },
  {
   "cell_type": "code",
   "execution_count": 65,
   "id": "30444212-1b3f-4329-9e48-b1a12353abc3",
   "metadata": {},
   "outputs": [
    {
     "data": {
      "text/plain": [
       "''"
      ]
     },
     "execution_count": 65,
     "metadata": {},
     "output_type": "execute_result"
    }
   ],
   "source": [
    "data.readline()"
   ]
  },
  {
   "cell_type": "code",
   "execution_count": 66,
   "id": "4a546b58-1ef5-4b48-99ed-484814b7375f",
   "metadata": {},
   "outputs": [
    {
     "data": {
      "text/plain": [
       "0"
      ]
     },
     "execution_count": 66,
     "metadata": {},
     "output_type": "execute_result"
    }
   ],
   "source": [
    "data.seek(0)"
   ]
  },
  {
   "cell_type": "code",
   "execution_count": 67,
   "id": "37157637-c3f4-4857-be26-cadf80b6b27c",
   "metadata": {},
   "outputs": [
    {
     "data": {
      "text/plain": [
       "'hello riyahello Nirmala'"
      ]
     },
     "execution_count": 67,
     "metadata": {},
     "output_type": "execute_result"
    }
   ],
   "source": [
    "data.readline()"
   ]
  },
  {
   "cell_type": "code",
   "execution_count": 68,
   "id": "f612084b-0289-4ed0-afa5-65a0c1da5e81",
   "metadata": {},
   "outputs": [
    {
     "data": {
      "text/plain": [
       "7"
      ]
     },
     "execution_count": 68,
     "metadata": {},
     "output_type": "execute_result"
    }
   ],
   "source": [
    "data.seek(7)"
   ]
  },
  {
   "cell_type": "code",
   "execution_count": 69,
   "id": "5e59c5d0-93c0-48bd-b335-070f3fdcf45e",
   "metadata": {},
   "outputs": [
    {
     "data": {
      "text/plain": [
       "'iyahello Nirmala'"
      ]
     },
     "execution_count": 69,
     "metadata": {},
     "output_type": "execute_result"
    }
   ],
   "source": [
    "data.readline()"
   ]
  },
  {
   "cell_type": "code",
   "execution_count": 70,
   "id": "624bc082-6c9e-435d-b27e-8f60b00e5cb8",
   "metadata": {},
   "outputs": [],
   "source": [
    "data1 = open('test.txt','r')"
   ]
  },
  {
   "cell_type": "code",
   "execution_count": 71,
   "id": "b063523d-bf24-4556-829f-541e908652ee",
   "metadata": {},
   "outputs": [
    {
     "name": "stdout",
     "output_type": "stream",
     "text": [
      "hello riyahello Nirmala\n"
     ]
    }
   ],
   "source": [
    "for i in data1:\n",
    "    print(i)"
   ]
  },
  {
   "cell_type": "code",
   "execution_count": 72,
   "id": "53c6e880-f396-44c1-b05d-345b1eb778b7",
   "metadata": {},
   "outputs": [],
   "source": [
    "import os"
   ]
  },
  {
   "cell_type": "code",
   "execution_count": 78,
   "id": "b255d7ee-a463-4c86-a0d9-a1b61a55af50",
   "metadata": {},
   "outputs": [
    {
     "data": {
      "text/plain": [
       "23"
      ]
     },
     "execution_count": 78,
     "metadata": {},
     "output_type": "execute_result"
    }
   ],
   "source": [
    "os.path.getsize(\"test.txt\")"
   ]
  },
  {
   "cell_type": "code",
   "execution_count": 79,
   "id": "a415d8cb-0cf3-45fb-bff6-e0e5d4e56d83",
   "metadata": {},
   "outputs": [
    {
     "ename": "FileNotFoundError",
     "evalue": "[Errno 2] No such file or directory: 'file_name'",
     "output_type": "error",
     "traceback": [
      "\u001b[0;31m---------------------------------------------------------------------------\u001b[0m",
      "\u001b[0;31mFileNotFoundError\u001b[0m                         Traceback (most recent call last)",
      "Cell \u001b[0;32mIn[79], line 1\u001b[0m\n\u001b[0;32m----> 1\u001b[0m \u001b[43mos\u001b[49m\u001b[38;5;241;43m.\u001b[39;49m\u001b[43mremove\u001b[49m\u001b[43m(\u001b[49m\u001b[38;5;124;43m\"\u001b[39;49m\u001b[38;5;124;43mfile_name\u001b[39;49m\u001b[38;5;124;43m\"\u001b[39;49m\u001b[43m)\u001b[49m\n",
      "\u001b[0;31mFileNotFoundError\u001b[0m: [Errno 2] No such file or directory: 'file_name'"
     ]
    }
   ],
   "source": [
    "os.remove(\"file_name\")"
   ]
  },
  {
   "cell_type": "code",
   "execution_count": 80,
   "id": "2dd00f74-7f5d-4bd0-b70d-9cdd96268534",
   "metadata": {},
   "outputs": [],
   "source": [
    "os.rename(\"test.txt\",\"newtest.txt\")"
   ]
  },
  {
   "cell_type": "code",
   "execution_count": 82,
   "id": "6f145a45-42a5-4c89-bae6-ecb4ad5617bf",
   "metadata": {},
   "outputs": [],
   "source": [
    "import shutil"
   ]
  },
  {
   "cell_type": "code",
   "execution_count": 83,
   "id": "3ef998c2-4feb-45c6-9ed7-ebd79636d2ca",
   "metadata": {},
   "outputs": [
    {
     "data": {
      "text/plain": [
       "'copy_newtest.txt'"
      ]
     },
     "execution_count": 83,
     "metadata": {},
     "output_type": "execute_result"
    }
   ],
   "source": [
    "shutil.copy(\"newtest.txt\",\"copy_newtest.txt\")"
   ]
  },
  {
   "cell_type": "code",
   "execution_count": 84,
   "id": "4a1f3874-1069-446d-9cf7-c74bbc174003",
   "metadata": {},
   "outputs": [
    {
     "name": "stdout",
     "output_type": "stream",
     "text": [
      "hello riyahello Nirmala\n"
     ]
    }
   ],
   "source": [
    "with open(\"newtest.txt\",'r') as pw:\n",
    "    print(pw.read())"
   ]
  },
  {
   "cell_type": "code",
   "execution_count": null,
   "id": "7df2cb7b-7856-45dd-bcfa-2d81416eae87",
   "metadata": {},
   "outputs": [],
   "source": []
  }
 ],
 "metadata": {
  "kernelspec": {
   "display_name": "Python 3 (ipykernel)",
   "language": "python",
   "name": "python3"
  },
  "language_info": {
   "codemirror_mode": {
    "name": "ipython",
    "version": 3
   },
   "file_extension": ".py",
   "mimetype": "text/x-python",
   "name": "python",
   "nbconvert_exporter": "python",
   "pygments_lexer": "ipython3",
   "version": "3.10.8"
  }
 },
 "nbformat": 4,
 "nbformat_minor": 5
}
