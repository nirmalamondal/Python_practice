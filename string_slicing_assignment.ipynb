{
 "cells": [
  {
   "cell_type": "code",
   "execution_count": 1,
   "id": "f8a7b513-44be-47e2-acd5-8f6301d52c2b",
   "metadata": {},
   "outputs": [
    {
     "name": "stdout",
     "output_type": "stream",
     "text": [
      "'\n"
     ]
    }
   ],
   "source": [
    "#Q1. How can we store a s1ngle quote (‘) as a str1ng 1n a var1able?\n",
    "''' We can store a single quote as a in string under double qoute . See the given example below--'''\n",
    "\n",
    "my_str = \"'\"\n",
    "print(my_str)"
   ]
  },
  {
   "cell_type": "code",
   "execution_count": null,
   "id": "d1482df4-2611-4442-b93f-49ad63e2a7ba",
   "metadata": {},
   "outputs": [],
   "source": [
    "'''Q2.Refer the below var1able:\n",
    "x = 'a'\n",
    "Here, 1s x a character type or str1ng type var1able? Support your answer w1th an explanation.'''\n",
    "\n",
    "\n",
    "\n",
    "\"\"\"\n",
    "In some programming languages like C or C++, there is a distinct \"char\" data type to represent individual characters, and \"string\" is a collection of\n",
    "characters.\n",
    "In Python, there is no separate \"char\" data type, so individual characters are represented as strings of length 1. A single character, like 'a' in \n",
    "your example, is a string containing that character.\"\"\""
   ]
  },
  {
   "cell_type": "code",
   "execution_count": 3,
   "id": "445e6267-601a-433a-9b55-afdd41068937",
   "metadata": {},
   "outputs": [
    {
     "name": "stdout",
     "output_type": "stream",
     "text": [
      "3\n",
      "3\n",
      "35\n"
     ]
    }
   ],
   "source": [
    "\"\"\"Q3. Apply the follow1ng functions on this variable: ‘Welcome to Python foundation course'\n",
    "1.find()\n",
    "2.count()\n",
    "3.len()\"\"\"\n",
    "\n",
    "s = 'Welcome to Python foundation course'\n",
    "print(s.find('co'))\n",
    "print(s.count('e'))\n",
    "print(len(s))\n"
   ]
  },
  {
   "cell_type": "code",
   "execution_count": 4,
   "id": "a762e4c6-c444-40f0-b4ff-a70a0490cec3",
   "metadata": {},
   "outputs": [
    {
     "name": "stdout",
     "output_type": "stream",
     "text": [
      "Total lowercase alphabets: 4\n",
      "Total uppercase alphabets: 2\n",
      "Total numerical digits: 5\n"
     ]
    }
   ],
   "source": [
    "\"\"\"\n",
    "Q4. For the variable: word = 'PanaJi@12256'\n",
    "Calculate the following:\n",
    "(a) Total number of alphabets in lowercase\n",
    "(b) Total number of alphabets in uppercase\n",
    "(c) Total number of numerical in string\n",
    "\"\"\"\n",
    "\n",
    "word = 'PanaJi@12256'\n",
    "lowercase_count = 0\n",
    "uppercase_count = 0\n",
    "numerical_count = 0\n",
    "\n",
    "for char in word:\n",
    "    if char.islower():\n",
    "        lowercase_count += 1\n",
    "    elif char.isupper():\n",
    "        uppercase_count += 1\n",
    "    elif char.isnumeric():\n",
    "        numerical_count += 1\n",
    "\n",
    "print(\"Total lowercase alphabets:\", lowercase_count)\n",
    "print(\"Total uppercase alphabets:\", uppercase_count)\n",
    "print(\"Total numerical digits:\", numerical_count)\n",
    "\n",
    "\n"
   ]
  },
  {
   "cell_type": "code",
   "execution_count": 5,
   "id": "40a526b5-06c7-47d1-b932-a92c9b47036c",
   "metadata": {},
   "outputs": [
    {
     "name": "stdout",
     "output_type": "stream",
     "text": [
      "<class 'str'>\n"
     ]
    }
   ],
   "source": [
    "#Q5. Wr1te a code to store a numerical value inside a variable then convert it into string.\n",
    "\n",
    "num = 123456789\n",
    "num_to_string= str(num)\n",
    "print(type(num_to_string))"
   ]
  },
  {
   "cell_type": "code",
   "execution_count": null,
   "id": "f4e1e24a-e56f-4004-8641-6897139db082",
   "metadata": {},
   "outputs": [],
   "source": []
  }
 ],
 "metadata": {
  "kernelspec": {
   "display_name": "Python 3 (ipykernel)",
   "language": "python",
   "name": "python3"
  },
  "language_info": {
   "codemirror_mode": {
    "name": "ipython",
    "version": 3
   },
   "file_extension": ".py",
   "mimetype": "text/x-python",
   "name": "python",
   "nbconvert_exporter": "python",
   "pygments_lexer": "ipython3",
   "version": "3.10.8"
  }
 },
 "nbformat": 4,
 "nbformat_minor": 5
}
