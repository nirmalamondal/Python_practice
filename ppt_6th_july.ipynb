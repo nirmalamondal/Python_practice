{
 "cells": [
  {
   "cell_type": "code",
   "execution_count": 1,
   "id": "99d247a7-0f67-4203-9cfd-ae5c18f4136e",
   "metadata": {},
   "outputs": [
    {
     "name": "stdin",
     "output_type": "stream",
     "text": [
      "Enter your string hello\n"
     ]
    },
    {
     "name": "stdout",
     "output_type": "stream",
     "text": [
      "Reverse string is :  olleh\n"
     ]
    }
   ],
   "source": [
    "#1. Write a Python program to reverse a string without using any built-in string reversal functions.\n",
    "\n",
    "s = input(\"Enter your string\")\n",
    "print(\"Reverse string is : \",s[::-1])"
   ]
  },
  {
   "cell_type": "code",
   "execution_count": 54,
   "id": "444178b8-a101-4e32-b5db-35d4e75b81f8",
   "metadata": {},
   "outputs": [
    {
     "name": "stdin",
     "output_type": "stream",
     "text": [
      "Enter your string AbbaBba\n"
     ]
    },
    {
     "name": "stdout",
     "output_type": "stream",
     "text": [
      "True\n"
     ]
    }
   ],
   "source": [
    "#2. Implement a function to check if a given string is a palindrome.\n",
    "def isPalindrom(s):\n",
    "    if s == s[::-1]:\n",
    "        return True\n",
    "    return False\n",
    "\n",
    "s = input(\"Enter your string\")\n",
    "s1 = s.lower()\n",
    "print(isPalindrom(s1))\n",
    "    "
   ]
  },
  {
   "cell_type": "code",
   "execution_count": 3,
   "id": "c48ba733-887d-455d-96bc-571d78bcf88b",
   "metadata": {},
   "outputs": [
    {
     "name": "stdin",
     "output_type": "stream",
     "text": [
      "Enter values:  4 8 23 11 9 8 1\n"
     ]
    },
    {
     "name": "stdout",
     "output_type": "stream",
     "text": [
      "23\n"
     ]
    }
   ],
   "source": [
    "#3. Write a program to find the largest element in a given list.\n",
    "x = list(map(int, input(\"Enter values: \"). split()))\n",
    "print(max(x))"
   ]
  },
  {
   "cell_type": "code",
   "execution_count": 4,
   "id": "67d51eb0-8149-40d2-ad18-b103e3c1d18a",
   "metadata": {},
   "outputs": [
    {
     "name": "stdin",
     "output_type": "stream",
     "text": [
      "Enter values:  4 8 2 9 4 5 9 9 2 1\n"
     ]
    },
    {
     "name": "stdout",
     "output_type": "stream",
     "text": [
      "{4: 2, 8: 1, 2: 2, 9: 3, 5: 1, 1: 1}\n"
     ]
    }
   ],
   "source": [
    "#4. Implement a function to count the occurrence of each element in a list.\n",
    "def Count_each(l):\n",
    "    ans = {}\n",
    "    for i in l:\n",
    "        ans[i] = l.count(i)\n",
    "    return ans\n",
    "\n",
    "\n",
    "l = list(map(int, input(\"Enter values: \"). split()))\n",
    "print( Count_each(l))"
   ]
  },
  {
   "cell_type": "code",
   "execution_count": 5,
   "id": "0b2b9be1-3f59-4ce7-8528-2cb57e132ea2",
   "metadata": {},
   "outputs": [
    {
     "name": "stdin",
     "output_type": "stream",
     "text": [
      "Enter values:  56 78 23 1 90 34 66 82\n"
     ]
    },
    {
     "name": "stdout",
     "output_type": "stream",
     "text": [
      "Second Max is :  82\n"
     ]
    }
   ],
   "source": [
    "#5. Write a Python program to find the second largest number in a list.\n",
    "l = list(map(int, input(\"Enter values: \"). split()))\n",
    "l1 = list(set(l))\n",
    "max1 = max(l1)\n",
    "l1.remove(max1)\n",
    "max2 = max(l1)\n",
    "print(\"Second Max is : \", max2)"
   ]
  },
  {
   "cell_type": "code",
   "execution_count": 6,
   "id": "fff01dc6-6266-41c8-8e6d-786fda5a8547",
   "metadata": {},
   "outputs": [
    {
     "name": "stdin",
     "output_type": "stream",
     "text": [
      "Enter values:  5 8 2 6 5 2 1\n"
     ]
    },
    {
     "name": "stdout",
     "output_type": "stream",
     "text": [
      "list after removing duplicates:  [1, 2, 5, 6, 8]\n",
      "list after removing duplicates:  [5, 8, 2, 6, 1]\n"
     ]
    }
   ],
   "source": [
    "#6. Implement a function to remove duplicate elements from a list.\n",
    "l = list(map(int, input(\"Enter values: \"). split()))\n",
    "print(\"list after removing duplicates: \",list(set(l)))\n",
    "\n",
    "ans = []\n",
    "for i in l:\n",
    "    if i not in ans:\n",
    "        ans.append(i)\n",
    "print(\"list after removing duplicates: \",ans)        "
   ]
  },
  {
   "cell_type": "code",
   "execution_count": 7,
   "id": "dbbee7bd-6231-497f-966b-eab4b993d8e9",
   "metadata": {},
   "outputs": [
    {
     "name": "stdin",
     "output_type": "stream",
     "text": [
      "enter the number 5\n"
     ]
    },
    {
     "name": "stdout",
     "output_type": "stream",
     "text": [
      "factorial of your number is:  120\n"
     ]
    }
   ],
   "source": [
    "#7. Write a program to calculate the factorial of a given number.\n",
    "def fact(n):\n",
    "    if n==0 or n==1:\n",
    "        return 1\n",
    "    return n*fact(n-1)\n",
    "\n",
    "\n",
    "n = int(input(\"enter the number\"))\n",
    "print(\"factorial of your number is: \",fact(n))"
   ]
  },
  {
   "cell_type": "code",
   "execution_count": 8,
   "id": "0dd9aba4-e81b-47a4-94cd-24c49515c500",
   "metadata": {},
   "outputs": [
    {
     "name": "stdin",
     "output_type": "stream",
     "text": [
      "enter the number 17\n"
     ]
    },
    {
     "name": "stdout",
     "output_type": "stream",
     "text": [
      "It is a prime number\n"
     ]
    }
   ],
   "source": [
    "#8. Implement a function to check if a given number is prime.\n",
    "\n",
    "def isPrime(n):\n",
    "    if n <= 1:\n",
    "        return False\n",
    "    i = 2\n",
    "    while(i<n):\n",
    "        if n % i == 0:\n",
    "            return False\n",
    "        i += 1\n",
    "    return True\n",
    "\n",
    "\n",
    "n = int(input(\"enter the number\"))\n",
    "if isPrime(n):\n",
    "    print(\"It is a prime number\")\n",
    "else:\n",
    "    print(\"It is not a prime number\")\n",
    "    \n",
    "    \n",
    "      "
   ]
  },
  {
   "cell_type": "code",
   "execution_count": 15,
   "id": "02a9cc75-485f-4655-b055-1b39426c2767",
   "metadata": {},
   "outputs": [
    {
     "name": "stdin",
     "output_type": "stream",
     "text": [
      "Enter values:  5 9 2 4 1 9 6 8 2\n"
     ]
    },
    {
     "name": "stdout",
     "output_type": "stream",
     "text": [
      "[1, 2, 2, 4, 5, 6, 8, 9, 9]\n"
     ]
    }
   ],
   "source": [
    "#9. Write a Python program to sort a list of integers in ascending order.\n",
    "l = list(map(int, input(\"Enter values: \"). split()))\n",
    "l.sort()\n",
    "print(l)\n"
   ]
  },
  {
   "cell_type": "code",
   "execution_count": 16,
   "id": "5b67ba3b-e98d-4960-85e3-16f3b399e361",
   "metadata": {},
   "outputs": [
    {
     "name": "stdin",
     "output_type": "stream",
     "text": [
      "Enter values:  5 2 9 3 5 1\n"
     ]
    },
    {
     "name": "stdout",
     "output_type": "stream",
     "text": [
      "sum of all elements is :  25\n"
     ]
    }
   ],
   "source": [
    "#10. Implement a function to find the sum of all numbers in a list.\n",
    "def totalSum(l):\n",
    "    sum1 = 0\n",
    "    for i in l:\n",
    "        sum1 += i\n",
    "    return sum1  \n",
    "\n",
    "l = list(map(int, input(\"Enter values: \"). split()))\n",
    "print(\"sum of all elements is : \" , totalSum(l))"
   ]
  },
  {
   "cell_type": "code",
   "execution_count": 17,
   "id": "0a489298-45bf-40c3-bf34-9ca6569b1c29",
   "metadata": {},
   "outputs": [
    {
     "name": "stdin",
     "output_type": "stream",
     "text": [
      "Enter values:  3 6 12 9  1 5 \n",
      "Enter values:  5 8 9 2 6 12 9 90 23 2\n"
     ]
    },
    {
     "name": "stdout",
     "output_type": "stream",
     "text": [
      "Common elements are:  [6, 12, 9, 5]\n"
     ]
    }
   ],
   "source": [
    "#11. Write a program to find the common elements between two lists.\n",
    "\n",
    "def commonElements(l1,l2):\n",
    "    ans = []\n",
    "    for i in l1:\n",
    "        if i not in ans and i in l1 and i in l2:\n",
    "            ans.append(i)\n",
    "    return ans        \n",
    "  \n",
    "    \n",
    "l1 = list(map(int, input(\"Enter values: \"). split()))\n",
    "l2 = list(map(int, input(\"Enter values: \"). split()))\n",
    "print(\"Common elements are: \",commonElements(l1,l2) )"
   ]
  },
  {
   "cell_type": "code",
   "execution_count": 19,
   "id": "3f94c7dc-38ca-42c8-8e7f-622cd011f1dc",
   "metadata": {},
   "outputs": [
    {
     "name": "stdin",
     "output_type": "stream",
     "text": [
      "Enter your first string abbULAll\n",
      "Enter your second string LLbaAAlu\n"
     ]
    },
    {
     "name": "stdout",
     "output_type": "stream",
     "text": [
      "strings are anagram\n"
     ]
    }
   ],
   "source": [
    "#12. Implement a function to check if a given string is an anagram of another string.\n",
    "\n",
    "def isAnagram(s1,s2):\n",
    "    if s1 == s2:\n",
    "        return True\n",
    "    if len(s1) != len(s2):\n",
    "        return False\n",
    "    \n",
    "    for i in s1:\n",
    "        if s1.count(i) != s2.count(i):\n",
    "            return False\n",
    "    return True\n",
    "        \n",
    "    \n",
    "    \n",
    "\n",
    "s1 = input(\"Enter your first string\")\n",
    "s1_lower = s1.lower()\n",
    "s2 = input(\"Enter your second string\")\n",
    "s2_lower = s.lower()\n",
    "if(isAnagram(s1_lower,s2_lower)):\n",
    "    print(\"strings are anagram\")\n",
    "else:\n",
    "     print(\"strings are not anagram\")\n",
    "    \n",
    "    \n"
   ]
  },
  {
   "cell_type": "code",
   "execution_count": 20,
   "id": "b662a302-18dd-4b07-85ca-9d771f23c75b",
   "metadata": {},
   "outputs": [
    {
     "name": "stdin",
     "output_type": "stream",
     "text": [
      "Enter the string :  abc\n"
     ]
    },
    {
     "name": "stdout",
     "output_type": "stream",
     "text": [
      "All possible strings are : \n",
      "abc  acb  bac  bca  cab  cba  "
     ]
    }
   ],
   "source": [
    "#13. Write a Python program to generate all permutations of a given string.\n",
    "\n",
    "def permute(s, ans):\n",
    "    if (len(s) == 0):\n",
    "        print(ans, end = \"  \")\n",
    "        return\n",
    "     \n",
    "    for i in range(len(s)):\n",
    "        ch = s[i]\n",
    "        left_substr = s[0:i]\n",
    "        right_substr = s[i + 1:]\n",
    "        rest = left_substr + right_substr\n",
    "        permute(rest, ans + ch)\n",
    "\n",
    "ans = \"\"\n",
    "s = input(\"Enter the string : \")\n",
    "print(\"All possible strings are : \")\n",
    "permute(s, ans)"
   ]
  },
  {
   "cell_type": "code",
   "execution_count": 22,
   "id": "65492f93-89a7-41fc-abad-eb108b8a6bd0",
   "metadata": {},
   "outputs": [
    {
     "name": "stdin",
     "output_type": "stream",
     "text": [
      "Enter the number of terms:  10\n"
     ]
    },
    {
     "name": "stdout",
     "output_type": "stream",
     "text": [
      "0\n",
      "1\n",
      "1\n",
      "2\n",
      "3\n",
      "5\n",
      "8\n",
      "13\n",
      "21\n",
      "34\n"
     ]
    }
   ],
   "source": [
    "#14. Implement a function to calculate the Fibonacci sequence up to a given number of terms.\n",
    "\n",
    "def fib(n):\n",
    "    i = 0\n",
    "    fib = 1\n",
    "    j =0\n",
    "    while j<n:\n",
    "        print(i)\n",
    "        c = i+fib\n",
    "        i = fib\n",
    "        fib = c\n",
    "        j += 1  \n",
    "\n",
    "    \n",
    "    \n",
    "n = int(input(\"Enter the number of terms: \"))\n",
    "fib(n)"
   ]
  },
  {
   "cell_type": "code",
   "execution_count": 26,
   "id": "9b18ae2a-853c-4b0a-a738-de98e0ab0ad4",
   "metadata": {},
   "outputs": [
    {
     "name": "stdin",
     "output_type": "stream",
     "text": [
      "Enter values:  6 9 1 4 0 2\n"
     ]
    },
    {
     "name": "stdout",
     "output_type": "stream",
     "text": [
      "3.0\n"
     ]
    }
   ],
   "source": [
    "#15. Write a program to find the median of a list of numbers.\n",
    "def findMedian(l):\n",
    "    l.sort()\n",
    "    n = len(l)\n",
    "    if n % 2 != 0:\n",
    "        return l[n//2]\n",
    "    else:\n",
    "        return (l[n//2 - 1] + l[n//2])/2\n",
    "    \n",
    "    \n",
    "l = list(map(int, input(\"Enter values: \"). split()))\n",
    "print(findMedian(l))    \n",
    "    \n",
    "    "
   ]
  },
  {
   "cell_type": "code",
   "execution_count": 30,
   "id": "0330f5f5-f928-4146-895d-dab6b2fb06e3",
   "metadata": {},
   "outputs": [
    {
     "name": "stdin",
     "output_type": "stream",
     "text": [
      "Enter values:  24 17 9 6 4 4 0\n"
     ]
    },
    {
     "name": "stdout",
     "output_type": "stream",
     "text": [
      "Yes list is in decreasing order\n"
     ]
    }
   ],
   "source": [
    "#16. Implement a function to check if a given list is sorted in non-decreasing order.\n",
    "def checkDecreasing(l):\n",
    "    for i in range(len(l)-1):\n",
    "        if l[i] < l[i+1]:\n",
    "            return False\n",
    "    return True\n",
    "\n",
    "l = list(map(int, input(\"Enter values: \"). split()))\n",
    "if(checkDecreasing(l)) :  \n",
    "    print(\"Yes list is in decreasing order\")\n",
    "else:\n",
    "    print(\"Yes list is not in decreasing order\")\n",
    "    "
   ]
  },
  {
   "cell_type": "code",
   "execution_count": 31,
   "id": "7152845b-fbfe-4177-b83f-a8b35c7f3bd7",
   "metadata": {},
   "outputs": [
    {
     "name": "stdin",
     "output_type": "stream",
     "text": [
      "Enter values:  1 5 8 2 1 9\n",
      "Enter values:  6 9 4 5 1\n"
     ]
    },
    {
     "name": "stdout",
     "output_type": "stream",
     "text": [
      "Intersection of l1 and l2 is :  [1, 5, 9]\n"
     ]
    }
   ],
   "source": [
    "#17. Write a Python program to find the intersection of two lists.\n",
    "def interSection(l1,l2):\n",
    "    ans = []\n",
    "    for i in l1:\n",
    "        if i not in ans and i in l1 and i in l2:\n",
    "            ans.append(i)\n",
    "    return ans        \n",
    "  \n",
    "    \n",
    "l1 = list(map(int, input(\"Enter values: \"). split()))\n",
    "l2 = list(map(int, input(\"Enter values: \"). split()))\n",
    "print(\"Intersection of l1 and l2 is : \",interSection(l1,l2) )"
   ]
  },
  {
   "cell_type": "code",
   "execution_count": 40,
   "id": "7eb8425f-bfd7-4fcf-91d9-b36af160e9c1",
   "metadata": {},
   "outputs": [
    {
     "name": "stdin",
     "output_type": "stream",
     "text": [
      "Enter values:  2 -1 -7 -9 3 7 \n"
     ]
    },
    {
     "name": "stdout",
     "output_type": "stream",
     "text": [
      "maximum subarray sum is :  10\n"
     ]
    }
   ],
   "source": [
    "#18. Implement a function to find the maximum subarray sum in a given list.\n",
    "def maximumSubarraySum(l):\n",
    "    max_sum = -1000000000\n",
    "    for i in range(len(l)-1):\n",
    "        sum1 = 0\n",
    "        for j in range(i,len(l)):\n",
    "            sum1 += l[j]\n",
    "            max_sum = max(max_sum,sum1)\n",
    "    return max_sum\n",
    "    \n",
    "    \n",
    "l = list(map(int, input(\"Enter values: \"). split()))\n",
    "print(\"maximum subarray sum is : \",maximumSubarraySum(l))"
   ]
  },
  {
   "cell_type": "code",
   "execution_count": 44,
   "id": "b17a8fed-4319-4b29-bef1-8ec6fabeaeb0",
   "metadata": {},
   "outputs": [
    {
     "name": "stdin",
     "output_type": "stream",
     "text": [
      "Enter your string Nirmala Mondal\n"
     ]
    },
    {
     "name": "stdout",
     "output_type": "stream",
     "text": [
      "string without vowels is:  Nrml Mndl\n"
     ]
    }
   ],
   "source": [
    "#19. Write a program to remove all vowels from a given string.\n",
    "def removeVowel(s):\n",
    "    vowels = ['a','e','i','o','u','A','E','I','O','U']\n",
    "    new_s = \"\"          \n",
    "    for i in s:\n",
    "        if i not in vowels:\n",
    "              new_s += i\n",
    "    return new_s          \n",
    "              \n",
    "\n",
    "\n",
    "s = input(\"Enter your string\")\n",
    "print(\"string without vowels is: \",removeVowel(s))\n",
    "    "
   ]
  },
  {
   "cell_type": "code",
   "execution_count": 48,
   "id": "51ad209b-d925-434e-8fe9-e8a60146904b",
   "metadata": {},
   "outputs": [
    {
     "name": "stdin",
     "output_type": "stream",
     "text": [
      "Enter your sentence:  Hello I am Nirmala\n"
     ]
    },
    {
     "name": "stdout",
     "output_type": "stream",
     "text": [
      "Hello I am Nirmala\n",
      "Nirmala am I Hello\n"
     ]
    }
   ],
   "source": [
    "#20. Implement a function to reverse the order of words in a given sentence.\n",
    "\n",
    "def reverseWord(s):\n",
    "    l = list(s.split())\n",
    "    l1 = l[::-1]\n",
    "    result = \" \".join(word for word in l1 if word)\n",
    "    return result\n",
    "    \n",
    "\n",
    "\n",
    "\n",
    "s = input(\"Enter your sentence: \")\n",
    "print(s)\n",
    "print(reverseWord(s))"
   ]
  },
  {
   "cell_type": "code",
   "execution_count": 49,
   "id": "aa8e7b31-486b-40e9-bf2d-90783dc904e6",
   "metadata": {},
   "outputs": [
    {
     "name": "stdin",
     "output_type": "stream",
     "text": [
      "Enter your first string mango\n",
      "Enter your second string goman\n"
     ]
    },
    {
     "name": "stdout",
     "output_type": "stream",
     "text": [
      "strings are anagram\n"
     ]
    }
   ],
   "source": [
    "#21. Write a Python program to check if two strings are anagrams of each other.\n",
    "\n",
    "\n",
    "def isAnagram(s1,s2):\n",
    "    if s1 == s2:\n",
    "        return True\n",
    "    if len(s1) != len(s2):\n",
    "        return False\n",
    "    \n",
    "    for i in s1:\n",
    "        if s1.count(i) != s2.count(i):\n",
    "            return False\n",
    "    return True\n",
    "        \n",
    "    \n",
    "    \n",
    "\n",
    "s1 = input(\"Enter your first string: \")\n",
    "s1_lower = s1.lower()\n",
    "s2 = input(\"Enter your second string: \")\n",
    "s2_lower = s.lower()\n",
    "if(isAnagram(s1_lower,s2_lower)):\n",
    "    print(\"strings are anagram\")\n",
    "else:\n",
    "     print(\"strings are not anagram\")\n",
    "    \n",
    "    "
   ]
  },
  {
   "cell_type": "code",
   "execution_count": 55,
   "id": "109f04cd-844b-4dc1-8007-3e43557dadf2",
   "metadata": {},
   "outputs": [
    {
     "name": "stdin",
     "output_type": "stream",
     "text": [
      "Enter your string Nirmala Mondal\n"
     ]
    },
    {
     "name": "stdout",
     "output_type": "stream",
     "text": [
      "first non-repeating character is :  i\n"
     ]
    }
   ],
   "source": [
    "#22. Implement a function to find the first non-repeating character in a string.\n",
    "\n",
    "def nonRepeating(s):\n",
    "    for i in s:\n",
    "        if  s.count(i) == 1:\n",
    "            return i\n",
    "\n",
    "\n",
    "s1 = input(\"Enter your string\")\n",
    "s1_lower = s1.lower()\n",
    "print(\"first non-repeating character is : \",nonRepeating(s1_lower))"
   ]
  },
  {
   "cell_type": "code",
   "execution_count": 3,
   "id": "ac5a5e00-96b4-4fde-b36f-4bc7eede616c",
   "metadata": {},
   "outputs": [
    {
     "name": "stdin",
     "output_type": "stream",
     "text": [
      "Enter the number :  150\n"
     ]
    },
    {
     "name": "stdout",
     "output_type": "stream",
     "text": [
      "2\n",
      "3\n",
      "5\n",
      "5\n"
     ]
    }
   ],
   "source": [
    "#23. Write a program to find the prime factors of a given number\n",
    "import math\n",
    "\n",
    "def primeFactors(n):\n",
    "    while n % 2 == 0:\n",
    "        print(2)\n",
    "        n = n / 2\n",
    "    for i in range(3,int(math.sqrt(n))+1,2):\n",
    "        while n % i== 0:\n",
    "            print (i)\n",
    "            n = n / i\n",
    "    if n > 2:\n",
    "        print (n)\n",
    "        \n",
    "\n",
    "n = int(input(\"Enter the number : \"))\n",
    "primeFactors(n)\n"
   ]
  },
  {
   "cell_type": "code",
   "execution_count": 3,
   "id": "07873902-202d-47c6-80f2-f1cd3a6a4aea",
   "metadata": {},
   "outputs": [
    {
     "name": "stdin",
     "output_type": "stream",
     "text": [
      "Enter the number :  64\n"
     ]
    },
    {
     "name": "stdout",
     "output_type": "stream",
     "text": [
      "The number is  power of 2\n"
     ]
    }
   ],
   "source": [
    "#24. Implement a function to check if a given number is a power of two.\n",
    "def isPowerOfTwo(n):\n",
    "    if n <= 0:\n",
    "        return False\n",
    "    return (n & (n - 1)) == 0\n",
    "\n",
    "\n",
    "\n",
    "n = int(input(\"Enter the number : \"))\n",
    "if(isPowerOfTwo(n)):\n",
    "    print(\"The number is  power of 2\")\n",
    "else:\n",
    "    print(\"The number is not a power of 2\")\n"
   ]
  },
  {
   "cell_type": "code",
   "execution_count": 4,
   "id": "4def42ff-44e0-42f3-bf1f-6be850baecd7",
   "metadata": {},
   "outputs": [
    {
     "name": "stdin",
     "output_type": "stream",
     "text": [
      "Enter values:  5 9 14 24 33\n",
      "Enter values:  3 7 10 17 21 35 66\n"
     ]
    },
    {
     "name": "stdout",
     "output_type": "stream",
     "text": [
      "Merged list: [3, 5, 7, 9, 10, 14, 17, 21, 24, 33, 35, 66]\n"
     ]
    }
   ],
   "source": [
    "#25. Write a Python program to merge two sorted lists into a single sorted list.\n",
    "def merge_sorted_lists(l1, l2):\n",
    "    merged_list = []\n",
    "    i = 0\n",
    "    j = 0\n",
    "\n",
    "    while i < len(l1) and j < len(l2):\n",
    "        if l1[i] <= l2[j]:\n",
    "            merged_list.append(l1[i])\n",
    "            i += 1\n",
    "        else:\n",
    "            merged_list.append(l2[j])\n",
    "            j += 1\n",
    "\n",
    "    while i < len(l1):\n",
    "        merged_list.append(l1[i])\n",
    "        i += 1\n",
    "\n",
    "    while j < len(l2):\n",
    "        merged_list.append(l2[j])\n",
    "        j += 1\n",
    "\n",
    "    return merged_list\n",
    "\n",
    "\n",
    "l1 =  list(map(int, input(\"Enter values: \"). split()))\n",
    "l2 =   list(map(int, input(\"Enter values: \"). split()))\n",
    "merged = merge_sorted_lists(l1, l2)\n",
    "print(\"Merged list:\", merged)\n"
   ]
  },
  {
   "cell_type": "code",
   "execution_count": 3,
   "id": "ff33c647-deee-433e-a4cd-47e072513394",
   "metadata": {},
   "outputs": [
    {
     "name": "stdin",
     "output_type": "stream",
     "text": [
      "Enter values:  1 0 5 1 8 9 8 2 5 1 9\n"
     ]
    },
    {
     "name": "stdout",
     "output_type": "stream",
     "text": [
      "Mode is :  1\n"
     ]
    }
   ],
   "source": [
    "#26. Implement a function to find the mode of a list of numbers.\n",
    "def findMode(l):\n",
    "    max_count = -1\n",
    "    for i in l:\n",
    "        max_count = max(max_count,l.count(i))\n",
    "    for i in l:\n",
    "        if l.count(i) == max_count:\n",
    "            return i\n",
    "\n",
    "l = list(map(int, input(\"Enter values: \"). split()))\n",
    "print(\"Mode is : \",findMode(l))   "
   ]
  },
  {
   "cell_type": "code",
   "execution_count": 1,
   "id": "dd693ee0-4373-4658-b542-35070739f469",
   "metadata": {},
   "outputs": [
    {
     "name": "stdin",
     "output_type": "stream",
     "text": [
      "Enter first number :  34\n",
      "Enter second number :  68\n"
     ]
    },
    {
     "name": "stdout",
     "output_type": "stream",
     "text": [
      "The GCD of 34 and 68 is: 34\n"
     ]
    }
   ],
   "source": [
    "#27. Write a program to find the greatest common divisor (GCD) of two numbers.\n",
    "def gcd(a, b):\n",
    "    while b != 0:\n",
    "        a, b = b, a % b\n",
    "    return a\n",
    "\n",
    "a = int(input(\"Enter first number : \"))\n",
    "b = int(input(\"Enter second number : \"))        \n",
    "result = gcd(a, b)\n",
    "print(\"The GCD of\", a, \"and\", b, \"is:\", result)\n"
   ]
  },
  {
   "cell_type": "code",
   "execution_count": 5,
   "id": "4f10db3b-d7f7-42f0-bea9-5c7332e3adff",
   "metadata": {},
   "outputs": [
    {
     "name": "stdin",
     "output_type": "stream",
     "text": [
      "enter the number:  11\n"
     ]
    },
    {
     "name": "stdout",
     "output_type": "stream",
     "text": [
      "squareroot of the number is : 3\n"
     ]
    }
   ],
   "source": [
    "#28. Implement a function to calculate the square root of a given number.\n",
    "import math\n",
    " \n",
    "def findSquareRoot(n):\n",
    "    result = math.exp(math.log(n) / 2)\n",
    "    floorResult = math.floor(result)\n",
    "    return floorResult\n",
    "    \n",
    "    \n",
    "n = int(input(\"enter the number: \"))\n",
    "print(\"squareroot of the number is :\",findSquareRoot(n))"
   ]
  },
  {
   "cell_type": "code",
   "execution_count": 3,
   "id": "4f597c14-1163-4002-a004-b31061594eb7",
   "metadata": {},
   "outputs": [
    {
     "name": "stdin",
     "output_type": "stream",
     "text": [
      "Enter your string A(b*bbB$@a\n"
     ]
    },
    {
     "name": "stdout",
     "output_type": "stream",
     "text": [
      "True\n"
     ]
    }
   ],
   "source": [
    "#29. Write a Python program to check if a given string is a valid palindrome ignoring non-alphanumeric characters.\n",
    "def isPalindrom(s):\n",
    "    ans = \"\"\n",
    "    for i in s:\n",
    "        if i.isalpha():\n",
    "            ans += i\n",
    "    s1 = ans.lower()       \n",
    "    if s1 == s1[::-1]:\n",
    "        return True\n",
    "    return False\n",
    "\n",
    "s = input(\"Enter your string\")\n",
    "print(isPalindrom(s))"
   ]
  },
  {
   "cell_type": "code",
   "execution_count": 4,
   "id": "33187461-f23c-48ab-9859-5c418cbd43b2",
   "metadata": {},
   "outputs": [
    {
     "name": "stdin",
     "output_type": "stream",
     "text": [
      "Enter values:  23 45 67 19 21 22\n"
     ]
    },
    {
     "name": "stdout",
     "output_type": "stream",
     "text": [
      "Minimum number is :  19\n"
     ]
    }
   ],
   "source": [
    "#30. Implement a function to find the minimum element in a rotated sorted list.\n",
    "def find_minimum_in_rotated(l):\n",
    "    left = 0\n",
    "    right = len(l) - 1\n",
    "    \n",
    "    while left < right:\n",
    "        mid = left + (right - left) // 2        \n",
    "        if l[mid] > l[right]:\n",
    "            left = mid + 1\n",
    "        else:\n",
    "            right = mid\n",
    "    \n",
    "    return l[left]\n",
    "l = list(map(int, input(\"Enter values: \"). split()))\n",
    "print(\"Minimum number is : \",find_minimum_in_rotated(l))   "
   ]
  },
  {
   "cell_type": "code",
   "execution_count": 5,
   "id": "7639916b-6d76-4bac-81bb-a9fa13cd0a46",
   "metadata": {},
   "outputs": [
    {
     "name": "stdin",
     "output_type": "stream",
     "text": [
      "Enter values:  0 6 3 19 -4\n"
     ]
    },
    {
     "name": "stdout",
     "output_type": "stream",
     "text": [
      "Sum of all even number is :  2\n"
     ]
    }
   ],
   "source": [
    "#31. Write a program to find the sum of all even numbers in a list.\n",
    "def sum_of_even(l):\n",
    "    ans = 0\n",
    "    for i in l:\n",
    "        if i % 2 == 0 :\n",
    "            ans += i\n",
    "            \n",
    "    return ans\n",
    "\n",
    "l = list(map(int, input(\"Enter values: \"). split()))\n",
    "print(\"Sum of all even number is : \",sum_of_even(l)) "
   ]
  },
  {
   "cell_type": "code",
   "execution_count": 6,
   "id": "527ff065-43d2-4a90-a447-0d5d8791ac0a",
   "metadata": {},
   "outputs": [
    {
     "name": "stdin",
     "output_type": "stream",
     "text": [
      "Enter Base:  2\n",
      "Enter Base:  3\n"
     ]
    },
    {
     "name": "stdout",
     "output_type": "stream",
     "text": [
      "power of 2 to the power 3 is 8\n"
     ]
    }
   ],
   "source": [
    "#32. Implement a function to calculate the power of a number using recursion.\n",
    "def power(base, exponent):\n",
    "    if exponent == 0:\n",
    "        return 1\n",
    "    elif exponent > 0:\n",
    "        return base * power(base, exponent - 1)\n",
    "    else:\n",
    "        return 1 / base * power(base, exponent + 1)\n",
    "\n",
    "    \n",
    "base = int(input(\"Enter Base: \"))\n",
    "exponent = int(input(\"Enter Base: \"))\n",
    "print(\"power of\", base,\"to the power\",exponent,\"is\",power(base, exponent))"
   ]
  },
  {
   "cell_type": "code",
   "execution_count": 6,
   "id": "6fd00a2e-1779-4763-ae03-5c79eca6ad33",
   "metadata": {},
   "outputs": [
    {
     "name": "stdin",
     "output_type": "stream",
     "text": [
      "Enter values:  7 3 1 8 1 8 8 2\n"
     ]
    },
    {
     "name": "stdout",
     "output_type": "stream",
     "text": [
      "list before removing duplicates:  [7, 3, 1, 8, 1, 8, 8, 2]\n",
      "list after removing duplicates:  [7, 3, 1, 8, 2]\n"
     ]
    }
   ],
   "source": [
    "#33. Write a Python program to remove duplicates from a list while preserving the order.\n",
    "l = list(map(int, input(\"Enter values: \"). split()))\n",
    "\n",
    "\n",
    "ans = []\n",
    "for i in l:\n",
    "    if i not in ans:\n",
    "        ans.append(i)\n",
    "print(\"list before removing duplicates: \",l)            \n",
    "print(\"list after removing duplicates: \",ans)    "
   ]
  },
  {
   "cell_type": "code",
   "execution_count": null,
   "id": "0e3368e3-d214-4aa8-a2e1-db8f4bae7b5a",
   "metadata": {},
   "outputs": [],
   "source": [
    "#34. Implement a function to find the longest common prefix among a list of strings"
   ]
  },
  {
   "cell_type": "code",
   "execution_count": 7,
   "id": "a5fc544b-591e-4ea9-9871-c723b70c8aab",
   "metadata": {},
   "outputs": [
    {
     "name": "stdin",
     "output_type": "stream",
     "text": [
      "enter the number:  34\n"
     ]
    },
    {
     "name": "stdout",
     "output_type": "stream",
     "text": [
      "It is not a perfect sqaure number\n"
     ]
    }
   ],
   "source": [
    "#35. Write a program to check if a given number is a perfect square.\n",
    "import math\n",
    "\n",
    "def isPerfectSquare(n):\n",
    "    if int(math.sqrt(n))*int(math.sqrt(n)) == n:\n",
    "        return True\n",
    "    return False\n",
    "        \n",
    "n = int(input(\"enter the number: \"))\n",
    "if (isPerfectSquare(n)):\n",
    "    print(\"It is a perfect square number\")\n",
    "else:\n",
    "    print(\"It is not a perfect sqaure number\")"
   ]
  },
  {
   "cell_type": "code",
   "execution_count": 7,
   "id": "8ba923eb-e9c8-4a62-86ed-60f4f977fc95",
   "metadata": {},
   "outputs": [
    {
     "name": "stdin",
     "output_type": "stream",
     "text": [
      "Enter values:  3 1 -3 -1 2\n"
     ]
    },
    {
     "name": "stdout",
     "output_type": "stream",
     "text": [
      "Product of all the number is :  18\n"
     ]
    }
   ],
   "source": [
    "#36. Implement a function to calculate the product of all elements in a list.\n",
    "def product_of_even(l):\n",
    "    ans = 1\n",
    "    for i in l:\n",
    "        ans *= i\n",
    "            \n",
    "    return ans\n",
    "\n",
    "l = list(map(int, input(\"Enter values: \"). split()))\n",
    "print(\"Product of all the number is : \",product_of_even(l)) "
   ]
  },
  {
   "cell_type": "code",
   "execution_count": 1,
   "id": "d4dac1c3-5ad9-452c-94de-9368d20d9792",
   "metadata": {},
   "outputs": [
    {
     "name": "stdin",
     "output_type": "stream",
     "text": [
      "Enter your sentence:  hello How are you Nirmala?\n"
     ]
    },
    {
     "name": "stdout",
     "output_type": "stream",
     "text": [
      "hello How are you Nirmala?\n",
      "Nirmala? you are How hello\n"
     ]
    }
   ],
   "source": [
    "#37. Write a Python program to reverse the order of words in a sentence while preserving the word order.\n",
    "def reverseWord(s):\n",
    "    l = list(s.split())\n",
    "    l1 = l[::-1]\n",
    "    result = \" \".join(word for word in l1 if word)\n",
    "    return result\n",
    "    \n",
    "\n",
    "\n",
    "\n",
    "s = input(\"Enter your sentence: \")\n",
    "print(s)\n",
    "print(reverseWord(s))"
   ]
  },
  {
   "cell_type": "code",
   "execution_count": 6,
   "id": "2f056b98-f22c-4343-8320-bc94d570c466",
   "metadata": {},
   "outputs": [
    {
     "name": "stdin",
     "output_type": "stream",
     "text": [
      "Enter values:  6 2 7 1 3 5\n"
     ]
    },
    {
     "name": "stdout",
     "output_type": "stream",
     "text": [
      "Missing number is :  4\n"
     ]
    }
   ],
   "source": [
    "#38. Implement a function to find the missing number in a given list of consecutive numbers.\n",
    "def missingNumber(l):\n",
    "    ma = max(l)\n",
    "    mi = min(l)\n",
    "    for i in range(mi , ma + 1):\n",
    "        if i not in l:\n",
    "            return i\n",
    "    \n",
    "    \n",
    "l = list(map(int, input(\"Enter values: \"). split()))\n",
    "print(\"Missing number is : \",missingNumber(l))    "
   ]
  },
  {
   "cell_type": "code",
   "execution_count": 5,
   "id": "9a5b1609-8a05-458a-9845-791f83c4970d",
   "metadata": {},
   "outputs": [
    {
     "name": "stdin",
     "output_type": "stream",
     "text": [
      "enter the number:  4501\n"
     ]
    },
    {
     "name": "stdout",
     "output_type": "stream",
     "text": [
      "sum of digits are:  10\n"
     ]
    }
   ],
   "source": [
    "#39. Write a program to find the sum of digits of a given number\n",
    "def sumOfDigits(n):\n",
    "    sum1= 0;\n",
    "    \n",
    "    while(n):\n",
    "        rem = n%10\n",
    "        sum1 += rem\n",
    "        n = n//10\n",
    "    return sum1    \n",
    "\n",
    "        \n",
    "n = int(input(\"enter the number: \"))\n",
    "print(\"sum of digits is: \",sumOfDigits(n))"
   ]
  },
  {
   "cell_type": "code",
   "execution_count": 3,
   "id": "362b4fbc-0664-4880-a7a0-e8bdb5d9eb72",
   "metadata": {},
   "outputs": [
    {
     "name": "stdin",
     "output_type": "stream",
     "text": [
      "Enter your string niNiIniN\n"
     ]
    },
    {
     "name": "stdout",
     "output_type": "stream",
     "text": [
      "True\n"
     ]
    }
   ],
   "source": [
    "#40. Implement a function to check if a given string is a valid palindrome considering case sensitivity.\n",
    "def isPalindrom(s):\n",
    "    if s == s[::-1]:\n",
    "        return True\n",
    "    return False\n",
    "\n",
    "s = input(\"Enter your string\")\n",
    "s1 = s.lower()\n",
    "print(isPalindrom(s1))"
   ]
  },
  {
   "cell_type": "code",
   "execution_count": 2,
   "id": "6c853244-7a25-4e03-aa14-2a6d9105cbed",
   "metadata": {},
   "outputs": [
    {
     "name": "stdin",
     "output_type": "stream",
     "text": [
      "Enter the range of list :  9\n",
      "Enter values of list :  5 2 -1 0 -3 1 7 8 9\n"
     ]
    },
    {
     "name": "stdout",
     "output_type": "stream",
     "text": [
      "Least Positive missing number is:  3\n"
     ]
    }
   ],
   "source": [
    "#41. Write a Python program to find the smallest missing positive integer in a list.\n",
    "def findLeatPositive(l):\n",
    "    for i in range(1,n+1):\n",
    "        if i not in l:\n",
    "            return i\n",
    "    \n",
    "    \n",
    "    \n",
    "n = int(input(\"Enter the range of list : \"))  \n",
    "l = list(map(int, input(\"Enter values of list : \"). split()))\n",
    "print(\"Least Positive missing number is: \",findLeatPositive(l))"
   ]
  },
  {
   "cell_type": "code",
   "execution_count": 7,
   "id": "c3db008a-a87c-4a65-b17c-c79adff36150",
   "metadata": {},
   "outputs": [
    {
     "name": "stdin",
     "output_type": "stream",
     "text": [
      "Enter your whole string in lowercase or uppercase hello\n"
     ]
    },
    {
     "name": "stdout",
     "output_type": "stream",
     "text": [
      "longest palindrom substring:  ll\n"
     ]
    }
   ],
   "source": [
    "#42. Implement a function to find the longest palindrome substring in a given string.\n",
    "def longest_palindrome(s):\n",
    "    if len(s) == 0:\n",
    "        return \"\"\n",
    "    start = 0\n",
    "    end = 0\n",
    "    for i in range(len(s)):\n",
    "        len1 = expand_around_center(s, i, i)\n",
    "        len2 = expand_around_center(s, i, i + 1)\n",
    "        length = max(len1, len2)\n",
    "\n",
    "        if length > end - start:\n",
    "            start = i - (length - 1) // 2\n",
    "            end = i + length // 2\n",
    "\n",
    "    return s[start:end + 1]\n",
    "\n",
    "\n",
    "def expand_around_center(s, left, right):\n",
    "    while left >= 0 and right < len(s) and s[left] == s[right]:\n",
    "        left -= 1\n",
    "        right += 1\n",
    "\n",
    "    return right - left - 1\n",
    "\n",
    "s = input(\"Enter your whole string in lowercase or uppercase\")\n",
    "print(\"longest palindrom substring: \",longest_palindrome(s))"
   ]
  },
  {
   "cell_type": "code",
   "execution_count": 1,
   "id": "3b8acb2c-79ce-47ae-b41b-077a2c0b9e5e",
   "metadata": {},
   "outputs": [
    {
     "name": "stdin",
     "output_type": "stream",
     "text": [
      "Enter values of list :  6 9 2 3 8 9 3 9 0 1 5\n",
      "Enter the numberto check the occurance :  9\n"
     ]
    },
    {
     "name": "stdout",
     "output_type": "stream",
     "text": [
      "occurance of that number in the list is:  3\n"
     ]
    }
   ],
   "source": [
    "#43. Write a program to find the number of occurrences of a given element in a list.\n",
    "def countOccurance(l,n):\n",
    "    return l.count(n)\n",
    "\n",
    "\n",
    "l = list(map(int, input(\"Enter values of list : \"). split()))\n",
    "n = int(input(\"Enter the number to check the occurance : \"))\n",
    "print(\"occurance of that number in the list is: \",countOccurance(l,n))"
   ]
  },
  {
   "cell_type": "code",
   "execution_count": 4,
   "id": "16c62574-6fce-4ca3-9d41-cc1dec7c7a1f",
   "metadata": {},
   "outputs": [
    {
     "name": "stdin",
     "output_type": "stream",
     "text": [
      "enter the number:  28\n"
     ]
    },
    {
     "name": "stdout",
     "output_type": "stream",
     "text": [
      "It is a perfect number\n"
     ]
    }
   ],
   "source": [
    "#44. Implement a function to check if a given number is a perfect number.\n",
    "def isPerfectnumber(n):\n",
    "    sum1 = 0\n",
    "    for i in range(1,n):\n",
    "        if n%i == 0:\n",
    "            sum1 += i\n",
    "    return  sum1 ==n\n",
    "\n",
    "n = int(input(\"enter the number: \"))\n",
    "if (isPerfectnumber(n)):\n",
    "    print(\"It is a perfect number\")\n",
    "else:\n",
    "    print(\"It is not a perfect number\")\n",
    "    \n",
    "            \n",
    "        "
   ]
  },
  {
   "cell_type": "code",
   "execution_count": 1,
   "id": "f3c50d89-b95a-4476-abbc-3b6b39f7c71a",
   "metadata": {},
   "outputs": [
    {
     "name": "stdin",
     "output_type": "stream",
     "text": [
      "Enter your whole string in lowercase or uppercase nirmala mondal\n"
     ]
    },
    {
     "name": "stdout",
     "output_type": "stream",
     "text": [
      "after removing duplicates:  nirmal od\n"
     ]
    }
   ],
   "source": [
    "#45. Write a Python program to remove all duplicates from a string.\n",
    "\n",
    "def removeDuplicatesChar(s):\n",
    "    ans = \"\"\n",
    "    for i in s:\n",
    "        if i not in ans:\n",
    "            ans += i\n",
    "    return ans\n",
    "\n",
    "\n",
    "s = input(\"Enter your whole string in lowercase or uppercase\")\n",
    "print(\"after removing duplicates: \",removeDuplicatesChar(s))"
   ]
  },
  {
   "cell_type": "code",
   "execution_count": 3,
   "id": "447bd7ce-32f3-4761-b9c7-ff670db6999f",
   "metadata": {},
   "outputs": [
    {
     "name": "stdin",
     "output_type": "stream",
     "text": [
      "Enter values of list :  -2 4 1 3\n"
     ]
    },
    {
     "name": "stdout",
     "output_type": "stream",
     "text": [
      "occurance of that number in the list is:  2\n"
     ]
    }
   ],
   "source": [
    "#46. Implement a function to find the first missing positive\n",
    "\n",
    "def firstMissingPositive(l):\n",
    "    n = len(l)    \n",
    "    for i in range(1,len(l)):\n",
    "        if i not in l:\n",
    "            return i\n",
    "    \n",
    "    \n",
    "    \n",
    "    \n",
    "l = list(map(int, input(\"Enter values of list : \"). split()))\n",
    "print(\"occurance of that number in the list is: \",firstMissingPositive(l))"
   ]
  },
  {
   "cell_type": "code",
   "execution_count": null,
   "id": "880a65d5-4138-4380-b629-3ffefa6a57a0",
   "metadata": {},
   "outputs": [],
   "source": []
  }
 ],
 "metadata": {
  "kernelspec": {
   "display_name": "Python 3 (ipykernel)",
   "language": "python",
   "name": "python3"
  },
  "language_info": {
   "codemirror_mode": {
    "name": "ipython",
    "version": 3
   },
   "file_extension": ".py",
   "mimetype": "text/x-python",
   "name": "python",
   "nbconvert_exporter": "python",
   "pygments_lexer": "ipython3",
   "version": "3.10.8"
  }
 },
 "nbformat": 4,
 "nbformat_minor": 5
}
