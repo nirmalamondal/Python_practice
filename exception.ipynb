{
 "cells": [
  {
   "cell_type": "code",
   "execution_count": 2,
   "id": "d9a70d63-017c-4f4c-97a4-5057f58d0336",
   "metadata": {},
   "outputs": [
    {
     "name": "stdout",
     "output_type": "stream",
     "text": [
      "this is my exception block\n"
     ]
    }
   ],
   "source": [
    "try:\n",
    "    f = open(\"test.txt\",'r')\n",
    "    \n",
    "except Exception as e:\n",
    "    print(\"this is my exception block\")"
   ]
  },
  {
   "cell_type": "code",
   "execution_count": 3,
   "id": "536bd318-bad1-45a4-897c-35179c6ecb78",
   "metadata": {},
   "outputs": [],
   "source": [
    "try:\n",
    "    f = open(\"test.txt\",'w')\n",
    "    f.write(\"hello\")\n",
    "    f.close()\n",
    "except Exception as e:\n",
    "    print(\"this is my exception block\")"
   ]
  },
  {
   "cell_type": "code",
   "execution_count": 4,
   "id": "acceecf0-9c60-43ad-86ad-7d2067de1e47",
   "metadata": {},
   "outputs": [
    {
     "name": "stdout",
     "output_type": "stream",
     "text": [
      "This block will be executed once your try will execute without error\n"
     ]
    }
   ],
   "source": [
    "try:\n",
    "    f = open(\"test.txt\",'w')\n",
    "    f.write(\"hello\")\n",
    "except Exception as e:\n",
    "    print(\"this is my exception block\")\n",
    "    \n",
    "else:\n",
    "    f.close()\n",
    "    print(\"This block will be executed once your try will execute without error\")"
   ]
  },
  {
   "cell_type": "code",
   "execution_count": 5,
   "id": "34cc345d-1d3c-4bf1-a6e6-980998ca433a",
   "metadata": {},
   "outputs": [
    {
     "name": "stdout",
     "output_type": "stream",
     "text": [
      "this is my exception block\n"
     ]
    }
   ],
   "source": [
    "try:\n",
    "    f = open(\"test1.txt\",'r')\n",
    "    f.write(\"hello\")\n",
    "except Exception as e:\n",
    "    print(\"this is my exception block\")\n",
    "    \n",
    "else:\n",
    "    f.close()\n",
    "    print(\"This block will be executed once your try will execute without error\")"
   ]
  },
  {
   "cell_type": "code",
   "execution_count": null,
   "id": "dee534da-a45e-4601-84e3-474830c3d451",
   "metadata": {},
   "outputs": [],
   "source": [
    "try:\n",
    "    f = open(\"test1.txt\",'w')\n",
    "    f.write(\"hello Nirmala\")\n",
    "finally :\n",
    "    print(\"execute i\")\n",
    "except Exception as e:\n",
    "    print(\"this is my exception block\")\n",
    "    \n",
    "else:\n",
    "    f.close()\n",
    "    print(\"This block will be executed once your try will execute without error\")"
   ]
  },
  {
   "cell_type": "code",
   "execution_count": null,
   "id": "bd85afc2-9e7b-4196-aef4-2a518bcafb68",
   "metadata": {},
   "outputs": [],
   "source": []
  },
  {
   "cell_type": "code",
   "execution_count": null,
   "id": "59b430f8-f09f-4dc5-b141-6b07097192c2",
   "metadata": {},
   "outputs": [],
   "source": []
  }
 ],
 "metadata": {
  "kernelspec": {
   "display_name": "Python 3 (ipykernel)",
   "language": "python",
   "name": "python3"
  },
  "language_info": {
   "codemirror_mode": {
    "name": "ipython",
    "version": 3
   },
   "file_extension": ".py",
   "mimetype": "text/x-python",
   "name": "python",
   "nbconvert_exporter": "python",
   "pygments_lexer": "ipython3",
   "version": "3.10.8"
  }
 },
 "nbformat": 4,
 "nbformat_minor": 5
}
