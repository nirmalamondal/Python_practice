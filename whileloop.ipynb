{
 "cells": [
  {
   "cell_type": "code",
   "execution_count": null,
   "id": "ec52ac5f-d099-425d-b614-2611964aaf0e",
   "metadata": {},
   "outputs": [],
   "source": [
    "i = 0 \n",
    "while i<=10:\n",
    "    print(i)\n",
    "    i += 1"
   ]
  },
  {
   "cell_type": "code",
   "execution_count": null,
   "id": "c5478499-8553-4182-8c66-c7fa1429ee25",
   "metadata": {},
   "outputs": [],
   "source": [
    "i = 1 \n",
    "n = int(input(\"Enter the number\"))\n",
    "sum1 = 0\n",
    "while i<=n:\n",
    "    sum1 += i\n",
    "    i += 1\n",
    "print(sum1)    "
   ]
  },
  {
   "cell_type": "code",
   "execution_count": null,
   "id": "741fc62a-31bf-4d69-a1ea-dd09ca10048e",
   "metadata": {},
   "outputs": [],
   "source": [
    "i = int(input(\"Enter the number\"))\n",
    "while i>0:\n",
    "    print(i)\n",
    "    i -= 1   "
   ]
  },
  {
   "cell_type": "code",
   "execution_count": 4,
   "id": "1067909d-5612-4e4c-b676-4460cbb0c9f7",
   "metadata": {},
   "outputs": [
    {
     "name": "stdin",
     "output_type": "stream",
     "text": [
      "Enter the number 5\n"
     ]
    },
    {
     "name": "stdout",
     "output_type": "stream",
     "text": [
      "120\n"
     ]
    }
   ],
   "source": [
    "i = 1 \n",
    "n = int(input(\"Enter the number\"))\n",
    "fac = 1\n",
    "while i<=n:\n",
    "    fac *= i\n",
    "    i += 1\n",
    "print(fac)    "
   ]
  },
  {
   "cell_type": "code",
   "execution_count": 14,
   "id": "7644883f-c726-4f6e-8c74-774700393e34",
   "metadata": {},
   "outputs": [
    {
     "name": "stdin",
     "output_type": "stream",
     "text": [
      "Enter the number 10\n"
     ]
    },
    {
     "name": "stdout",
     "output_type": "stream",
     "text": [
      "0\n",
      "1\n",
      "1\n",
      "2\n",
      "3\n",
      "5\n",
      "8\n",
      "13\n",
      "21\n",
      "34\n"
     ]
    }
   ],
   "source": [
    "i = 0\n",
    "n = int(input(\"Enter the number\"))\n",
    "fib = 1\n",
    "j =0\n",
    "while j<n:\n",
    "    print(i)\n",
    "    c = i+fib\n",
    "    i = fib\n",
    "    fib = c\n",
    "    j += 1  "
   ]
  },
  {
   "cell_type": "code",
   "execution_count": null,
   "id": "f3f5769e-3ea9-4d67-80b3-af01dcc7d544",
   "metadata": {},
   "outputs": [],
   "source": [
    "s = \"nirmala\"\n",
    "i = len(s) \n",
    "s1 = \"\"\n",
    "while i>0 :\n",
    "    s1 = s1 + s[i-1]\n",
    "    i = i - 1\n",
    "print(s1)    "
   ]
  },
  {
   "cell_type": "code",
   "execution_count": 1,
   "id": "38e76cdb-4a61-4621-9884-9045cd0d29d4",
   "metadata": {},
   "outputs": [
    {
     "name": "stdout",
     "output_type": "stream",
     "text": [
      "0\n",
      "1\n",
      "2\n",
      "3\n",
      "4\n"
     ]
    }
   ],
   "source": [
    "i = 0\n",
    "while i <= 10:\n",
    "    if i < 5:\n",
    "        print(i)\n",
    "    elif i == 7:\n",
    "        break\n",
    "    i += 1    "
   ]
  },
  {
   "cell_type": "code",
   "execution_count": null,
   "id": "5cdfc297-62d2-45ee-b8f0-ee83140f4280",
   "metadata": {},
   "outputs": [],
   "source": []
  }
 ],
 "metadata": {
  "kernelspec": {
   "display_name": "Python 3 (ipykernel)",
   "language": "python",
   "name": "python3"
  },
  "language_info": {
   "codemirror_mode": {
    "name": "ipython",
    "version": 3
   },
   "file_extension": ".py",
   "mimetype": "text/x-python",
   "name": "python",
   "nbconvert_exporter": "python",
   "pygments_lexer": "ipython3",
   "version": "3.10.8"
  }
 },
 "nbformat": 4,
 "nbformat_minor": 5
}
